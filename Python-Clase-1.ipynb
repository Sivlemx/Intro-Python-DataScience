{
 "cells": [
  {
   "cell_type": "markdown",
   "metadata": {},
   "source": [
    "# Python para Psicólogos\n",
    "## Javier Villanueva-Valle\n",
    "<javier830409@gmail.com>\n",
    "\n",
    "* Guido Van Rossum en 1991\n",
    "* Propósito General: Construir lo que gustes y mandes\n",
    "* ¡Open Source! ¡Gratis!\n",
    "* Paquetes Python, también para ciencia de datos\n",
    "* Muchas aplicaciones y muchos campos\n",
    "    * Desarrollo web e Internet.\n",
    "    * Acceso a la base de datos.\n",
    "    * GUIs de escritorio.\n",
    "    * Científico y numérico.\n",
    "    * Educación.\n",
    "    * Programación de red.\n",
    "    * Desarrollo de Software y Juegos.\n",
    "* [**Python**](https://www.python.org/) Version 3.x \n",
    "* [Anaconda](https://www.anaconda.com/products/individual)\n",
    "\n",
    "### Ventajas\n",
    "* Simplificado y rápido\n",
    "* Elegante y flexible\n",
    "* Programación sana y productiva\n",
    "* Ordenado y limpio\n",
    "* Lenguaje Interpretado\n",
    "* Multiplataforma\n",
    "* Extensa comunidad\n",
    "\n",
    "### Desventajas\n",
    "* Curva de aprendizaje\n",
    "* Hosting\n",
    "* Librerías propias que están incluidas (Usan librerías de terceros)"
   ]
  },
  {
   "cell_type": "markdown",
   "metadata": {},
   "source": [
    "Inicio 2 Julio 2020\n",
    "![Comencemos](https://i.imgur.com/5A22MNp.gif)"
   ]
  },
  {
   "cell_type": "markdown",
   "metadata": {},
   "source": [
    "### Modulo I: Uso de Anaconda - Instalación\n",
    "* [Documentación en línea](https://docs.anaconda.com/anaconda/user-guide/getting-started/)\n",
    "* [Uso del Navegador](https://docs.anaconda.com/anaconda/navigator/getting-started/)\n",
    "* [Guía Inicial](https://conda.io/projects/conda/en/latest/user-guide/getting-started.html)\n",
    "* [Anaconda Navigator](https://docs.anaconda.com/anaconda/navigator/)\n",
    "* [Uso de Conda (*crear ambiente)*](https://conda.io/projects/conda/en/latest/user-guide/getting-started.html)\n",
    "* [Trucos en Conda](https://conda.io/projects/conda/en/latest/_downloads/843d9e0198f2a193a3484886fa28163c/conda-cheatsheet.pdf)\n",
    "* [Documentación Conda](https://conda.io/projects/conda/en/latest/user-guide/index.html)\n",
    "\n",
    "~~~\n",
    "conda info --envs\n",
    "conda create --name \"el-nombre-que-yo-quiera\"\n",
    "conda info --envs\n",
    "conda activate \"el-nombre-que-yo-quiera\"\n",
    "conda update conda\n",
    "conda update anaconda\n",
    "conda update --all -y\n",
    "conda list\n",
    "conda install pandas numpy matplotlib spyder\n",
    "conda install -c conda-forge jupyterlab\n",
    "conda install -c conda-forge notebook\n",
    "conda list\n",
    "~~~"
   ]
  },
  {
   "cell_type": "markdown",
   "metadata": {},
   "source": [
    "### Modulo II: Tipos"
   ]
  },
  {
   "cell_type": "markdown",
   "metadata": {},
   "source": [
    "- (str) -> string -> 'Python para Psicólogos', '2020', '0.05'\n",
    "- (int) -> integer -> 2020, 2, 0, 20\n",
    "- (float) -> float -> 1.5, 0.05\n",
    "- (bool) -> bool -> True, False"
   ]
  },
  {
   "cell_type": "markdown",
   "metadata": {},
   "source": [
    "#### Ejemplos"
   ]
  },
  {
   "cell_type": "code",
   "execution_count": 59,
   "metadata": {},
   "outputs": [],
   "source": [
    "nombre = 'Javier'\n",
    "edad_str = '37'\n",
    "edad_int = 37\n",
    "edad_float = 37.0\n",
    "bool1 = True\n",
    "bool2 = False\n",
    "sexo_bool = 'masculino'"
   ]
  },
  {
   "cell_type": "code",
   "execution_count": 61,
   "metadata": {},
   "outputs": [],
   "source": [
    "print(type(nombre))\n",
    "print(type(edad_str))\n",
    "print(type(edad_int))\n",
    "print(type(edad_float))\n",
    "print(type(bool1))\n",
    "print(type(bool2))\n",
    "print(sexo_bool.isalpha())\n",
    "print(sexo_bool.isdigit())"
   ]
  },
  {
   "cell_type": "markdown",
   "metadata": {},
   "source": [
    "### Modulo III: Variables\n",
    "#### Operadores aritméticos"
   ]
  },
  {
   "cell_type": "code",
   "execution_count": null,
   "metadata": {},
   "outputs": [],
   "source": [
    "val1 = 'Javier'\n",
    "val2 = 'Villanueva'\n",
    "val3 = 'Quiero juntar las dos variables, ¿Cómo?' # Pista '+'"
   ]
  },
  {
   "cell_type": "code",
   "execution_count": 44,
   "metadata": {},
   "outputs": [],
   "source": [
    "suma = 4 + 7\n",
    "resta = 4 - 7\n",
    "multi = 4 * 7\n",
    "exponente = 4 ** 7\n",
    "div = 13 / 7\n",
    "div_int = 13 // 7"
   ]
  },
  {
   "cell_type": "code",
   "execution_count": 10,
   "metadata": {},
   "outputs": [],
   "source": [
    "suma = 'Javier' + 3\n",
    "resta = 'Javier' - 3\n",
    "multi = 'Javier' * 3\n",
    "exponente = 'Javier' ** 3\n",
    "div = 'Javier' / 3\n",
    "div_int = 'Javier' // 3"
   ]
  },
  {
   "cell_type": "code",
   "execution_count": null,
   "metadata": {},
   "outputs": [],
   "source": [
    "# Conversión de datos <-> int-float, int-str, float-int, float-str, str-int, str-float \n",
    "suma = 4 + 7\n",
    "resta = 4 - 7\n",
    "multi = 4 * 7\n",
    "exponente = 4 ** 7\n",
    "div = 13 / 7\n",
    "div_int = 13 // 7"
   ]
  },
  {
   "cell_type": "code",
   "execution_count": 2,
   "metadata": {},
   "outputs": [],
   "source": [
    "# Bool-int\n",
    "print(int(False))\n",
    "print(int(True))"
   ]
  },
  {
   "cell_type": "code",
   "execution_count": 62,
   "metadata": {},
   "outputs": [],
   "source": [
    "# Operador \"%\" para obtener el residuo de una operación\n",
    "residuo = 13 % 7"
   ]
  },
  {
   "cell_type": "code",
   "execution_count": 55,
   "metadata": {},
   "outputs": [],
   "source": [
    "# ¿Cuál es la diferencia?\n",
    "uno = 4 **  3/12\n",
    "dos = 4 ** (3/12)\n",
    "print(uno, dos)\n",
    "# ¿Por qué?"
   ]
  },
  {
   "cell_type": "code",
   "execution_count": 54,
   "metadata": {},
   "outputs": [],
   "source": [
    "# De acuerdo al número de posición del elemento después del \"=\", es la variable declarada.\n",
    "# Se puede aplicar cualquier operación aritmética si sé conoce la posición del elemento\n",
    "a, b, c, d = 20, 11.3, 5, 3.5"
   ]
  },
  {
   "cell_type": "markdown",
   "metadata": {},
   "source": [
    "#### String"
   ]
  },
  {
   "cell_type": "code",
   "execution_count": null,
   "metadata": {},
   "outputs": [],
   "source": [
    "# El símbolo \"#\" se usa para comentar dentro de celdas para códigos\n",
    "# Uso de (' '), (\" \"), (\\'), (\\\"), (\\n), (\\t)\n",
    "print('Hola')\n",
    "print(\"Hola\")\n",
    "print('\n",
    "      Hola')\n",
    "print(\"\"\"\n",
    "         Hola\"\"\")\n",
    "print('He's Javier')\n",
    "print(\"\"Sorpresa\"\")\n",
    "print('Javier\\nVillanueva')\n",
    "      print('Javier\\tVillanueva')"
   ]
  },
  {
   "cell_type": "markdown",
   "metadata": {},
   "source": [
    "### Módulo IV: Contenedores\n",
    "#### La importancia de aprender sobre los contenedores reside en que el análisis de datos existen diferentes tipos de datos. Aprender a manejar listas equivale a manipular, estructurar, analizar y gráficar datos (los que sean).\n",
    "#### Listas"
   ]
  },
  {
   "cell_type": "code",
   "execution_count": 82,
   "metadata": {},
   "outputs": [],
   "source": [
    "lista = ['Javier', 'Villanueva', 2020, True, 6.7, 'Javier']"
   ]
  },
  {
   "cell_type": "code",
   "execution_count": null,
   "metadata": {},
   "outputs": [],
   "source": [
    "# capitalize, count, find, isalnum, isalpha, isdigit, islower, isupper, join, split, len, lower, upper, strip"
   ]
  },
  {
   "cell_type": "code",
   "execution_count": 37,
   "metadata": {},
   "outputs": [],
   "source": [
    "# Contar elementos (len())\n",
    "# Seleccionar elementos de la lista (Desdel el inicio y desde el Final)\n",
    "# len() aninado lista[-len(lista)]\n",
    "\n",
    "# Agregar nuevo elemento a la lista (.append())\n",
    "\n",
    "# Sustituir elementos lista[0] = 'Javi'\n",
    "\n",
    "# Conteo de un mismo elemento dentro de la lista (.count(\"elemento\"))\n",
    "\n",
    "# Extender la lista (.extend(range(1, 5)); .extend(4); .extend(\"siempre debe de ser un iterador\"))\n",
    "\n",
    "# Saber el lugar del elemento dentro de la lista (.index(); .index('Javier', 1) a partir de ese lugar buscar)\n",
    "\n",
    "# Insertar elementos en el lugar que queremos (.insert(\"lugar del elemento a insertar\", \"Elemento a insertar\"))\n",
    "\n",
    "# Listas dentro de otras listas (lista.append(['Valle', 665.999]))"
   ]
  },
  {
   "cell_type": "code",
   "execution_count": 107,
   "metadata": {},
   "outputs": [],
   "source": [
    "nombre = 'Python para Psicólogos y los no programadores'\n",
    "dir_trabajo_windows = '\\Javier\\Document\\Final\\Final\\Trabajo ultimisimo.docx' \n",
    "dir_trabajo_unix = '/Javier/Document/Final/Final/Trabajo ultimisimo.docx'\n",
    "\n",
    "# Separar string (cadenas) para generar listas (.split())\n",
    "nombre.split(' ')\n",
    "dir_trabajo.split('\\\\''')"
   ]
  },
  {
   "cell_type": "code",
   "execution_count": 138,
   "metadata": {},
   "outputs": [],
   "source": [
    "nombre = ['Javier Villanueva Valle']\n",
    "print(nombre.split(' '))\n",
    "#nombre = str(nombre)\n",
    "#nombre = nombre.strip('[]')\n",
    "#nombre = nombre.split(' ')\n",
    "#primer_nombre = nombre[0]\n",
    "#primer_nombre = primer_nombre.strip(\"''\")\n",
    "#primer_nombre = primer_nombre.strip()\n",
    "#primer_nombre = primer_nombre + ' ' + 'Villanueva'"
   ]
  },
  {
   "cell_type": "markdown",
   "metadata": {},
   "source": [
    "#### Tuplas"
   ]
  },
  {
   "cell_type": "code",
   "execution_count": 142,
   "metadata": {},
   "outputs": [],
   "source": [
    "# Las tuplas son objetos de tipo secuencia, específicamente es un tipo de dato lista inmutable. \n",
    "# Esta no puede modificarse de ningún modo después de su creación.\n",
    "\n",
    "software = ('Python', 30, 'C++', True)"
   ]
  },
  {
   "cell_type": "code",
   "execution_count": 147,
   "metadata": {},
   "outputs": [],
   "source": [
    "print('El elemento \"{}\" se repite {} vez'.format(software[0], software.count(software[0])))\n",
    "print('El elemento \"{}\" está en el lugar {}'.format(software[0], software.index(software[0])))"
   ]
  },
  {
   "cell_type": "markdown",
   "metadata": {},
   "source": [
    "#### Diccionarios"
   ]
  },
  {
   "cell_type": "code",
   "execution_count": 152,
   "metadata": {},
   "outputs": [],
   "source": [
    "curso = {'¿Qué curso es?':'Python para los no programadores',\n",
    "         '¿Quién da el curso?':'Javier',\n",
    "         '¿Cuántos alumnos hay?':1000,\n",
    "         '¿Calificación para pasar el curso?':[8.7, 9.3, 9.9],\n",
    "         '¿Es verdadero este curso?':True}"
   ]
  },
  {
   "cell_type": "code",
   "execution_count": 154,
   "metadata": {},
   "outputs": [],
   "source": [
    "curso['¿Qué curso es?']"
   ]
  },
  {
   "cell_type": "code",
   "execution_count": 95,
   "metadata": {},
   "outputs": [],
   "source": [
    "num = [n for n in range(0, 51, 2)]\n",
    "print(num)\n",
    "\n",
    "vocal = [v for v in 'Javier_Villanueva_Valle' if v in 'aeiou']\n",
    "print(vocal)\n",
    "\n",
    "vocales = 'aeiou'\n",
    "for v in 'Javier_Villanueva_Valle':\n",
    "    if v in vocales:\n",
    "        print(v, end=' ')"
   ]
  },
  {
   "cell_type": "code",
   "execution_count": 12,
   "metadata": {},
   "outputs": [],
   "source": [
    "##### Índice de Masa Corporal\n",
    "# IMC = peso/estatura al cuadrado\n",
    "##### Usando todo lo aprendido \n",
    "peso = '100'\n",
    "estatura = 1.80"
   ]
  },
  {
   "cell_type": "code",
   "execution_count": null,
   "metadata": {},
   "outputs": [],
   "source": []
  }
 ],
 "metadata": {
  "kernelspec": {
   "display_name": "Python 3",
   "language": "python",
   "name": "python3"
  },
  "language_info": {
   "codemirror_mode": {
    "name": "ipython",
    "version": 3
   },
   "file_extension": ".py",
   "mimetype": "text/x-python",
   "name": "python",
   "nbconvert_exporter": "python",
   "pygments_lexer": "ipython3",
   "version": "3.7.7"
  }
 },
 "nbformat": 4,
 "nbformat_minor": 4
}
