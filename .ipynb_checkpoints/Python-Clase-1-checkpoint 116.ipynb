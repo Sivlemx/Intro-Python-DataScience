{
 "cells": [
  {
   "cell_type": "markdown",
   "metadata": {},
   "source": [
    "# Python para Psicólogos\n",
    "## Javier Villanueva-Valle\n",
    "<javier830409@gmail.com>\n",
    "\n",
    "* Guido Van Rossum en 1991\n",
    "* Propósito General: Construir lo que gustes y mandes\n",
    "* ¡Open Source! ¡Gratis!\n",
    "* Paquetes Python, también para ciencia de datos\n",
    "* Muchas aplicaciones y muchos campos\n",
    "    * Desarrollo web e Internet.\n",
    "    * Acceso a la base de datos.\n",
    "    * GUIs de escritorio.\n",
    "    * Científico y numérico.\n",
    "    * Educación.\n",
    "    * Programación de red.\n",
    "    * Desarrollo de Software y Juegos.\n",
    "* [**Python**](https://www.python.org/) Version 3.x \n",
    "* [Anaconda](https://www.anaconda.com/products/individual)\n",
    "\n",
    "### Ventajas\n",
    "* Simplificado y rápido\n",
    "* Elegante y flexible\n",
    "* Programación sana y productiva\n",
    "* Ordenado y limpio\n",
    "* Lenguaje Interpretado\n",
    "* Multiplataforma\n",
    "* Extensa comunidad\n",
    "\n",
    "### Desventajas\n",
    "* Curva de aprendizaje\n",
    "* Librerías propias que están incluidas (Usan librerías de terceros)"
   ]
  },
  {
   "cell_type": "markdown",
   "metadata": {},
   "source": [
    "## ¿Por qué usar Jupyter?"
   ]
  },
  {
   "cell_type": "markdown",
   "metadata": {},
   "source": [
    "![Jupyter](https://github.com/Sivlemx/Intro-Python-DataScience/raw/master/Jupyter.jpg)"
   ]
  },
  {
   "cell_type": "markdown",
   "metadata": {},
   "source": [
    "## Inicio 2 Julio 2020"
   ]
  },
  {
   "cell_type": "markdown",
   "metadata": {},
   "source": [
    "![Comencemos](https://i.imgur.com/5A22MNp.gif)"
   ]
  },
  {
   "cell_type": "markdown",
   "metadata": {},
   "source": [
    "### Modulo I: Uso de Anaconda - Instalación\n",
    "* [Documentación en línea](https://docs.anaconda.com/anaconda/user-guide/getting-started/)\n",
    "* [Uso del Navegador](https://docs.anaconda.com/anaconda/navigator/getting-started/)\n",
    "* [Guía Inicial](https://conda.io/projects/conda/en/latest/user-guide/getting-started.html)\n",
    "* [Anaconda Navigator](https://docs.anaconda.com/anaconda/navigator/)\n",
    "* [Uso de Conda (*crear ambiente)*](https://conda.io/projects/conda/en/latest/user-guide/getting-started.html)\n",
    "* [Trucos en Conda](https://conda.io/projects/conda/en/latest/_downloads/843d9e0198f2a193a3484886fa28163c/conda-cheatsheet.pdf)\n",
    "* [Documentación Conda](https://conda.io/projects/conda/en/latest/user-guide/index.html)\n",
    "\n",
    "~~~\n",
    "conda info --envs\n",
    "conda create --name \"el-nombre-que-yo-quiera\"\n",
    "conda info --envs\n",
    "conda activate \"el-nombre-que-yo-quiera\"\n",
    "conda update conda\n",
    "conda update anaconda\n",
    "conda update --all -y\n",
    "conda list\n",
    "conda install pandas numpy matplotlib spyder\n",
    "conda install -c conda-forge jupyterlab\n",
    "conda install -c conda-forge notebook\n",
    "conda list\n",
    "~~~"
   ]
  },
  {
   "cell_type": "markdown",
   "metadata": {},
   "source": [
    "### Modulo II: Tipos"
   ]
  },
  {
   "cell_type": "markdown",
   "metadata": {},
   "source": [
    "- (str) -> string -> 'Python para Psicólogos', '2020', '0.05'\n",
    "- (int) -> integer -> 2020, 2, 0, 20\n",
    "- (float) -> float -> 1.5, 0.05\n",
    "- (bool) -> bool -> True, False"
   ]
  },
  {
   "cell_type": "markdown",
   "metadata": {},
   "source": [
    "#### Ejemplos"
   ]
  },
  {
   "cell_type": "code",
   "execution_count": null,
   "metadata": {},
   "outputs": [],
   "source": [
    "nombre = 'Javier'\n",
    "edad_str = '37'\n",
    "edad_int = 37\n",
    "edad_float = 37.0\n",
    "bool1 = True\n",
    "bool2 = False\n",
    "sexo_bool = '10'"
   ]
  },
  {
   "cell_type": "code",
   "execution_count": null,
   "metadata": {},
   "outputs": [],
   "source": [
    "print(type(nombre))\n",
    "print(type(edad_str))\n",
    "print(type(edad_int))\n",
    "print(type(edad_float))\n",
    "print(type(bool1))\n",
    "print(type(bool2))\n",
    "print(sexo_bool.isalpha())\n",
    "print(sexo_bool.isdigit())"
   ]
  },
  {
   "cell_type": "markdown",
   "metadata": {},
   "source": [
    "### Modulo III: Variables\n",
    "#### Operadores aritméticos"
   ]
  },
  {
   "cell_type": "code",
   "execution_count": null,
   "metadata": {},
   "outputs": [],
   "source": [
    "val1 = 'Javier'\n",
    "val2 = '2'\n",
    "val3 = 'Quiero juntar las dos variables, ¿Cómo?' # Pista '+'"
   ]
  },
  {
   "cell_type": "code",
   "execution_count": null,
   "metadata": {},
   "outputs": [],
   "source": [
    "val1 = val1 + ' ' + val2 + ',' + ' '\n",
    "val1"
   ]
  },
  {
   "cell_type": "code",
   "execution_count": null,
   "metadata": {},
   "outputs": [],
   "source": [
    "suma = 4 + 7\n",
    "resta = 4 - 7\n",
    "multi = 4 * 7\n",
    "exponente = 4 ** 7\n",
    "div = 13 / 7\n",
    "div_int = 13 // 7\n",
    "residuo = 13 % 7"
   ]
  },
  {
   "cell_type": "code",
   "execution_count": null,
   "metadata": {},
   "outputs": [],
   "source": [
    "suma = 'Javier' + 3\n",
    "resta = 'Javier' - 3\n",
    "multi = 'Javier' * 3\n",
    "exponente = 'Javier' ** 3\n",
    "div = 'Javier' / 3\n",
    "div_int = 'Javier' // 3"
   ]
  },
  {
   "cell_type": "code",
   "execution_count": null,
   "metadata": {},
   "outputs": [],
   "source": [
    "oper = val1 * 3\n",
    "oper"
   ]
  },
  {
   "cell_type": "code",
   "execution_count": null,
   "metadata": {},
   "outputs": [],
   "source": [
    "# Conversión de datos <-> int-float, int-str, float-int, float-str, str-int, str-float \n",
    "suma = 4 + 7\n",
    "resta = 4 - 7\n",
    "multi = 4 * 7\n",
    "exponente = 4 ** 7\n",
    "div = 13 / 7\n",
    "div_int = 13 // 7"
   ]
  },
  {
   "cell_type": "code",
   "execution_count": null,
   "metadata": {},
   "outputs": [],
   "source": [
    "print(suma)\n",
    "print(type(suma))\n",
    "print(str(suma))\n",
    "letras = str(suma)\n",
    "print(type(letras))\n",
    "decimal = float(suma)\n",
    "print(decimal)\n",
    "print(type(decimal))\n",
    "print(div)\n",
    "print(type(div))"
   ]
  },
  {
   "cell_type": "code",
   "execution_count": null,
   "metadata": {},
   "outputs": [],
   "source": [
    "print(True)\n",
    "print(False)"
   ]
  },
  {
   "cell_type": "code",
   "execution_count": null,
   "metadata": {},
   "outputs": [],
   "source": [
    "# Bool-int\n",
    "print(int(False))\n",
    "print(int(True))"
   ]
  },
  {
   "cell_type": "code",
   "execution_count": null,
   "metadata": {},
   "outputs": [],
   "source": [
    "# Operador \"%\" para obtener el residuo de una operación\n",
    "residuo = 13 % 7"
   ]
  },
  {
   "cell_type": "code",
   "execution_count": null,
   "metadata": {},
   "outputs": [],
   "source": [
    "print(13 / 7)\n",
    "residuo"
   ]
  },
  {
   "cell_type": "code",
   "execution_count": null,
   "metadata": {},
   "outputs": [],
   "source": [
    "# ¿Cuál es la diferencia?\n",
    "uno = 4 **  2/12\n",
    "dos = 4 ** (2/12)\n",
    "print(uno)\n",
    "print(dos)\n",
    "# ¿Por qué?"
   ]
  },
  {
   "cell_type": "code",
   "execution_count": null,
   "metadata": {},
   "outputs": [],
   "source": [
    "paso1 = 2 / 12\n",
    "paso2 = 4 ** paso1\n",
    "paso2"
   ]
  },
  {
   "cell_type": "code",
   "execution_count": null,
   "metadata": {},
   "outputs": [],
   "source": [
    "# De acuerdo al número de posición del elemento después del \"=\", es la variable declarada.\n",
    "# Se puede aplicar cualquier operación aritmética si sé conoce la posición del elemento\n",
    "a, b, c, d = 20, 11.3, 5, 20"
   ]
  },
  {
   "cell_type": "code",
   "execution_count": null,
   "metadata": {},
   "outputs": [],
   "source": [
    "a == d"
   ]
  },
  {
   "cell_type": "code",
   "execution_count": null,
   "metadata": {},
   "outputs": [],
   "source": [
    "a, b, c, d"
   ]
  },
  {
   "cell_type": "markdown",
   "metadata": {},
   "source": [
    "#### Operadores de relación"
   ]
  },
  {
   "cell_type": "code",
   "execution_count": null,
   "metadata": {},
   "outputs": [],
   "source": [
    "print(4 == 7)"
   ]
  },
  {
   "cell_type": "code",
   "execution_count": null,
   "metadata": {},
   "outputs": [],
   "source": [
    "print(4 != 7)"
   ]
  },
  {
   "cell_type": "code",
   "execution_count": null,
   "metadata": {},
   "outputs": [],
   "source": [
    "print(4 < 7)"
   ]
  },
  {
   "cell_type": "code",
   "execution_count": null,
   "metadata": {},
   "outputs": [],
   "source": [
    "print(7 < 7)"
   ]
  },
  {
   "cell_type": "code",
   "execution_count": null,
   "metadata": {},
   "outputs": [],
   "source": [
    "print(4 > 7)"
   ]
  },
  {
   "cell_type": "code",
   "execution_count": null,
   "metadata": {},
   "outputs": [],
   "source": [
    "print(4 > 4)"
   ]
  },
  {
   "cell_type": "code",
   "execution_count": null,
   "metadata": {},
   "outputs": [],
   "source": [
    "print(4 <= 7)"
   ]
  },
  {
   "cell_type": "code",
   "execution_count": null,
   "metadata": {},
   "outputs": [],
   "source": [
    "print(4 <= 7)"
   ]
  },
  {
   "cell_type": "code",
   "execution_count": null,
   "metadata": {},
   "outputs": [],
   "source": [
    "print(6 <= 7)"
   ]
  },
  {
   "cell_type": "code",
   "execution_count": null,
   "metadata": {},
   "outputs": [],
   "source": [
    "print(4 >= 7)"
   ]
  },
  {
   "cell_type": "code",
   "execution_count": null,
   "metadata": {},
   "outputs": [],
   "source": [
    "print(4 >= 4)"
   ]
  },
  {
   "cell_type": "code",
   "execution_count": null,
   "metadata": {},
   "outputs": [],
   "source": [
    "Javier = 6\n",
    "print(Javier)\n",
    "print(type(Javier))"
   ]
  },
  {
   "cell_type": "code",
   "execution_count": null,
   "metadata": {},
   "outputs": [],
   "source": [
    "print(Javier == 6)"
   ]
  },
  {
   "cell_type": "code",
   "execution_count": null,
   "metadata": {},
   "outputs": [],
   "source": [
    "print(type('Javier'))\n",
    "print(type(6))"
   ]
  },
  {
   "cell_type": "code",
   "execution_count": null,
   "metadata": {},
   "outputs": [],
   "source": [
    "print('J', 'a', 'v', 'i', 'e', 'r' == 6)"
   ]
  },
  {
   "cell_type": "code",
   "execution_count": null,
   "metadata": {},
   "outputs": [],
   "source": [
    "len('erghñdsfgjnñgdfsknñjsfnkjsjknskjnsghñlnñflgkhñlhgks')"
   ]
  },
  {
   "cell_type": "code",
   "execution_count": null,
   "metadata": {},
   "outputs": [],
   "source": [
    "print(len('Javier') == 6)"
   ]
  },
  {
   "cell_type": "code",
   "execution_count": null,
   "metadata": {},
   "outputs": [],
   "source": [
    "print('J', 'a', 'v', 'i', 'e', 'r' == 6)"
   ]
  },
  {
   "cell_type": "code",
   "execution_count": null,
   "metadata": {},
   "outputs": [],
   "source": [
    "print(len(['J', 'a', 'v', 'i', 'e', 'r']) == 6)"
   ]
  },
  {
   "cell_type": "markdown",
   "metadata": {},
   "source": [
    "#### String"
   ]
  },
  {
   "cell_type": "code",
   "execution_count": null,
   "metadata": {},
   "outputs": [],
   "source": [
    "# El símbolo \"#\" se usa para comentar dentro de celdas para códigos\n",
    "# Uso de (' '), (\" \"), (\\'), (\\\"), (\\n), (\\t)\n",
    "print('Hola')\n",
    "print(\"Hola\")"
   ]
  },
  {
   "cell_type": "code",
   "execution_count": null,
   "metadata": {},
   "outputs": [],
   "source": [
    "print(\"Yas'tas\")"
   ]
  },
  {
   "cell_type": "code",
   "execution_count": null,
   "metadata": {},
   "outputs": [],
   "source": [
    "print('\n",
    "      Hola')"
   ]
  },
  {
   "cell_type": "code",
   "execution_count": null,
   "metadata": {},
   "outputs": [],
   "source": [
    "print(\"\"\"\n",
    "         Hola, espero que estes re-bien.\n",
    "         Ya comiste?\"\"\")\n",
    "      "
   ]
  },
  {
   "cell_type": "code",
   "execution_count": null,
   "metadata": {},
   "outputs": [],
   "source": [
    "print(\"\"\"\n",
    "añslkdjfañsljflñkdsa,\n",
    "asdñlkfakñdjflñkadsf\n",
    "jasñdkfjñalfghñsdfngñsdf\"\"\")"
   ]
  },
  {
   "cell_type": "code",
   "execution_count": null,
   "metadata": {},
   "outputs": [],
   "source": [
    "print('He\\'s Javier')"
   ]
  },
  {
   "cell_type": "code",
   "execution_count": null,
   "metadata": {},
   "outputs": [],
   "source": [
    "print('He\\'s Javier')\n",
    "      \n",
    "print(\"He's Javier\")\n",
    "print(\"He\\'s Javier\")"
   ]
  },
  {
   "cell_type": "code",
   "execution_count": null,
   "metadata": {},
   "outputs": [],
   "source": [
    "print(\"\"\"Sorpresa\"\"\")"
   ]
  },
  {
   "cell_type": "code",
   "execution_count": null,
   "metadata": {},
   "outputs": [],
   "source": [
    "print('Javier\\nVillanueva')"
   ]
  },
  {
   "cell_type": "code",
   "execution_count": null,
   "metadata": {},
   "outputs": [],
   "source": [
    "print('Javier\\tVillanueva')"
   ]
  },
  {
   "cell_type": "markdown",
   "metadata": {},
   "source": [
    "### Módulo IV: Contenedores\n",
    "#### La importancia de aprender sobre los contenedores reside en que el análisis de datos existen diferentes tipos de datos. Aprender a manejar listas equivale a manipular, estructurar, analizar y gráficar datos (los que sean).\n",
    "#### Listas"
   ]
  },
  {
   "cell_type": "code",
   "execution_count": null,
   "metadata": {},
   "outputs": [],
   "source": [
    "lista = ['Javier', 'Villanueva', 2020, True, 6.7, 'Javier', 'Valle', 'Flora', 'Gabriel', 'Mayra', 'Olivia', 9, '9']"
   ]
  },
  {
   "cell_type": "code",
   "execution_count": null,
   "metadata": {},
   "outputs": [],
   "source": [
    "len(lista)"
   ]
  },
  {
   "cell_type": "code",
   "execution_count": null,
   "metadata": {},
   "outputs": [],
   "source": [
    "lista_recorda = lista[1:6]"
   ]
  },
  {
   "cell_type": "code",
   "execution_count": null,
   "metadata": {},
   "outputs": [],
   "source": [
    "print(lista_recorda)"
   ]
  },
  {
   "cell_type": "code",
   "execution_count": null,
   "metadata": {},
   "outputs": [],
   "source": [
    "lista_alreves = lista[:-4]\n",
    "print(lista_alreves)"
   ]
  },
  {
   "cell_type": "code",
   "execution_count": null,
   "metadata": {},
   "outputs": [],
   "source": [
    "lista[:-4]"
   ]
  },
  {
   "cell_type": "code",
   "execution_count": null,
   "metadata": {},
   "outputs": [],
   "source": [
    "lista = ['Javier', 'Villanueva', 2020, True, 6.7, 'Javier', 'Valle', 'Flora', 'Gabriel', 'Mayra', 'Olivia', 9, '9']\n",
    "\n",
    "for posición, contenido in enumerate(lista):\n",
    "    print('El lugar {} contiene {} es de tipo {}'.format(posición, contenido, type(contenido)))"
   ]
  },
  {
   "cell_type": "code",
   "execution_count": null,
   "metadata": {},
   "outputs": [],
   "source": [
    "lista[0] * lista[11]"
   ]
  },
  {
   "cell_type": "code",
   "execution_count": null,
   "metadata": {},
   "outputs": [],
   "source": [
    "for posición, contenido in enumerate(lista, 1):\n",
    "    print('En el {} está {}'.format(posición, contenido))"
   ]
  },
  {
   "cell_type": "code",
   "execution_count": null,
   "metadata": {},
   "outputs": [],
   "source": [
    "'ñsdjflñaksdjflñaskfj'"
   ]
  },
  {
   "cell_type": "code",
   "execution_count": null,
   "metadata": {},
   "outputs": [],
   "source": [
    "'Hay {} tomando la clase de python {}'.format(60, 20)"
   ]
  },
  {
   "cell_type": "code",
   "execution_count": null,
   "metadata": {},
   "outputs": [],
   "source": [
    "# capitalize, count, find, isalnum, isalpha, isdigit, islower, isupper, join, split, len, lower, upper, strip"
   ]
  },
  {
   "cell_type": "code",
   "execution_count": null,
   "metadata": {},
   "outputs": [],
   "source": [
    "el_prof = 'Javier Villanueva sacó 6.7 en la Prepa'"
   ]
  },
  {
   "cell_type": "code",
   "execution_count": null,
   "metadata": {},
   "outputs": [],
   "source": [
    "print(el_prof)"
   ]
  },
  {
   "cell_type": "code",
   "execution_count": null,
   "metadata": {},
   "outputs": [],
   "source": [
    "print(el_prof.capitalize())"
   ]
  },
  {
   "cell_type": "code",
   "execution_count": null,
   "metadata": {},
   "outputs": [],
   "source": [
    "print(el_prof.count('a'))"
   ]
  },
  {
   "cell_type": "code",
   "execution_count": null,
   "metadata": {},
   "outputs": [],
   "source": [
    "print(el_prof.find('a'))"
   ]
  },
  {
   "cell_type": "code",
   "execution_count": null,
   "metadata": {},
   "outputs": [],
   "source": [
    "print(el_prof.find('a', 12))"
   ]
  },
  {
   "cell_type": "code",
   "execution_count": null,
   "metadata": {},
   "outputs": [],
   "source": [
    "# if all characters in the string are alphanumeric\n",
    "es_o_no_alphanumerico = 'PythonCurso2020'\n",
    "print(es_o_no_alphanumerico.isalnum())"
   ]
  },
  {
   "cell_type": "code",
   "execution_count": null,
   "metadata": {},
   "outputs": [],
   "source": [
    "# if all characters in the string are alphabets (can be both lowercase and uppercase)\n",
    "es_o_no_alpha = 'Javier'\n",
    "print(es_o_no_alpha.isalpha())"
   ]
  },
  {
   "cell_type": "code",
   "execution_count": null,
   "metadata": {},
   "outputs": [],
   "source": [
    "es_o_no_digito = '2020'\n",
    "print(es_o_no_digito.isdigit())"
   ]
  },
  {
   "cell_type": "code",
   "execution_count": null,
   "metadata": {},
   "outputs": [],
   "source": [
    "print(el_prof.islower())"
   ]
  },
  {
   "cell_type": "code",
   "execution_count": null,
   "metadata": {},
   "outputs": [],
   "source": [
    "print(el_prof.isupper())"
   ]
  },
  {
   "cell_type": "code",
   "execution_count": null,
   "metadata": {},
   "outputs": [],
   "source": [
    "el_prof = 'Javier Villanueva sacó 6.7 en la Prepa'"
   ]
  },
  {
   "cell_type": "code",
   "execution_count": null,
   "metadata": {},
   "outputs": [],
   "source": [
    "print(el_prof.join())"
   ]
  },
  {
   "cell_type": "code",
   "execution_count": null,
   "metadata": {},
   "outputs": [],
   "source": [
    "print('_'.join(el_prof))"
   ]
  },
  {
   "cell_type": "code",
   "execution_count": null,
   "metadata": {},
   "outputs": [],
   "source": [
    "# Original\n",
    "print(el_prof)"
   ]
  },
  {
   "cell_type": "code",
   "execution_count": null,
   "metadata": {},
   "outputs": [],
   "source": [
    "print(list(el_prof))"
   ]
  },
  {
   "cell_type": "code",
   "execution_count": null,
   "metadata": {},
   "outputs": [],
   "source": [
    "print(el_prof.split(' '))"
   ]
  },
  {
   "cell_type": "code",
   "execution_count": null,
   "metadata": {},
   "outputs": [],
   "source": [
    "el_prof_lista = el_prof.split()"
   ]
  },
  {
   "cell_type": "code",
   "execution_count": null,
   "metadata": {},
   "outputs": [],
   "source": [
    "print(el_prof_lista)\n",
    "print(type(el_prof_lista))"
   ]
  },
  {
   "cell_type": "code",
   "execution_count": null,
   "metadata": {},
   "outputs": [],
   "source": [
    "print('_'.join(el_prof_lista))"
   ]
  },
  {
   "cell_type": "code",
   "execution_count": null,
   "metadata": {},
   "outputs": [],
   "source": [
    "el_prof = 'Javier Villanueva, sacó 6.7 en la Prepa'"
   ]
  },
  {
   "cell_type": "code",
   "execution_count": null,
   "metadata": {},
   "outputs": [],
   "source": [
    "print(el_prof.split('.'))"
   ]
  },
  {
   "cell_type": "code",
   "execution_count": null,
   "metadata": {},
   "outputs": [],
   "source": [
    "print(el_prof.split('a'))"
   ]
  },
  {
   "cell_type": "code",
   "execution_count": null,
   "metadata": {},
   "outputs": [],
   "source": [
    "print(el_prof.split())"
   ]
  },
  {
   "cell_type": "code",
   "execution_count": null,
   "metadata": {},
   "outputs": [],
   "source": [
    "print(len(el_prof))"
   ]
  },
  {
   "cell_type": "code",
   "execution_count": null,
   "metadata": {},
   "outputs": [],
   "source": [
    "print(el_prof.lower())"
   ]
  },
  {
   "cell_type": "code",
   "execution_count": null,
   "metadata": {},
   "outputs": [],
   "source": [
    "print(el_prof.upper())"
   ]
  },
  {
   "cell_type": "code",
   "execution_count": null,
   "metadata": {},
   "outputs": [],
   "source": [
    "print(el_prof.strip())"
   ]
  },
  {
   "cell_type": "code",
   "execution_count": null,
   "metadata": {},
   "outputs": [],
   "source": [
    "el_prof_sin_espacio_a_la_derecha_y_a_la_izquierda = 'Javier Villanueva tiene 5'\n",
    "print(el_prof_sin_espacio_a_la_derecha_y_a_la_izquierda)\n",
    "print(len(el_prof_sin_espacio_a_la_derecha_y_a_la_izquierda))\n",
    "\n",
    "el_prof_espaciado = '     Javier Villanueva tiene 5      '\n",
    "print(el_prof_espaciado)\n",
    "print(len(el_prof_espaciado))"
   ]
  },
  {
   "cell_type": "code",
   "execution_count": null,
   "metadata": {},
   "outputs": [],
   "source": [
    "print(el_prof_espaciado.strip())\n",
    "print(len(el_prof_espaciado.strip()))"
   ]
  },
  {
   "cell_type": "code",
   "execution_count": null,
   "metadata": {},
   "outputs": [],
   "source": [
    "# Contar elementos (len())\n",
    "# Seleccionar elementos de la lista (Desdel el inicio y desde el Final)\n",
    "# len() aninado lista[-len(lista)]\n",
    "\n",
    "# Agregar nuevo elemento a la lista (.append())\n",
    "\n",
    "# Sustituir elementos lista[0] = 'Javi'\n",
    "\n",
    "# Conteo de un mismo elemento dentro de la lista (.count(\"elemento\"))\n",
    "\n",
    "# Extender la lista (.extend(range(1, 5)); .extend(4); .extend(\"siempre debe de ser un iterador\"))\n",
    "\n",
    "# Saber el lugar del elemento dentro de la lista (.index(); .index('Javier', 1) a partir de ese lugar buscar)\n",
    "\n",
    "# Insertar elementos en el lugar que queremos (.insert(\"lugar del elemento a insertar\", \"Elemento a insertar\"))\n",
    "\n",
    "# Listas dentro de otras listas (lista.append(['Valle', 665.999]))"
   ]
  },
  {
   "cell_type": "code",
   "execution_count": null,
   "metadata": {},
   "outputs": [],
   "source": [
    "nombre = 'Python para Psicólogos y los no programadores'\n",
    "dir_trabajo_windows = '\\Javier\\Document\\Final\\Final\\Trabajo ultimisimo.docx' \n",
    "dir_trabajo_unix = '/Javier/Document/Final/Final/Trabajo ultimisimo.docx'\n",
    "\n",
    "# Separar string (cadenas) para generar listas (.split())\n",
    "nombre.split(' ')"
   ]
  },
  {
   "cell_type": "code",
   "execution_count": null,
   "metadata": {},
   "outputs": [],
   "source": [
    "dir_trabajo_windows.split('\\\\''')"
   ]
  },
  {
   "cell_type": "code",
   "execution_count": null,
   "metadata": {},
   "outputs": [],
   "source": [
    "nombre = ['Javier Villanueva Valle']\n",
    "#print(nombre.split(' '))\n",
    "type(nombre)"
   ]
  },
  {
   "cell_type": "code",
   "execution_count": null,
   "metadata": {},
   "outputs": [],
   "source": [
    "nombre = str(nombre)\n",
    "#type(nombre)\n",
    "nombre"
   ]
  },
  {
   "cell_type": "code",
   "execution_count": null,
   "metadata": {},
   "outputs": [],
   "source": [
    "nombre = nombre.strip('[]')\n",
    "nombre"
   ]
  },
  {
   "cell_type": "code",
   "execution_count": null,
   "metadata": {},
   "outputs": [],
   "source": [
    "nombre = nombre.split(' ')\n",
    "nombre"
   ]
  },
  {
   "cell_type": "code",
   "execution_count": null,
   "metadata": {},
   "outputs": [],
   "source": [
    "primer_nombre = nombre[0]\n",
    "primer_nombre"
   ]
  },
  {
   "cell_type": "code",
   "execution_count": null,
   "metadata": {},
   "outputs": [],
   "source": [
    "primer_nombre = primer_nombre.strip(\"''\")"
   ]
  },
  {
   "cell_type": "code",
   "execution_count": null,
   "metadata": {},
   "outputs": [],
   "source": [
    "primer_nombre"
   ]
  },
  {
   "cell_type": "code",
   "execution_count": null,
   "metadata": {},
   "outputs": [],
   "source": [
    "type(primer_nombre)"
   ]
  },
  {
   "cell_type": "code",
   "execution_count": null,
   "metadata": {},
   "outputs": [],
   "source": [
    "primer_nombre = primer_nombre.strip()"
   ]
  },
  {
   "cell_type": "code",
   "execution_count": null,
   "metadata": {},
   "outputs": [],
   "source": [
    "primer_nombre"
   ]
  },
  {
   "cell_type": "code",
   "execution_count": null,
   "metadata": {},
   "outputs": [],
   "source": [
    "primer_nombre = primer_nombre + ' ' + 'Villanueva'"
   ]
  },
  {
   "cell_type": "code",
   "execution_count": null,
   "metadata": {},
   "outputs": [],
   "source": [
    "primer_nombre"
   ]
  },
  {
   "cell_type": "markdown",
   "metadata": {},
   "source": [
    "#### Función \"range\"\n",
    "##### También es un iterador. Un iterador se refiere al objeto que permite al programador recorrer un contenedor, particularmente listas."
   ]
  },
  {
   "cell_type": "code",
   "execution_count": null,
   "metadata": {},
   "outputs": [],
   "source": [
    "hartos_numeros = range(-100, 100)\n",
    "print(type(hartos_numeros))\n",
    "print(hartos_numeros)\n",
    "print(list(hartos_numeros))\n",
    "print(len(list(hartos_numeros)))"
   ]
  },
  {
   "cell_type": "code",
   "execution_count": null,
   "metadata": {},
   "outputs": [],
   "source": [
    "otros_num = list(range(0, 10))\n",
    "print(otros_num)\n",
    "otros_num.append(2020) # se adhiere un elemento a la vez\n",
    "print(otros_num)\n",
    "otros_num.append(2)\n",
    "print(otros_num)"
   ]
  },
  {
   "cell_type": "code",
   "execution_count": null,
   "metadata": {},
   "outputs": [],
   "source": [
    "# .count() cuenta el número de elementos dentro de un contenedor\n",
    "otros_num.count(2)"
   ]
  },
  {
   "cell_type": "code",
   "execution_count": null,
   "metadata": {},
   "outputs": [],
   "source": [
    "# .extend() SIEMPRE DEBE SER UN ITERADOR\n",
    "otros_num.extend(range(1, 5))\n",
    "otros_num"
   ]
  },
  {
   "cell_type": "code",
   "execution_count": null,
   "metadata": {},
   "outputs": [],
   "source": [
    "otros_num.extend(4)\n",
    "otros_num"
   ]
  },
  {
   "cell_type": "code",
   "execution_count": null,
   "metadata": {},
   "outputs": [],
   "source": [
    "# .index() conocer la posición del elemento deseado\n",
    "otros_num.index(2020)"
   ]
  },
  {
   "cell_type": "code",
   "execution_count": null,
   "metadata": {},
   "outputs": [],
   "source": [
    "otros_num.index(2)"
   ]
  },
  {
   "cell_type": "code",
   "execution_count": null,
   "metadata": {},
   "outputs": [],
   "source": [
    "otros_num.index(2, 3)"
   ]
  },
  {
   "cell_type": "code",
   "execution_count": null,
   "metadata": {},
   "outputs": [],
   "source": [
    "print(otros_num)\n",
    "for elemento in otros_num:\n",
    "    #print(elemento)\n",
    "    print('El elemento {} se encuentra en la posición {}'.format(elemento, otros_num.index(elemento)))"
   ]
  },
  {
   "cell_type": "code",
   "execution_count": null,
   "metadata": {},
   "outputs": [],
   "source": [
    "for lugar, elemento in enumerate(otros_num):\n",
    "    print(lugar, elemento)"
   ]
  },
  {
   "cell_type": "code",
   "execution_count": null,
   "metadata": {},
   "outputs": [],
   "source": [
    "busqueda = []\n",
    "for lugar, elemento in enumerate(otros_num):\n",
    "    #busqueda.append((elemento, otros_num.index(elemento, lugar)))\n",
    "    busqueda.append('El {} se encuentra en el lugar {}'.format(elemento, otros_num.index(elemento, lugar)))\n",
    "\n",
    "print(busqueda)"
   ]
  },
  {
   "cell_type": "code",
   "execution_count": null,
   "metadata": {},
   "outputs": [],
   "source": [
    "for cosa in busqueda:\n",
    "    print(cosa)"
   ]
  },
  {
   "cell_type": "markdown",
   "metadata": {},
   "source": [
    "##### set()\n",
    "###### Representa conjuntos. Un conjunto es una colección desordenada de elementos únicos, es decir, que no se repiten."
   ]
  },
  {
   "cell_type": "code",
   "execution_count": null,
   "metadata": {},
   "outputs": [],
   "source": [
    "obj = ['c', 'u', 'r', 's', 'o', ' ', 'd', 'e', ' ', 'p', 'y', 't', 'h', 'o', 'n', ' ',\n",
    "       'f', 'á', 'c', 'i', 'l', ' ', 'y', ' ', 'p', 'r', 'á', 'c', 't', 'i', 'c', 'o']\n",
    "print(set(obj))\n",
    "print(''.join(obj))"
   ]
  },
  {
   "cell_type": "markdown",
   "metadata": {},
   "source": [
    "##### union, intersection, difference"
   ]
  },
  {
   "cell_type": "markdown",
   "metadata": {},
   "source": [
    "![Union](https://media.geeksforgeeks.org/wp-content/cdn-uploads/Union-in-python.jpg)\n",
    "![Intersection](https://media.geeksforgeeks.org/wp-content/cdn-uploads/intersection-in-python.jpg)\n",
    "![Difference](https://media.geeksforgeeks.org/wp-content/cdn-uploads/set-difference.jpg)"
   ]
  },
  {
   "cell_type": "code",
   "execution_count": null,
   "metadata": {},
   "outputs": [],
   "source": [
    "a = set('curso')\n",
    "b = set('python')\n",
    "\n",
    "print(a.union(b))\n",
    "print(a.intersection(b))\n",
    "print(a.difference(b))"
   ]
  },
  {
   "cell_type": "markdown",
   "metadata": {},
   "source": [
    "##### eval()"
   ]
  },
  {
   "cell_type": "code",
   "execution_count": null,
   "metadata": {},
   "outputs": [],
   "source": [
    "uno = eval('[2, 4, 6, 8]')\n",
    "\n",
    "dos = eval('max([1, 3, 5, 7, 9])')\n",
    "\n",
    "tres = eval('min([1, 9, 5, 0, -3])')\n",
    "\n",
    "cuatro = eval('20 * 2')\n",
    "\n",
    "otro_cuatro = '20 * 2'\n",
    "\n",
    "print(uno)\n",
    "print(type(uno))\n",
    "print(dos)\n",
    "print(type(dos))\n",
    "print(tres)\n",
    "print(cuatro)\n",
    "print(otro_cuatro)\n",
    "print(type(otro_cuatro))"
   ]
  },
  {
   "cell_type": "markdown",
   "metadata": {},
   "source": [
    "### ¿Qué es la función \"lambda\"?\n",
    "![lambda](https://media1.tenor.com/images/76dceaeec08bbc48debd5a28e35d5839/tenor.gif?itemid=12147563)"
   ]
  },
  {
   "cell_type": "markdown",
   "metadata": {},
   "source": [
    "#### Esa \"lambda\" tan servicial y anónima"
   ]
  },
  {
   "cell_type": "code",
   "execution_count": null,
   "metadata": {},
   "outputs": [],
   "source": [
    "doble = lambda x: x * 2"
   ]
  },
  {
   "cell_type": "code",
   "execution_count": null,
   "metadata": {},
   "outputs": [],
   "source": [
    "doble(100)"
   ]
  },
  {
   "cell_type": "code",
   "execution_count": null,
   "metadata": {},
   "outputs": [],
   "source": [
    "print(doble(2020))"
   ]
  },
  {
   "cell_type": "code",
   "execution_count": null,
   "metadata": {},
   "outputs": [],
   "source": [
    "x = lambda a: a + 10\n",
    "print(x(-2))"
   ]
  },
  {
   "cell_type": "code",
   "execution_count": null,
   "metadata": {},
   "outputs": [],
   "source": [
    "x = lambda a, b : a * b\n",
    "print(x(-3, 2))"
   ]
  },
  {
   "cell_type": "code",
   "execution_count": null,
   "metadata": {},
   "outputs": [],
   "source": [
    "x = lambda a, b, c : a + b + c\n",
    "print(x(20, 21, 22))\n",
    "#print(x(20, 21))"
   ]
  },
  {
   "cell_type": "markdown",
   "metadata": {},
   "source": [
    "##### sorted()"
   ]
  },
  {
   "cell_type": "code",
   "execution_count": null,
   "metadata": {},
   "outputs": [],
   "source": [
    "ordenado = sorted([9, 1, 8, 2, 7, 3, 6, 4, 5, -2, -100, 1000])\n",
    "print(ordenado)"
   ]
  },
  {
   "cell_type": "code",
   "execution_count": null,
   "metadata": {},
   "outputs": [],
   "source": [
    "al_reves = sorted([9, 1, 8, 2, 7, 3, 6, 4, 5, -2, -100, 1000], reverse=True)\n",
    "print(al_reves)"
   ]
  },
  {
   "cell_type": "code",
   "execution_count": null,
   "metadata": {},
   "outputs": [],
   "source": [
    "# Introduciendo cosas nuevas\n",
    "## lambda: función anónima\n",
    "## len: conteo de elementos\n",
    "palabras = ['cerebro', 'mente', 'dualidad', 'pensamiento', 'pasión', 'enojo', 'alegría']\n",
    "\n",
    "print(palabras)\n",
    "print(sorted(palabras))\n",
    "print(len(palabras))"
   ]
  },
  {
   "cell_type": "code",
   "execution_count": null,
   "metadata": {},
   "outputs": [],
   "source": [
    "orden = sorted(palabras, key=lambda x:len(x))\n",
    "print(orden)\n",
    "orden = sorted(orden, reverse=True)\n",
    "print(orden)"
   ]
  },
  {
   "cell_type": "markdown",
   "metadata": {},
   "source": [
    "##### reversed()"
   ]
  },
  {
   "cell_type": "code",
   "execution_count": null,
   "metadata": {},
   "outputs": [],
   "source": [
    "uno = reversed('abcdehijbchijklmnño')\n",
    "print(uno)\n",
    "print(list(uno))"
   ]
  },
  {
   "cell_type": "code",
   "execution_count": null,
   "metadata": {},
   "outputs": [],
   "source": [
    "uno = list(reversed('abcdehijbchijklñajgflñfskfjñgfldksjfgñldksñlfmñsldfgjmnño'))\n",
    "print(uno)"
   ]
  },
  {
   "cell_type": "code",
   "execution_count": null,
   "metadata": {},
   "outputs": [],
   "source": [
    "dos = reversed([2, 4, 6, 8, 10, 12, 14, 16])\n",
    "print(dos)\n",
    "print(list(dos))"
   ]
  },
  {
   "cell_type": "markdown",
   "metadata": {},
   "source": [
    "[pandas - Python Data Analysis Library](https://pandas.pydata.org/)\n",
    "![pandas](https://upload.wikimedia.org/wikipedia/commons/thumb/e/ed/Pandas_logo.svg/245px-Pandas_logo.svg.png)"
   ]
  },
  {
   "cell_type": "markdown",
   "metadata": {},
   "source": [
    "##### Vistazo rápido a Pandas No. 1"
   ]
  },
  {
   "cell_type": "code",
   "execution_count": null,
   "metadata": {},
   "outputs": [],
   "source": [
    "# Lista natural\n",
    "lista_1 = [0, 1, 2, 3, 4, 5, 6, 7, 8, 9]\n",
    "print(lista_1)\n",
    "\n",
    "# Lista \"range\"\n",
    "lista_2 = list(range(10, 20))\n",
    "print(lista_2)"
   ]
  },
  {
   "cell_type": "code",
   "execution_count": null,
   "metadata": {},
   "outputs": [],
   "source": [
    "# DataFrame\n",
    "import pandas as pd"
   ]
  },
  {
   "cell_type": "code",
   "execution_count": null,
   "metadata": {},
   "outputs": [],
   "source": [
    "ds = pd.Series(lista_2)\n",
    "print(ds)\n",
    "print(type(ds))"
   ]
  },
  {
   "cell_type": "code",
   "execution_count": null,
   "metadata": {},
   "outputs": [],
   "source": [
    "ds = pd.Series(lista_2, name='Tiempo')\n",
    "print(ds)\n",
    "print(type(ds))"
   ]
  },
  {
   "cell_type": "code",
   "execution_count": null,
   "metadata": {},
   "outputs": [],
   "source": [
    "df = pd.DataFrame([lista_1, lista_2])\n",
    "print(df)\n",
    "print(type(df))"
   ]
  },
  {
   "cell_type": "code",
   "execution_count": null,
   "metadata": {},
   "outputs": [],
   "source": [
    "df = pd.DataFrame()\n",
    "print(df)"
   ]
  },
  {
   "cell_type": "code",
   "execution_count": null,
   "metadata": {},
   "outputs": [],
   "source": [
    "df['Columna1'] = lista_1"
   ]
  },
  {
   "cell_type": "code",
   "execution_count": null,
   "metadata": {},
   "outputs": [],
   "source": [
    "df['Columna2'] = lista_2\n",
    "print(df)\n",
    "print(type(df))"
   ]
  },
  {
   "cell_type": "markdown",
   "metadata": {},
   "source": [
    "##### FIN del Vistazo rápido a Pandas No. 1"
   ]
  },
  {
   "cell_type": "markdown",
   "metadata": {},
   "source": [
    "### Sustituión de \"def\"\n",
    "#### La sentencia def es una definición de función usada para crear objetos funciones definidas por el usuario."
   ]
  },
  {
   "cell_type": "code",
   "execution_count": null,
   "metadata": {},
   "outputs": [],
   "source": [
    "palabras = ['cerebro', 'mente', 'dualidad', 'pensamiento', 'pasión', 'enojo', 'alegría']\n",
    "\n",
    "def mayuscula(palabra):\n",
    "    return palabra.lower()\n",
    "\n",
    "print(mayuscula('Javier'))"
   ]
  },
  {
   "cell_type": "code",
   "execution_count": null,
   "metadata": {},
   "outputs": [],
   "source": [
    "mayus = mayuscula('Curso Python')\n",
    "print(mayus)\n",
    "otra_cosa = mayuscula('cANción')\n",
    "print(otra_cosa)"
   ]
  },
  {
   "cell_type": "markdown",
   "metadata": {},
   "source": [
    "##### map()\n",
    "##### se utiliza mucho junto a expresiones lambda ya que permite ahorrarnos el esfuerzo de crear bucles for."
   ]
  },
  {
   "cell_type": "code",
   "execution_count": null,
   "metadata": {},
   "outputs": [],
   "source": [
    "palabras = ['cerebro', 'mente', 'dualidad', 'pensamiento', 'pasión', 'enojo', 'alegría']\n",
    "print('Esto contiene la lista que queremos que sean en mayusculas = {}'.format(palabras));print(' ')"
   ]
  },
  {
   "cell_type": "code",
   "execution_count": null,
   "metadata": {},
   "outputs": [],
   "source": [
    "mayusculas = []\n",
    "print('Lo que contiene \"mayusculas\" {} ANTES del ciclo \"for\"'.format(mayusculas))\n",
    "\n",
    "for palabra in palabras:\n",
    "    print(palabra.upper())\n",
    "    mayusculas.append(palabra.upper())\n",
    "\n",
    "print(' ')\n",
    "print('Lo que contiene \"mayusculas\" {} DESPUÉS del ciclo \"for\"'.format(mayusculas))"
   ]
  },
  {
   "cell_type": "code",
   "execution_count": null,
   "metadata": {},
   "outputs": [],
   "source": [
    "print(len(mayusculas))\n",
    "print(mayusculas)"
   ]
  },
  {
   "cell_type": "code",
   "execution_count": null,
   "metadata": {},
   "outputs": [],
   "source": [
    "palabras = ['cerebro', 'mente', 'dualidad', 'pensamiento', 'pasión', 'enojo', 'alegría']\n",
    "mayusculas = map(lambda x:x.upper(), palabras)\n",
    "print(mayusculas)\n",
    "print(list(mayusculas))"
   ]
  },
  {
   "cell_type": "code",
   "execution_count": null,
   "metadata": {},
   "outputs": [],
   "source": [
    "muchos_nums = list(range(0, 10))"
   ]
  },
  {
   "cell_type": "code",
   "execution_count": null,
   "metadata": {},
   "outputs": [],
   "source": [
    "doble = []\n",
    "for nums in muchos_nums:\n",
    "    #print(nums, end=',')\n",
    "    doble.append(nums * 2)\n",
    "\n",
    "print(' ')\n",
    "print(doble)"
   ]
  },
  {
   "cell_type": "code",
   "execution_count": null,
   "metadata": {},
   "outputs": [],
   "source": [
    "for nums in muchos_nums:\n",
    "    nums * 2\n",
    "    print(nums * 2)"
   ]
  },
  {
   "cell_type": "code",
   "execution_count": null,
   "metadata": {},
   "outputs": [],
   "source": [
    "muchos_nums = list(range(0, 10))\n",
    "\n",
    "doble = list(map(lambda x: x * 2, muchos_nums))\n",
    "print(doble)\n",
    "#print(list(doble))"
   ]
  },
  {
   "cell_type": "code",
   "execution_count": null,
   "metadata": {},
   "outputs": [],
   "source": [
    "nums = [2, 4, 6, 8]\n",
    "expo = map(lambda x: x * x, nums)\n",
    "print(expo)\n",
    "print(list(expo))"
   ]
  },
  {
   "cell_type": "markdown",
   "metadata": {},
   "source": [
    "##### filter()"
   ]
  },
  {
   "cell_type": "code",
   "execution_count": null,
   "metadata": {},
   "outputs": [],
   "source": [
    "nums = list(range(21))\n",
    "print(nums)"
   ]
  },
  {
   "cell_type": "code",
   "execution_count": null,
   "metadata": {},
   "outputs": [],
   "source": [
    "filtrado_nones = filter(lambda x: x % 2 != 0, nums)\n",
    "print(filtrado_nones)\n",
    "print(list(filtrado_nones))"
   ]
  },
  {
   "cell_type": "code",
   "execution_count": null,
   "metadata": {},
   "outputs": [],
   "source": [
    "nums = list(range(21))\n",
    "filtrado_pares = filter(lambda x: x % 2 == 0, nums)\n",
    "print(filtrado_pares)\n",
    "print(list(filtrado_pares))"
   ]
  },
  {
   "cell_type": "code",
   "execution_count": null,
   "metadata": {},
   "outputs": [],
   "source": [
    "print(3 / 2)\n",
    "print(3 % 2)"
   ]
  },
  {
   "cell_type": "code",
   "execution_count": 1,
   "metadata": {},
   "outputs": [
    {
     "name": "stdout",
     "output_type": "stream",
     "text": [
      "['pasión']\n",
      "['ÓSCULO']\n"
     ]
    }
   ],
   "source": [
    "palabras = ['cerebro', 'mente', 'dualidad', 'pensamiento', 'pasión', 'enojo', 'alegría', 'canción', 'Lluvia', 'Trueno', 'Nuboso', 'FRANCO', 'PERPLEJO', 'ÓSCULO']\n",
    "letra_filtrada_minuscula = filter(lambda x:('pasión' or 'pasion' or 'enojó') in x, palabras)\n",
    "letra_filtrada_mayuscula = filter(lambda x:'Ó' in x, palabras)\n",
    "print(list(letra_filtrada_minuscula))\n",
    "print(list(letra_filtrada_mayuscula))"
   ]
  },
  {
   "cell_type": "markdown",
   "metadata": {},
   "source": [
    "[pandas - Python Data Analysis Library](https://pandas.pydata.org/)\n",
    "![pandas](https://upload.wikimedia.org/wikipedia/commons/thumb/e/ed/Pandas_logo.svg/245px-Pandas_logo.svg.png)"
   ]
  },
  {
   "cell_type": "markdown",
   "metadata": {},
   "source": [
    "##### Vistazo rápido a Pandas No. 2"
   ]
  },
  {
   "cell_type": "code",
   "execution_count": null,
   "metadata": {},
   "outputs": [],
   "source": [
    "import pandas as pd\n",
    "\n",
    "palabras = ['cerebro', 'mente', 'dualidad', 'pensamiento', 'pasión', 'enojo', 'alegría', 'canción', 'Lluvia', 'Trueno', 'Nuboso', 'FRANCO', 'PERPLEJO', 'ÓSCULO']\n",
    "\n",
    "df = pd.DataFrame()\n",
    "df['Palabras'] = palabras\n",
    "df['Num_Letras'] = df[['Palabras']].applymap(lambda x: len(x)) # doble corchete recto\n",
    "df = df.sort_values('Num_Letras').sort_index()\n",
    "\n",
    "df"
   ]
  },
  {
   "cell_type": "code",
   "execution_count": null,
   "metadata": {},
   "outputs": [],
   "source": [
    "## HACER UN DATAFRAME USANDO EL CICLO FOR"
   ]
  },
  {
   "cell_type": "code",
   "execution_count": null,
   "metadata": {},
   "outputs": [],
   "source": [
    "df = pd.DataFrame()\n",
    "\n",
    "list_df = []\n",
    "\n",
    "palabras = ['cerebro', 'mente', 'dualidad', 'pensamiento', 'pasión', 'enojo', 'alegría', 'canción', 'Lluvia', 'Trueno', 'Nuboso', 'FRANCO', 'PERPLEJO', 'ÓSCULO']\n",
    "\n",
    "for i in palabras:\n",
    "    list_df.append(len(i))\n",
    "    \n",
    "df['Otras_Palabras'] = palabras\n",
    "df['Letras'] = list_df\n",
    "\n",
    "df"
   ]
  },
  {
   "cell_type": "code",
   "execution_count": null,
   "metadata": {},
   "outputs": [],
   "source": [
    "ejem1 = df.iloc[3, 0]\n",
    "print(ejem1)\n",
    "\n",
    "ejem2 = df.loc[3, 'Otras_Palabras']\n",
    "print(ejem2)"
   ]
  },
  {
   "cell_type": "markdown",
   "metadata": {},
   "source": [
    "##### FIN del Vistazo rápido a Pandas No. 2"
   ]
  },
  {
   "cell_type": "markdown",
   "metadata": {},
   "source": [
    "##### enumerate()"
   ]
  },
  {
   "cell_type": "code",
   "execution_count": null,
   "metadata": {},
   "outputs": [],
   "source": [
    "palabras = ['cerebro', 'mente', 'dualidad', 'pensamiento', 'pasión', 'enojo', 'alegría']\n",
    "for i, j in enumerate(palabras):\n",
    "    print(i, j)"
   ]
  },
  {
   "cell_type": "code",
   "execution_count": null,
   "metadata": {},
   "outputs": [],
   "source": [
    "lista = list(enumerate(palabras))\n",
    "print(lista)"
   ]
  },
  {
   "cell_type": "code",
   "execution_count": null,
   "metadata": {},
   "outputs": [],
   "source": [
    "print(lista)\n",
    "print(type(lista))\n",
    "print(type(lista[0]))\n",
    "print(' ')"
   ]
  },
  {
   "cell_type": "code",
   "execution_count": null,
   "metadata": {},
   "outputs": [],
   "source": [
    "ordenados_por_letra_inicial = sorted(lista, key=lambda x:x[1])\n",
    "print(ordenados_por_letra_inicial)\n",
    "print(type(ordenados_por_letra_inicial))\n",
    "print(type(ordenados_por_letra_inicial[0]))\n",
    "print(' ')"
   ]
  },
  {
   "cell_type": "code",
   "execution_count": null,
   "metadata": {},
   "outputs": [],
   "source": [
    "ordenados_por_cantidad_de_letras = sorted(lista, key=lambda x:len(x[1]))\n",
    "print(ordenados_por_cantidad_de_letras)\n",
    "print(type(ordenados_por_cantidad_de_letras))\n",
    "print(type(ordenados_por_cantidad_de_letras[0]))"
   ]
  },
  {
   "cell_type": "markdown",
   "metadata": {},
   "source": [
    "#### Tuplas"
   ]
  },
  {
   "cell_type": "code",
   "execution_count": null,
   "metadata": {},
   "outputs": [],
   "source": [
    "# Las tuplas son objetos de tipo secuencia, específicamente es un tipo de dato lista inmutable. \n",
    "# Esta no puede modificarse de ningún modo después de su creación.\n",
    "\n",
    "software = ('Python', 30, 'C++', True)"
   ]
  },
  {
   "cell_type": "code",
   "execution_count": null,
   "metadata": {},
   "outputs": [],
   "source": [
    "print('El elemento \"{}\" se repite {} vez'.format(software[0], software.count(software[0])))\n",
    "\n",
    "print('El elemento \"{}\" está en el lugar {}'.format(software[0], software.index(software[0])))"
   ]
  },
  {
   "cell_type": "code",
   "execution_count": null,
   "metadata": {},
   "outputs": [],
   "source": [
    "lugar = 3\n",
    "\n",
    "print('El elemento \"{}\" se repite {} vez'.format(software[lugar], software.count(software[lugar])))\n",
    "\n",
    "print('El elemento \"{}\" está en el lugar {}'.format(software[lugar], software.index(software[lugar])))"
   ]
  },
  {
   "cell_type": "code",
   "execution_count": null,
   "metadata": {},
   "outputs": [],
   "source": [
    "tupla1 = sorted((4, 1, 9, 3), reverse=True)\n",
    "print(tupla1)"
   ]
  },
  {
   "cell_type": "code",
   "execution_count": null,
   "metadata": {},
   "outputs": [],
   "source": [
    "## Trucazo. Se puede ordenar la tupla dentro de la lista de acuerdo a la posición del elemento dentro de la tupla\n",
    "tupla2 = [('A', 1, 5), ('B', 3, 2), ('C', 2, 6)]\n",
    "\n",
    "tupla2_ordenada = sorted(tupla2, key=lambda x:x[1])\n",
    "print(tupla2_ordenada)\n",
    "\n",
    "otra_tupla_ordenada = sorted(palabras, key=lambda x:len(x))\n",
    "print(otra_tupla_ordenada)"
   ]
  },
  {
   "cell_type": "markdown",
   "metadata": {},
   "source": [
    "#### Diccionarios"
   ]
  },
  {
   "cell_type": "code",
   "execution_count": null,
   "metadata": {},
   "outputs": [],
   "source": [
    "curso = {'¿Qué curso es?':'Python para los no programadores',\n",
    "         '¿Quién da el curso?':'Javier',\n",
    "         '¿Cuántos alumnos hay?':1000,\n",
    "         '¿Calificación para pasar el curso?':[8.7, 9.3, 9.9],\n",
    "         '¿Es verdadero este curso?':True,\n",
    "         '¿El curso cumple con las espectativas?':None}"
   ]
  },
  {
   "cell_type": "code",
   "execution_count": null,
   "metadata": {},
   "outputs": [],
   "source": [
    "curso['¿Qué curso es?']"
   ]
  },
  {
   "cell_type": "code",
   "execution_count": null,
   "metadata": {},
   "outputs": [],
   "source": [
    "curso['¿Quién da el curso?']"
   ]
  },
  {
   "cell_type": "code",
   "execution_count": null,
   "metadata": {},
   "outputs": [],
   "source": [
    "curso['¿Cuántos alumnos hay?']"
   ]
  },
  {
   "cell_type": "code",
   "execution_count": null,
   "metadata": {},
   "outputs": [],
   "source": [
    "curso['¿Calificación para pasar el curso?']"
   ]
  },
  {
   "cell_type": "code",
   "execution_count": null,
   "metadata": {},
   "outputs": [],
   "source": [
    "curso['¿Es verdadero este curso?']"
   ]
  },
  {
   "cell_type": "code",
   "execution_count": null,
   "metadata": {},
   "outputs": [],
   "source": [
    "curso['¿El curso cumple con las espectativas?']"
   ]
  },
  {
   "cell_type": "code",
   "execution_count": null,
   "metadata": {},
   "outputs": [],
   "source": [
    "print(curso.items())"
   ]
  },
  {
   "cell_type": "code",
   "execution_count": null,
   "metadata": {},
   "outputs": [],
   "source": [
    "print(curso.keys())"
   ]
  },
  {
   "cell_type": "code",
   "execution_count": null,
   "metadata": {},
   "outputs": [],
   "source": [
    "print(curso.values())"
   ]
  },
  {
   "cell_type": "code",
   "execution_count": null,
   "metadata": {},
   "outputs": [],
   "source": [
    "curso"
   ]
  },
  {
   "cell_type": "code",
   "execution_count": null,
   "metadata": {},
   "outputs": [],
   "source": [
    "## Agregar valores al diccionario\n",
    "curso.update({'¿Los participantes están contentos?':'Si'})"
   ]
  },
  {
   "cell_type": "code",
   "execution_count": null,
   "metadata": {},
   "outputs": [],
   "source": [
    "curso"
   ]
  },
  {
   "cell_type": "markdown",
   "metadata": {},
   "source": [
    "[pandas - Python Data Analysis Library](https://pandas.pydata.org/)\n",
    "![pandas](https://upload.wikimedia.org/wikipedia/commons/thumb/e/ed/Pandas_logo.svg/245px-Pandas_logo.svg.png)"
   ]
  },
  {
   "cell_type": "markdown",
   "metadata": {},
   "source": [
    "##### Vistazo rápido a Pandas No. 3"
   ]
  },
  {
   "cell_type": "code",
   "execution_count": null,
   "metadata": {},
   "outputs": [],
   "source": [
    "import pandas as pd\n",
    "df = pd.DataFrame(curso)\n",
    "df"
   ]
  },
  {
   "cell_type": "code",
   "execution_count": null,
   "metadata": {},
   "outputs": [],
   "source": [
    "import pandas as pd\n",
    "import numpy as np\n",
    "\n",
    "np.random.seed(1983)\n",
    "\n",
    "curso = {'Integrantes':['Javier', 'Olivia', 'Flora', 'Gabriel', 'Luis', 'Josué', 'Francisco', 'Mayra'],\n",
    "         'Edad':np.random.randint(18, 40, size=(8)),\n",
    "         'IQ':np.random.randint(70, 120, size=(8)),\n",
    "         'Categorica':np.random.randint(0, 1000, size=(8))} # Variable categorica PARES == SI IMPARES == NO"
   ]
  },
  {
   "cell_type": "code",
   "execution_count": null,
   "metadata": {},
   "outputs": [],
   "source": [
    "df = pd.DataFrame(curso)\n",
    "df.Edad.plot()"
   ]
  },
  {
   "cell_type": "markdown",
   "metadata": {},
   "source": [
    "##### FIN del Vistazo rápido a Pandas No. 3"
   ]
  },
  {
   "cell_type": "markdown",
   "metadata": {},
   "source": [
    "#### El TodoPoderoso bucle \"FOR\" con el inigualable condicional \"IF\" y el convenenciero \"WHILE\""
   ]
  },
  {
   "cell_type": "markdown",
   "metadata": {},
   "source": [
    "###### ¿Qué es un iterador? Un iterador se refiere al objeto que permite al programador recorrer un contenedor, particularmente listas."
   ]
  },
  {
   "cell_type": "code",
   "execution_count": null,
   "metadata": {},
   "outputs": [],
   "source": [
    "palabras = ['cerebro', 'mente', 'dualidad', 'pensamiento', 'pasión', 'enojo', 'alegría']\n",
    "\n",
    "iterador = iter(palabras)\n",
    "\n",
    "print(next(iterador))\n",
    "#print(next(iterador))\n",
    "#print(next(iterador))\n",
    "#print(next(iterador))"
   ]
  },
  {
   "cell_type": "code",
   "execution_count": null,
   "metadata": {},
   "outputs": [],
   "source": [
    "palabras = ['cerebro', 'mente', 'dualidad', 'pensamiento', 'pasión', 'enojo', 'alegría']\n",
    "\n",
    "for palabra in palabras:\n",
    "    print(palabra)"
   ]
  },
  {
   "cell_type": "code",
   "execution_count": null,
   "metadata": {},
   "outputs": [],
   "source": [
    "# También aplicamos el bucle \"for\" a los diccionarios\n",
    "\n",
    "otras_palabras = {'cerebro': 1, 'mente': 2, 'dualidad': 3, 'pensamiento':4, 'pasión':5, 'enojo':6, 'alegría':7}\n",
    "\n",
    "for keys in otras_palabras:\n",
    "    print(keys)"
   ]
  },
  {
   "cell_type": "code",
   "execution_count": null,
   "metadata": {},
   "outputs": [],
   "source": [
    "for valores in otras_palabras.values():\n",
    "    print(valores)"
   ]
  },
  {
   "cell_type": "code",
   "execution_count": null,
   "metadata": {},
   "outputs": [],
   "source": [
    "for keys in otras_palabras:\n",
    "    print(otras_palabras[keys])"
   ]
  },
  {
   "cell_type": "code",
   "execution_count": null,
   "metadata": {},
   "outputs": [],
   "source": [
    "for k, v in otras_palabras.items():\n",
    "    print('keys = {}, valor = {}'.format(k, v))"
   ]
  },
  {
   "cell_type": "code",
   "execution_count": null,
   "metadata": {},
   "outputs": [],
   "source": [
    "# funcion \"range\"\n",
    "for n in range(-5, 5):\n",
    "    print(n)"
   ]
  },
  {
   "cell_type": "code",
   "execution_count": null,
   "metadata": {},
   "outputs": [],
   "source": [
    "for n in range(0, 51, 2):\n",
    "    print(n)"
   ]
  },
  {
   "cell_type": "code",
   "execution_count": null,
   "metadata": {},
   "outputs": [],
   "source": [
    "num = [n for n in range(-50, 51, 2)]\n",
    "print(num)"
   ]
  },
  {
   "cell_type": "code",
   "execution_count": null,
   "metadata": {},
   "outputs": [],
   "source": [
    "otro_num = map(lambda x: x * x, num)\n",
    "print(list(otro_num))"
   ]
  },
  {
   "cell_type": "code",
   "execution_count": null,
   "metadata": {},
   "outputs": [],
   "source": [
    "vocal = [v for v in 'Javier Villanueva Valle' if v in 'aeiou']\n",
    "print(vocal)\n",
    "\n",
    "conteo_vocal = [vocal.count(x) for x in vocal]\n",
    "print(conteo_vocal)\n",
    "\n",
    "conjunto_vocal = list(set(vocal))\n",
    "print(conjunto_vocal)"
   ]
  },
  {
   "cell_type": "code",
   "execution_count": null,
   "metadata": {},
   "outputs": [],
   "source": [
    "vocales = 'aeiou'\n",
    "for v in 'Javier Villanueva Valle':\n",
    "    if v in vocales:\n",
    "        print(v)"
   ]
  },
  {
   "cell_type": "code",
   "execution_count": null,
   "metadata": {},
   "outputs": [],
   "source": [
    "for v in 'Javier Villanueva Valle':\n",
    "    if v in 'aeiou':\n",
    "        print(v)"
   ]
  },
  {
   "cell_type": "code",
   "execution_count": 2,
   "metadata": {},
   "outputs": [],
   "source": [
    "fragmento = \"\"\"\n",
    "Mario Benedetti\n",
    "Pedro y el Capitán (fragmento)\n",
    "\n",
    "Pedro, usted está muerto y yo también. De distintas muertes, claro. La mía es una muerte por trampa, por emboscada. \n",
    "Caí en la emboscada y ya no hay posible retroceso. Estoy entrampado. \n",
    "Si yo le dijera que no puedo abandonar esto, usted me diría que es natural porque sería abandonar el confort, los dos autos, etcétera. \n",
    "Y no es así. Todo eso lo dejaría sin remordimientos. Si no lo dejo es porque tengo miedo. Pueden hacer conmigo lo mismo que hacen, que hacemos con usted. \n",
    "Y usted seguramente me diría: «Bueno, ya ves, puede aguantarse.» Usted sí puede aguantarlo, porque tiene en qué creer, tiene a qué asirse. \n",
    "Yo no. Pero dentro de mi imposibilidad de rescatarme, me queda una solución intermedia. \n",
    "Ya sé que Inés y los chicos pueden un día llegar a odiarme, si se enteran con lujo de detalles de lo que hice y de lo que hago. \n",
    "Pero si todo esto lo hago, además, sin conseguir nada, como ha sido en su caso hasta ahora, no tengo justificación posible. \n",
    "Si usted muere sin nombrar un solo dato, para mí es la derrota total, la vergüenza total. Si en cambio dice algo, habrá también algo que me justifique. \n",
    "Ya mi crueldad no será gratuita, puesto que cumple su objetivo. Es sólo eso lo que le pido, lo que le suplico. \n",
    "Ya no cuatro nombres y apellidos, sino tan sólo uno. Y puede elegir: Gabriel o Rosario o Magdalena o Fermín. \n",
    "Uno solito, el que menos represente para usted; aquel al que usted le tenga menos afecto; incluso el que sea menos importante. \n",
    "No sé si me entiende: aquí no le estoy pidiendo una información para salvar al régimen, sino un dato para salvarme yo, o mejor dicho para salvar un poco de mí. \n",
    "Le estoy pidiendo la mediocre justificación de la eficacia, para no quedar ante Inés y los chicos como un sádico inútil,\n",
    "sino por lo menos como un sabueso eficaz, como un profesional redituable. De lo contrario, lo pierdo todo.\n",
    "(El Capitán da unos pasos hacia Pedro y cae de rodillas ante él.) \n",
    "Pedro, nos queda poco tiempo, muy poco tiempo. A usted y a mí. Pero usted se va y yo me quedo. \n",
    "Pedro, este es un ruego de un hombre deshecho. Usted no es inhumano. Usted es un hombre sensible. \n",
    "Usted es capaz de querer a la gente, de sufrir por la gente, de morir por la gente. \n",
    "Pedro, se lo ruego: diga un nombre y un apellido, nada más que un nombre y un apellido. \n",
    "A esto se ha reducido toda mi exigencia. Igual el triunfo será suyo.\n",
    "\"\"\""
   ]
  },
  {
   "cell_type": "code",
   "execution_count": 3,
   "metadata": {},
   "outputs": [
    {
     "name": "stdout",
     "output_type": "stream",
     "text": [
      "['Mario', 'Benedetti', 'Pedro', 'y', 'el', 'Capitán', '(fragmento)', 'Pedro,', 'usted', 'está', 'muerto', 'y', 'yo', 'también.', 'De', 'distintas', 'muertes,', 'claro.', 'La', 'mía', 'es', 'una', 'muerte', 'por', 'trampa,', 'por', 'emboscada.', 'Caí', 'en', 'la', 'emboscada', 'y', 'ya', 'no', 'hay', 'posible', 'retroceso.', 'Estoy', 'entrampado.', 'Si', 'yo', 'le', 'dijera', 'que', 'no', 'puedo', 'abandonar', 'esto,', 'usted', 'me', 'diría', 'que', 'es', 'natural', 'porque', 'sería', 'abandonar', 'el', 'confort,', 'los', 'dos', 'autos,', 'etcétera.', 'Y', 'no', 'es', 'así.', 'Todo', 'eso', 'lo', 'dejaría', 'sin', 'remordimientos.', 'Si', 'no', 'lo', 'dejo', 'es', 'porque', 'tengo', 'miedo.', 'Pueden', 'hacer', 'conmigo', 'lo', 'mismo', 'que', 'hacen,', 'que', 'hacemos', 'con', 'usted.', 'Y', 'usted', 'seguramente', 'me', 'diría:', '«Bueno,', 'ya', 'ves,', 'puede', 'aguantarse.»', 'Usted', 'sí', 'puede', 'aguantarlo,', 'porque', 'tiene', 'en', 'qué', 'creer,', 'tiene', 'a', 'qué', 'asirse.', 'Yo', 'no.', 'Pero', 'dentro', 'de', 'mi', 'imposibilidad', 'de', 'rescatarme,', 'me', 'queda', 'una', 'solución', 'intermedia.', 'Ya', 'sé', 'que', 'Inés', 'y', 'los', 'chicos', 'pueden', 'un', 'día', 'llegar', 'a', 'odiarme,', 'si', 'se', 'enteran', 'con', 'lujo', 'de', 'detalles', 'de', 'lo', 'que', 'hice', 'y', 'de', 'lo', 'que', 'hago.', 'Pero', 'si', 'todo', 'esto', 'lo', 'hago,', 'además,', 'sin', 'conseguir', 'nada,', 'como', 'ha', 'sido', 'en', 'su', 'caso', 'hasta', 'ahora,', 'no', 'tengo', 'justificación', 'posible.', 'Si', 'usted', 'muere', 'sin', 'nombrar', 'un', 'solo', 'dato,', 'para', 'mí', 'es', 'la', 'derrota', 'total,', 'la', 'vergüenza', 'total.', 'Si', 'en', 'cambio', 'dice', 'algo,', 'habrá', 'también', 'algo', 'que', 'me', 'justifique.', 'Ya', 'mi', 'crueldad', 'no', 'será', 'gratuita,', 'puesto', 'que', 'cumple', 'su', 'objetivo.', 'Es', 'sólo', 'eso', 'lo', 'que', 'le', 'pido,', 'lo', 'que', 'le', 'suplico.', 'Ya', 'no', 'cuatro', 'nombres', 'y', 'apellidos,', 'sino', 'tan', 'sólo', 'uno.', 'Y', 'puede', 'elegir:', 'Gabriel', 'o', 'Rosario', 'o', 'Magdalena', 'o', 'Fermín.', 'Uno', 'solito,', 'el', 'que', 'menos', 'represente', 'para', 'usted;', 'aquel', 'al', 'que', 'usted', 'le', 'tenga', 'menos', 'afecto;', 'incluso', 'el', 'que', 'sea', 'menos', 'importante.', 'No', 'sé', 'si', 'me', 'entiende:', 'aquí', 'no', 'le', 'estoy', 'pidiendo', 'una', 'información', 'para', 'salvar', 'al', 'régimen,', 'sino', 'un', 'dato', 'para', 'salvarme', 'yo,', 'o', 'mejor', 'dicho', 'para', 'salvar', 'un', 'poco', 'de', 'mí.', 'Le', 'estoy', 'pidiendo', 'la', 'mediocre', 'justificación', 'de', 'la', 'eficacia,', 'para', 'no', 'quedar', 'ante', 'Inés', 'y', 'los', 'chicos', 'como', 'un', 'sádico', 'inútil,', 'sino', 'por', 'lo', 'menos', 'como', 'un', 'sabueso', 'eficaz,', 'como', 'un', 'profesional', 'redituable.', 'De', 'lo', 'contrario,', 'lo', 'pierdo', 'todo.', '(El', 'Capitán', 'da', 'unos', 'pasos', 'hacia', 'Pedro', 'y', 'cae', 'de', 'rodillas', 'ante', 'él.)', 'Pedro,', 'nos', 'queda', 'poco', 'tiempo,', 'muy', 'poco', 'tiempo.', 'A', 'usted', 'y', 'a', 'mí.', 'Pero', 'usted', 'se', 'va', 'y', 'yo', 'me', 'quedo.', 'Pedro,', 'este', 'es', 'un', 'ruego', 'de', 'un', 'hombre', 'deshecho.', 'Usted', 'no', 'es', 'inhumano.', 'Usted', 'es', 'un', 'hombre', 'sensible.', 'Usted', 'es', 'capaz', 'de', 'querer', 'a', 'la', 'gente,', 'de', 'sufrir', 'por', 'la', 'gente,', 'de', 'morir', 'por', 'la', 'gente.', 'Pedro,', 'se', 'lo', 'ruego:', 'diga', 'un', 'nombre', 'y', 'un', 'apellido,', 'nada', 'más', 'que', 'un', 'nombre', 'y', 'un', 'apellido.', 'A', 'esto', 'se', 'ha', 'reducido', 'toda', 'mi', 'exigencia.', 'Igual', 'el', 'triunfo', 'será', 'suyo.']\n"
     ]
    }
   ],
   "source": [
    "mario_benedetti = fragmento.split()\n",
    "print(mario_benedetti)"
   ]
  },
  {
   "cell_type": "code",
   "execution_count": 4,
   "metadata": {},
   "outputs": [],
   "source": [
    "import pandas as pd"
   ]
  },
  {
   "cell_type": "code",
   "execution_count": 5,
   "metadata": {},
   "outputs": [],
   "source": [
    "preposiciones = ['a', 'durante', 'según', 'ante', 'en', 'sin', 'bajo', 'entre', 'so', 'cabe', 'hacia', 'sobre', 'con', 'hasta', 'tras', 'contra', 'mediante', \n",
    "                 'versus', 'de', 'para', 'vía', 'desde', 'por']"
   ]
  },
  {
   "cell_type": "code",
   "execution_count": null,
   "metadata": {},
   "outputs": [],
   "source": [
    "print(preposiciones)"
   ]
  },
  {
   "cell_type": "code",
   "execution_count": null,
   "metadata": {},
   "outputs": [],
   "source": [
    "print(mario_benedetti.count('a'))"
   ]
  },
  {
   "cell_type": "code",
   "execution_count": null,
   "metadata": {},
   "outputs": [],
   "source": [
    "print(mario_benedetti.count(preposiciones[0]))"
   ]
  },
  {
   "cell_type": "code",
   "execution_count": null,
   "metadata": {},
   "outputs": [],
   "source": [
    "for prepos in preposiciones:\n",
    "    print(prepos, end='-')\n",
    "    print(mario_benedetti.count(prepos), end='. ')"
   ]
  },
  {
   "cell_type": "code",
   "execution_count": null,
   "metadata": {},
   "outputs": [],
   "source": [
    "contar_preposiciones = []\n",
    "for prepos in preposiciones:\n",
    "    contar_preposiciones.append(mario_benedetti.count(prepos))\n",
    "\n",
    "contar_preposiciones"
   ]
  },
  {
   "cell_type": "code",
   "execution_count": null,
   "metadata": {},
   "outputs": [],
   "source": [
    "las_prepo = []\n",
    "\n",
    "for prepo in preposiciones:\n",
    "    if prepo in mario_benedetti:\n",
    "        las_prepo.append(prepo)\n",
    "\n",
    "print(las_prepo)\n",
    "print(' ')\n",
    "print(pd.Series(las_prepo))\n",
    "print(' ')\n",
    "print(pd.DataFrame(las_prepo))"
   ]
  },
  {
   "cell_type": "code",
   "execution_count": null,
   "metadata": {},
   "outputs": [],
   "source": [
    "las_prepos = []\n",
    "for prepos in preposiciones:\n",
    "    las_prepos.append(prepos)\n",
    "\n",
    "cantidad_prepos = []\n",
    "for prepos in preposiciones:\n",
    "    cantidad_prepos.append(mario_benedetti.count(prepos))\n",
    "\n",
    "print(las_prepos, cantidad_prepos)"
   ]
  },
  {
   "cell_type": "code",
   "execution_count": null,
   "metadata": {},
   "outputs": [],
   "source": [
    "las_prepos = []\n",
    "cantidad_prepos = []\n",
    "\n",
    "for prepos in preposiciones:\n",
    "    las_prepos.append(prepos)\n",
    "    cantidad_prepos.append(mario_benedetti.count(prepos))\n",
    "\n",
    "ejem_prepos = pd.DataFrame()\n",
    "ejem_prepos['Preposiciones'] = las_prepos\n",
    "ejem_prepos['Cant_Prepos'] = cantidad_prepos\n",
    "ejem_prepos"
   ]
  },
  {
   "cell_type": "code",
   "execution_count": null,
   "metadata": {},
   "outputs": [],
   "source": [
    "prepos = [prepo for prepo in preposiciones if prepo in mario_benedetti]\n",
    "#prepos = [prepo for prepo in preposiciones]\n",
    "print(prepos)\n",
    "print(' ')\n",
    "print(pd.Series(prepos))\n",
    "print(' ')\n",
    "print(pd.DataFrame(prepos))\n",
    "print(' ')\n",
    "print(' ')\n",
    "conteo = [mario_benedetti.count(prepos) for prepos in preposiciones]\n",
    "print(conteo)\n",
    "print(' ')\n",
    "print(pd.Series(conteo))\n",
    "print(' ')\n",
    "print(pd.DataFrame(conteo))"
   ]
  },
  {
   "cell_type": "code",
   "execution_count": 18,
   "metadata": {},
   "outputs": [
    {
     "name": "stdout",
     "output_type": "stream",
     "text": [
      "['a', 'durante', 'según', 'ante', 'en', 'sin', 'bajo', 'entre', 'so', 'cabe', 'hacia', 'sobre', 'con', 'hasta', 'tras', 'contra', 'mediante', 'versus', 'de', 'para', 'vía', 'desde', 'por']\n"
     ]
    },
    {
     "data": {
      "text/html": [
       "<div>\n",
       "<style scoped>\n",
       "    .dataframe tbody tr th:only-of-type {\n",
       "        vertical-align: middle;\n",
       "    }\n",
       "\n",
       "    .dataframe tbody tr th {\n",
       "        vertical-align: top;\n",
       "    }\n",
       "\n",
       "    .dataframe thead th {\n",
       "        text-align: right;\n",
       "    }\n",
       "</style>\n",
       "<table border=\"1\" class=\"dataframe\">\n",
       "  <thead>\n",
       "    <tr style=\"text-align: right;\">\n",
       "      <th></th>\n",
       "      <th>De_Otro_DF_Preposiciones</th>\n",
       "      <th>De_Otro_DF_Cant_Prepos</th>\n",
       "    </tr>\n",
       "  </thead>\n",
       "  <tbody>\n",
       "    <tr>\n",
       "      <th>0</th>\n",
       "      <td>a</td>\n",
       "      <td>4</td>\n",
       "    </tr>\n",
       "    <tr>\n",
       "      <th>1</th>\n",
       "      <td>durante</td>\n",
       "      <td>0</td>\n",
       "    </tr>\n",
       "    <tr>\n",
       "      <th>2</th>\n",
       "      <td>según</td>\n",
       "      <td>0</td>\n",
       "    </tr>\n",
       "    <tr>\n",
       "      <th>3</th>\n",
       "      <td>ante</td>\n",
       "      <td>2</td>\n",
       "    </tr>\n",
       "    <tr>\n",
       "      <th>4</th>\n",
       "      <td>en</td>\n",
       "      <td>4</td>\n",
       "    </tr>\n",
       "    <tr>\n",
       "      <th>5</th>\n",
       "      <td>sin</td>\n",
       "      <td>3</td>\n",
       "    </tr>\n",
       "    <tr>\n",
       "      <th>6</th>\n",
       "      <td>bajo</td>\n",
       "      <td>0</td>\n",
       "    </tr>\n",
       "    <tr>\n",
       "      <th>7</th>\n",
       "      <td>entre</td>\n",
       "      <td>0</td>\n",
       "    </tr>\n",
       "    <tr>\n",
       "      <th>8</th>\n",
       "      <td>so</td>\n",
       "      <td>0</td>\n",
       "    </tr>\n",
       "    <tr>\n",
       "      <th>9</th>\n",
       "      <td>cabe</td>\n",
       "      <td>0</td>\n",
       "    </tr>\n",
       "    <tr>\n",
       "      <th>10</th>\n",
       "      <td>hacia</td>\n",
       "      <td>1</td>\n",
       "    </tr>\n",
       "    <tr>\n",
       "      <th>11</th>\n",
       "      <td>sobre</td>\n",
       "      <td>0</td>\n",
       "    </tr>\n",
       "    <tr>\n",
       "      <th>12</th>\n",
       "      <td>con</td>\n",
       "      <td>2</td>\n",
       "    </tr>\n",
       "    <tr>\n",
       "      <th>13</th>\n",
       "      <td>hasta</td>\n",
       "      <td>1</td>\n",
       "    </tr>\n",
       "    <tr>\n",
       "      <th>14</th>\n",
       "      <td>tras</td>\n",
       "      <td>0</td>\n",
       "    </tr>\n",
       "    <tr>\n",
       "      <th>15</th>\n",
       "      <td>contra</td>\n",
       "      <td>0</td>\n",
       "    </tr>\n",
       "    <tr>\n",
       "      <th>16</th>\n",
       "      <td>mediante</td>\n",
       "      <td>0</td>\n",
       "    </tr>\n",
       "    <tr>\n",
       "      <th>17</th>\n",
       "      <td>versus</td>\n",
       "      <td>0</td>\n",
       "    </tr>\n",
       "    <tr>\n",
       "      <th>18</th>\n",
       "      <td>de</td>\n",
       "      <td>12</td>\n",
       "    </tr>\n",
       "    <tr>\n",
       "      <th>19</th>\n",
       "      <td>para</td>\n",
       "      <td>6</td>\n",
       "    </tr>\n",
       "    <tr>\n",
       "      <th>20</th>\n",
       "      <td>vía</td>\n",
       "      <td>0</td>\n",
       "    </tr>\n",
       "    <tr>\n",
       "      <th>21</th>\n",
       "      <td>desde</td>\n",
       "      <td>0</td>\n",
       "    </tr>\n",
       "    <tr>\n",
       "      <th>22</th>\n",
       "      <td>por</td>\n",
       "      <td>5</td>\n",
       "    </tr>\n",
       "  </tbody>\n",
       "</table>\n",
       "</div>"
      ],
      "text/plain": [
       "   De_Otro_DF_Preposiciones  De_Otro_DF_Cant_Prepos\n",
       "0                         a                       4\n",
       "1                   durante                       0\n",
       "2                     según                       0\n",
       "3                      ante                       2\n",
       "4                        en                       4\n",
       "5                       sin                       3\n",
       "6                      bajo                       0\n",
       "7                     entre                       0\n",
       "8                        so                       0\n",
       "9                      cabe                       0\n",
       "10                    hacia                       1\n",
       "11                    sobre                       0\n",
       "12                      con                       2\n",
       "13                    hasta                       1\n",
       "14                     tras                       0\n",
       "15                   contra                       0\n",
       "16                 mediante                       0\n",
       "17                   versus                       0\n",
       "18                       de                      12\n",
       "19                     para                       6\n",
       "20                      vía                       0\n",
       "21                    desde                       0\n",
       "22                      por                       5"
      ]
     },
     "execution_count": 18,
     "metadata": {},
     "output_type": "execute_result"
    }
   ],
   "source": [
    "print(preposiciones)\n",
    "otro_ejem_prepos = pd.DataFrame()\n",
    "otro_ejem_prepos['De_Otro_DF_Preposiciones'] = [prepos for prepos in preposiciones]\n",
    "otro_ejem_prepos['De_Otro_DF_Cant_Prepos'] = [mario_benedetti.count(prepos) for prepos in preposiciones]\n",
    "otro_ejem_prepos"
   ]
  },
  {
   "cell_type": "code",
   "execution_count": 20,
   "metadata": {},
   "outputs": [
    {
     "data": {
      "text/plain": [
       "<matplotlib.axes._subplots.AxesSubplot at 0x122ed6550>"
      ]
     },
     "execution_count": 20,
     "metadata": {},
     "output_type": "execute_result"
    },
    {
     "data": {
      "image/png": "[encoded data removed]",
      "text/plain": [
       "<Figure size 432x288 with 1 Axes>"
      ]
     },
     "metadata": {
      "needs_background": "light"
     },
     "output_type": "display_data"
    }
   ],
   "source": [
    "otro_ejem_prepos.plot()"
   ]
  },
  {
   "cell_type": "code",
   "execution_count": 25,
   "metadata": {},
   "outputs": [
    {
     "ename": "ConversionError",
     "evalue": "Failed to convert value(s) to axis units: ['De_Otro_DF_Preposiciones', 'De_Otro_DF_Cant_Prepos']",
     "output_type": "error",
     "traceback": [
      "\u001b[0;31m---------------------------------------------------------------------------\u001b[0m",
      "\u001b[0;31mValueError\u001b[0m                                Traceback (most recent call last)",
      "\u001b[0;32m~/anaconda3/envs/javier/lib/python3.7/site-packages/matplotlib/axis.py\u001b[0m in \u001b[0;36mconvert_units\u001b[0;34m(self, x)\u001b[0m\n\u001b[1;32m   1572\u001b[0m         \u001b[0;32mtry\u001b[0m\u001b[0;34m:\u001b[0m\u001b[0;34m\u001b[0m\u001b[0;34m\u001b[0m\u001b[0m\n\u001b[0;32m-> 1573\u001b[0;31m             \u001b[0mret\u001b[0m \u001b[0;34m=\u001b[0m \u001b[0mself\u001b[0m\u001b[0;34m.\u001b[0m\u001b[0mconverter\u001b[0m\u001b[0;34m.\u001b[0m\u001b[0mconvert\u001b[0m\u001b[0;34m(\u001b[0m\u001b[0mx\u001b[0m\u001b[0;34m,\u001b[0m \u001b[0mself\u001b[0m\u001b[0;34m.\u001b[0m\u001b[0munits\u001b[0m\u001b[0;34m,\u001b[0m \u001b[0mself\u001b[0m\u001b[0;34m)\u001b[0m\u001b[0;34m\u001b[0m\u001b[0;34m\u001b[0m\u001b[0m\n\u001b[0m\u001b[1;32m   1574\u001b[0m         \u001b[0;32mexcept\u001b[0m \u001b[0mException\u001b[0m \u001b[0;32mas\u001b[0m \u001b[0me\u001b[0m\u001b[0;34m:\u001b[0m\u001b[0;34m\u001b[0m\u001b[0;34m\u001b[0m\u001b[0m\n",
      "\u001b[0;32m~/anaconda3/envs/javier/lib/python3.7/site-packages/matplotlib/category.py\u001b[0m in \u001b[0;36mconvert\u001b[0;34m(value, unit, axis)\u001b[0m\n\u001b[1;32m     49\u001b[0m             raise ValueError(\n\u001b[0;32m---> 50\u001b[0;31m                 \u001b[0;34m'Missing category information for StrCategoryConverter; '\u001b[0m\u001b[0;34m\u001b[0m\u001b[0;34m\u001b[0m\u001b[0m\n\u001b[0m\u001b[1;32m     51\u001b[0m                 \u001b[0;34m'this might be caused by unintendedly mixing categorical and '\u001b[0m\u001b[0;34m\u001b[0m\u001b[0;34m\u001b[0m\u001b[0m\n",
      "\u001b[0;31mValueError\u001b[0m: Missing category information for StrCategoryConverter; this might be caused by unintendedly mixing categorical and numeric data",
      "\nThe above exception was the direct cause of the following exception:\n",
      "\u001b[0;31mConversionError\u001b[0m                           Traceback (most recent call last)",
      "\u001b[0;32m<ipython-input-25-71b4fe5033cc>\u001b[0m in \u001b[0;36m<module>\u001b[0;34m\u001b[0m\n\u001b[0;32m----> 1\u001b[0;31m \u001b[0motro_ejem_prepos\u001b[0m\u001b[0;34m.\u001b[0m\u001b[0mset_index\u001b[0m\u001b[0;34m(\u001b[0m\u001b[0;34m'De_Otro_DF_Preposiciones'\u001b[0m\u001b[0;34m)\u001b[0m\u001b[0;34m.\u001b[0m\u001b[0mplot\u001b[0m\u001b[0;34m(\u001b[0m\u001b[0mfigsize\u001b[0m\u001b[0;34m=\u001b[0m\u001b[0;34m(\u001b[0m\u001b[0;36m10\u001b[0m\u001b[0;34m,\u001b[0m \u001b[0;36m6\u001b[0m\u001b[0;34m)\u001b[0m\u001b[0;34m,\u001b[0m \u001b[0mxticks\u001b[0m\u001b[0;34m=\u001b[0m\u001b[0mlist\u001b[0m\u001b[0;34m(\u001b[0m\u001b[0motro_ejem_prepos\u001b[0m\u001b[0;34m)\u001b[0m\u001b[0;34m)\u001b[0m\u001b[0;34m\u001b[0m\u001b[0;34m\u001b[0m\u001b[0m\n\u001b[0m",
      "\u001b[0;32m~/anaconda3/envs/javier/lib/python3.7/site-packages/pandas/plotting/_core.py\u001b[0m in \u001b[0;36m__call__\u001b[0;34m(self, *args, **kwargs)\u001b[0m\n\u001b[1;32m    845\u001b[0m                     \u001b[0mdata\u001b[0m\u001b[0;34m.\u001b[0m\u001b[0mcolumns\u001b[0m \u001b[0;34m=\u001b[0m \u001b[0mlabel_name\u001b[0m\u001b[0;34m\u001b[0m\u001b[0;34m\u001b[0m\u001b[0m\n\u001b[1;32m    846\u001b[0m \u001b[0;34m\u001b[0m\u001b[0m\n\u001b[0;32m--> 847\u001b[0;31m         \u001b[0;32mreturn\u001b[0m \u001b[0mplot_backend\u001b[0m\u001b[0;34m.\u001b[0m\u001b[0mplot\u001b[0m\u001b[0;34m(\u001b[0m\u001b[0mdata\u001b[0m\u001b[0;34m,\u001b[0m \u001b[0mkind\u001b[0m\u001b[0;34m=\u001b[0m\u001b[0mkind\u001b[0m\u001b[0;34m,\u001b[0m \u001b[0;34m**\u001b[0m\u001b[0mkwargs\u001b[0m\u001b[0;34m)\u001b[0m\u001b[0;34m\u001b[0m\u001b[0;34m\u001b[0m\u001b[0m\n\u001b[0m\u001b[1;32m    848\u001b[0m \u001b[0;34m\u001b[0m\u001b[0m\n\u001b[1;32m    849\u001b[0m     \u001b[0m__call__\u001b[0m\u001b[0;34m.\u001b[0m\u001b[0m__doc__\u001b[0m \u001b[0;34m=\u001b[0m \u001b[0m__doc__\u001b[0m\u001b[0;34m\u001b[0m\u001b[0;34m\u001b[0m\u001b[0m\n",
      "\u001b[0;32m~/anaconda3/envs/javier/lib/python3.7/site-packages/pandas/plotting/_matplotlib/__init__.py\u001b[0m in \u001b[0;36mplot\u001b[0;34m(data, kind, **kwargs)\u001b[0m\n\u001b[1;32m     59\u001b[0m             \u001b[0mkwargs\u001b[0m\u001b[0;34m[\u001b[0m\u001b[0;34m\"ax\"\u001b[0m\u001b[0;34m]\u001b[0m \u001b[0;34m=\u001b[0m \u001b[0mgetattr\u001b[0m\u001b[0;34m(\u001b[0m\u001b[0max\u001b[0m\u001b[0;34m,\u001b[0m \u001b[0;34m\"left_ax\"\u001b[0m\u001b[0;34m,\u001b[0m \u001b[0max\u001b[0m\u001b[0;34m)\u001b[0m\u001b[0;34m\u001b[0m\u001b[0;34m\u001b[0m\u001b[0m\n\u001b[1;32m     60\u001b[0m     \u001b[0mplot_obj\u001b[0m \u001b[0;34m=\u001b[0m \u001b[0mPLOT_CLASSES\u001b[0m\u001b[0;34m[\u001b[0m\u001b[0mkind\u001b[0m\u001b[0;34m]\u001b[0m\u001b[0;34m(\u001b[0m\u001b[0mdata\u001b[0m\u001b[0;34m,\u001b[0m \u001b[0;34m**\u001b[0m\u001b[0mkwargs\u001b[0m\u001b[0;34m)\u001b[0m\u001b[0;34m\u001b[0m\u001b[0;34m\u001b[0m\u001b[0m\n\u001b[0;32m---> 61\u001b[0;31m     \u001b[0mplot_obj\u001b[0m\u001b[0;34m.\u001b[0m\u001b[0mgenerate\u001b[0m\u001b[0;34m(\u001b[0m\u001b[0;34m)\u001b[0m\u001b[0;34m\u001b[0m\u001b[0;34m\u001b[0m\u001b[0m\n\u001b[0m\u001b[1;32m     62\u001b[0m     \u001b[0mplot_obj\u001b[0m\u001b[0;34m.\u001b[0m\u001b[0mdraw\u001b[0m\u001b[0;34m(\u001b[0m\u001b[0;34m)\u001b[0m\u001b[0;34m\u001b[0m\u001b[0;34m\u001b[0m\u001b[0m\n\u001b[1;32m     63\u001b[0m     \u001b[0;32mreturn\u001b[0m \u001b[0mplot_obj\u001b[0m\u001b[0;34m.\u001b[0m\u001b[0mresult\u001b[0m\u001b[0;34m\u001b[0m\u001b[0;34m\u001b[0m\u001b[0m\n",
      "\u001b[0;32m~/anaconda3/envs/javier/lib/python3.7/site-packages/pandas/plotting/_matplotlib/core.py\u001b[0m in \u001b[0;36mgenerate\u001b[0;34m(self)\u001b[0m\n\u001b[1;32m    264\u001b[0m         \u001b[0mself\u001b[0m\u001b[0;34m.\u001b[0m\u001b[0m_add_table\u001b[0m\u001b[0;34m(\u001b[0m\u001b[0;34m)\u001b[0m\u001b[0;34m\u001b[0m\u001b[0;34m\u001b[0m\u001b[0m\n\u001b[1;32m    265\u001b[0m         \u001b[0mself\u001b[0m\u001b[0;34m.\u001b[0m\u001b[0m_make_legend\u001b[0m\u001b[0;34m(\u001b[0m\u001b[0;34m)\u001b[0m\u001b[0;34m\u001b[0m\u001b[0;34m\u001b[0m\u001b[0m\n\u001b[0;32m--> 266\u001b[0;31m         \u001b[0mself\u001b[0m\u001b[0;34m.\u001b[0m\u001b[0m_adorn_subplots\u001b[0m\u001b[0;34m(\u001b[0m\u001b[0;34m)\u001b[0m\u001b[0;34m\u001b[0m\u001b[0;34m\u001b[0m\u001b[0m\n\u001b[0m\u001b[1;32m    267\u001b[0m \u001b[0;34m\u001b[0m\u001b[0m\n\u001b[1;32m    268\u001b[0m         \u001b[0;32mfor\u001b[0m \u001b[0max\u001b[0m \u001b[0;32min\u001b[0m \u001b[0mself\u001b[0m\u001b[0;34m.\u001b[0m\u001b[0maxes\u001b[0m\u001b[0;34m:\u001b[0m\u001b[0;34m\u001b[0m\u001b[0;34m\u001b[0m\u001b[0m\n",
      "\u001b[0;32m~/anaconda3/envs/javier/lib/python3.7/site-packages/pandas/plotting/_matplotlib/core.py\u001b[0m in \u001b[0;36m_adorn_subplots\u001b[0;34m(self)\u001b[0m\n\u001b[1;32m    474\u001b[0m \u001b[0;34m\u001b[0m\u001b[0m\n\u001b[1;32m    475\u001b[0m             \u001b[0;32mif\u001b[0m \u001b[0mself\u001b[0m\u001b[0;34m.\u001b[0m\u001b[0mxticks\u001b[0m \u001b[0;32mis\u001b[0m \u001b[0;32mnot\u001b[0m \u001b[0;32mNone\u001b[0m\u001b[0;34m:\u001b[0m\u001b[0;34m\u001b[0m\u001b[0;34m\u001b[0m\u001b[0m\n\u001b[0;32m--> 476\u001b[0;31m                 \u001b[0max\u001b[0m\u001b[0;34m.\u001b[0m\u001b[0mset_xticks\u001b[0m\u001b[0;34m(\u001b[0m\u001b[0mself\u001b[0m\u001b[0;34m.\u001b[0m\u001b[0mxticks\u001b[0m\u001b[0;34m)\u001b[0m\u001b[0;34m\u001b[0m\u001b[0;34m\u001b[0m\u001b[0m\n\u001b[0m\u001b[1;32m    477\u001b[0m \u001b[0;34m\u001b[0m\u001b[0m\n\u001b[1;32m    478\u001b[0m             \u001b[0;32mif\u001b[0m \u001b[0mself\u001b[0m\u001b[0;34m.\u001b[0m\u001b[0mylim\u001b[0m \u001b[0;32mis\u001b[0m \u001b[0;32mnot\u001b[0m \u001b[0;32mNone\u001b[0m\u001b[0;34m:\u001b[0m\u001b[0;34m\u001b[0m\u001b[0;34m\u001b[0m\u001b[0m\n",
      "\u001b[0;32m~/anaconda3/envs/javier/lib/python3.7/site-packages/matplotlib/cbook/deprecation.py\u001b[0m in \u001b[0;36mwrapper\u001b[0;34m(*args, **kwargs)\u001b[0m\n\u001b[1;32m    398\u001b[0m                 \u001b[0;34m\"parameter will become keyword-only %(removal)s.\"\u001b[0m\u001b[0;34m,\u001b[0m\u001b[0;34m\u001b[0m\u001b[0;34m\u001b[0m\u001b[0m\n\u001b[1;32m    399\u001b[0m                 name=name, obj_type=f\"parameter of {func.__name__}()\")\n\u001b[0;32m--> 400\u001b[0;31m         \u001b[0;32mreturn\u001b[0m \u001b[0mfunc\u001b[0m\u001b[0;34m(\u001b[0m\u001b[0;34m*\u001b[0m\u001b[0margs\u001b[0m\u001b[0;34m,\u001b[0m \u001b[0;34m**\u001b[0m\u001b[0mkwargs\u001b[0m\u001b[0;34m)\u001b[0m\u001b[0;34m\u001b[0m\u001b[0;34m\u001b[0m\u001b[0m\n\u001b[0m\u001b[1;32m    401\u001b[0m \u001b[0;34m\u001b[0m\u001b[0m\n\u001b[1;32m    402\u001b[0m     \u001b[0;32mreturn\u001b[0m \u001b[0mwrapper\u001b[0m\u001b[0;34m\u001b[0m\u001b[0;34m\u001b[0m\u001b[0m\n",
      "\u001b[0;32m~/anaconda3/envs/javier/lib/python3.7/site-packages/matplotlib/axes/_base.py\u001b[0m in \u001b[0;36mset_xticks\u001b[0;34m(self, ticks, minor)\u001b[0m\n\u001b[1;32m   3307\u001b[0m             \u001b[0mDefault\u001b[0m \u001b[0;32mis\u001b[0m\u001b[0;31m \u001b[0m\u001b[0;31m`\u001b[0m\u001b[0;31m`\u001b[0m\u001b[0;32mFalse\u001b[0m\u001b[0;31m`\u001b[0m\u001b[0;31m`\u001b[0m\u001b[0;34m.\u001b[0m\u001b[0;34m\u001b[0m\u001b[0;34m\u001b[0m\u001b[0m\n\u001b[1;32m   3308\u001b[0m         \"\"\"\n\u001b[0;32m-> 3309\u001b[0;31m         \u001b[0mret\u001b[0m \u001b[0;34m=\u001b[0m \u001b[0mself\u001b[0m\u001b[0;34m.\u001b[0m\u001b[0mxaxis\u001b[0m\u001b[0;34m.\u001b[0m\u001b[0mset_ticks\u001b[0m\u001b[0;34m(\u001b[0m\u001b[0mticks\u001b[0m\u001b[0;34m,\u001b[0m \u001b[0mminor\u001b[0m\u001b[0;34m=\u001b[0m\u001b[0mminor\u001b[0m\u001b[0;34m)\u001b[0m\u001b[0;34m\u001b[0m\u001b[0;34m\u001b[0m\u001b[0m\n\u001b[0m\u001b[1;32m   3310\u001b[0m         \u001b[0mself\u001b[0m\u001b[0;34m.\u001b[0m\u001b[0mstale\u001b[0m \u001b[0;34m=\u001b[0m \u001b[0;32mTrue\u001b[0m\u001b[0;34m\u001b[0m\u001b[0;34m\u001b[0m\u001b[0m\n\u001b[1;32m   3311\u001b[0m         \u001b[0;32mreturn\u001b[0m \u001b[0mret\u001b[0m\u001b[0;34m\u001b[0m\u001b[0;34m\u001b[0m\u001b[0m\n",
      "\u001b[0;32m~/anaconda3/envs/javier/lib/python3.7/site-packages/matplotlib/cbook/deprecation.py\u001b[0m in \u001b[0;36mwrapper\u001b[0;34m(*args, **kwargs)\u001b[0m\n\u001b[1;32m    398\u001b[0m                 \u001b[0;34m\"parameter will become keyword-only %(removal)s.\"\u001b[0m\u001b[0;34m,\u001b[0m\u001b[0;34m\u001b[0m\u001b[0;34m\u001b[0m\u001b[0m\n\u001b[1;32m    399\u001b[0m                 name=name, obj_type=f\"parameter of {func.__name__}()\")\n\u001b[0;32m--> 400\u001b[0;31m         \u001b[0;32mreturn\u001b[0m \u001b[0mfunc\u001b[0m\u001b[0;34m(\u001b[0m\u001b[0;34m*\u001b[0m\u001b[0margs\u001b[0m\u001b[0;34m,\u001b[0m \u001b[0;34m**\u001b[0m\u001b[0mkwargs\u001b[0m\u001b[0;34m)\u001b[0m\u001b[0;34m\u001b[0m\u001b[0;34m\u001b[0m\u001b[0m\n\u001b[0m\u001b[1;32m    401\u001b[0m \u001b[0;34m\u001b[0m\u001b[0m\n\u001b[1;32m    402\u001b[0m     \u001b[0;32mreturn\u001b[0m \u001b[0mwrapper\u001b[0m\u001b[0;34m\u001b[0m\u001b[0;34m\u001b[0m\u001b[0m\n",
      "\u001b[0;32m~/anaconda3/envs/javier/lib/python3.7/site-packages/matplotlib/axis.py\u001b[0m in \u001b[0;36mset_ticks\u001b[0;34m(self, ticks, minor)\u001b[0m\n\u001b[1;32m   1759\u001b[0m         \"\"\"\n\u001b[1;32m   1760\u001b[0m         \u001b[0;31m# XXX if the user changes units, the information will be lost here\u001b[0m\u001b[0;34m\u001b[0m\u001b[0;34m\u001b[0m\u001b[0;34m\u001b[0m\u001b[0m\n\u001b[0;32m-> 1761\u001b[0;31m         \u001b[0mticks\u001b[0m \u001b[0;34m=\u001b[0m \u001b[0mself\u001b[0m\u001b[0;34m.\u001b[0m\u001b[0mconvert_units\u001b[0m\u001b[0;34m(\u001b[0m\u001b[0mticks\u001b[0m\u001b[0;34m)\u001b[0m\u001b[0;34m\u001b[0m\u001b[0;34m\u001b[0m\u001b[0m\n\u001b[0m\u001b[1;32m   1762\u001b[0m         \u001b[0;32mif\u001b[0m \u001b[0mlen\u001b[0m\u001b[0;34m(\u001b[0m\u001b[0mticks\u001b[0m\u001b[0;34m)\u001b[0m \u001b[0;34m>\u001b[0m \u001b[0;36m1\u001b[0m\u001b[0;34m:\u001b[0m\u001b[0;34m\u001b[0m\u001b[0;34m\u001b[0m\u001b[0m\n\u001b[1;32m   1763\u001b[0m             \u001b[0mxleft\u001b[0m\u001b[0;34m,\u001b[0m \u001b[0mxright\u001b[0m \u001b[0;34m=\u001b[0m \u001b[0mself\u001b[0m\u001b[0;34m.\u001b[0m\u001b[0mget_view_interval\u001b[0m\u001b[0;34m(\u001b[0m\u001b[0;34m)\u001b[0m\u001b[0;34m\u001b[0m\u001b[0;34m\u001b[0m\u001b[0m\n",
      "\u001b[0;32m~/anaconda3/envs/javier/lib/python3.7/site-packages/matplotlib/axis.py\u001b[0m in \u001b[0;36mconvert_units\u001b[0;34m(self, x)\u001b[0m\n\u001b[1;32m   1574\u001b[0m         \u001b[0;32mexcept\u001b[0m \u001b[0mException\u001b[0m \u001b[0;32mas\u001b[0m \u001b[0me\u001b[0m\u001b[0;34m:\u001b[0m\u001b[0;34m\u001b[0m\u001b[0;34m\u001b[0m\u001b[0m\n\u001b[1;32m   1575\u001b[0m             raise munits.ConversionError('Failed to convert value(s) to axis '\n\u001b[0;32m-> 1576\u001b[0;31m                                          f'units: {x!r}') from e\n\u001b[0m\u001b[1;32m   1577\u001b[0m         \u001b[0;32mreturn\u001b[0m \u001b[0mret\u001b[0m\u001b[0;34m\u001b[0m\u001b[0;34m\u001b[0m\u001b[0m\n\u001b[1;32m   1578\u001b[0m \u001b[0;34m\u001b[0m\u001b[0m\n",
      "\u001b[0;31mConversionError\u001b[0m: Failed to convert value(s) to axis units: ['De_Otro_DF_Preposiciones', 'De_Otro_DF_Cant_Prepos']"
     ]
    },
    {
     "data": {
      "image/png": "[encoded data removed]",
      "text/plain": [
       "<Figure size 720x432 with 1 Axes>"
      ]
     },
     "metadata": {
      "needs_background": "light"
     },
     "output_type": "display_data"
    }
   ],
   "source": [
    "otro_ejem_prepos.set_index('De_Otro_DF_Preposiciones').plot(figsize=(10, 6), xticks=list(otro_ejem_prepos))"
   ]
  },
  {
   "cell_type": "markdown",
   "metadata": {},
   "source": [
    "#### Condicional \"if\"\n",
    "![IF](https://yusout.com/wp-content/uploads/2019/03/11010974_10206432444145331_4692261788422933939_n_10206432444145331.jpg)"
   ]
  },
  {
   "cell_type": "code",
   "execution_count": null,
   "metadata": {},
   "outputs": [],
   "source": [
    "x = 0\n",
    "y = 5\n",
    "\n",
    "if x < y:                            # Verdadero\n",
    "    print('si')\n",
    "\n",
    "\n",
    "if y < x:                            # Falso\n",
    "    print('si')\n",
    "\n",
    "\n",
    "if x:                                # Falso\n",
    "    print('si')\n",
    "\n",
    "if y:                                # Verdadero\n",
    "    print('si')\n",
    "\n",
    "\n",
    "\n",
    "if x or y:                           # Verdadero\n",
    "    print('si')\n",
    "\n",
    "\n",
    "if x and y:                          # Falso\n",
    "    print('si')\n",
    "\n",
    "if x & y:                            # Falso\n",
    "    print('si con &')\n",
    "\n",
    "x = 5; y = 5\n",
    "if x and y:                          # Verdadero\n",
    "    print('si, cuando x & y vale lo mismo')\n",
    "\n",
    "if x & y:                            # Verdadero\n",
    "    print('si con &, cuando x & y vale lo mismo')\n",
    "\n",
    "\n",
    "if 'aie' in 'Javier':                # Verdadero\n",
    "    print('si')\n",
    "\n",
    "\n",
    "if 'libertad' in ['cerebro', 'mente', 'dualidad', 'pensamiento', 'pasión', 'enojo', 'alegría']:  # Falso\n",
    "    print('si')"
   ]
  },
  {
   "cell_type": "code",
   "execution_count": null,
   "metadata": {},
   "outputs": [],
   "source": [
    "if 'libertad' in preposiciones:\n",
    "    print('Si')\n",
    "\n",
    "if 'desde'  in preposiciones:\n",
    "    print('Si')"
   ]
  },
  {
   "cell_type": "code",
   "execution_count": null,
   "metadata": {},
   "outputs": [],
   "source": [
    "if 'libertad' in ['cerebro', 'mente', 'dualidad', 'pensamiento', 'pasión', 'enojo', 'alegría']:\n",
    "    print('La expresión es verdadera')\n",
    "    print('Ejecutando la condición en la lista')\n",
    "    print('...')\n",
    "    print('Hecho.')\n",
    "print('Después de la condicional')"
   ]
  },
  {
   "cell_type": "code",
   "execution_count": null,
   "metadata": {},
   "outputs": [],
   "source": [
    "# ¿Se puede ejecutar las lineas?                Si    No\n",
    "#                                              ---    --\n",
    "if 'foo' in ['foo', 'bar', 'baz']:           #  x\n",
    "    print('Condicional es True')             #  x\n",
    "\n",
    "    if 10 > 20:                              #  x\n",
    "        print('Condición interna 1')         #        x\n",
    "\n",
    "    print('Entre las condiciones Internas')  #  x\n",
    "\n",
    "    if 10 < 20:                              #  x\n",
    "        print('Condición interna 2')         #  x\n",
    "\n",
    "    print('Fin de la 1ra condición')         #  x\n",
    "print('Después de la 1ra condición')         #  x"
   ]
  },
  {
   "cell_type": "code",
   "execution_count": null,
   "metadata": {},
   "outputs": [],
   "source": [
    "x = 20\n",
    "\n",
    "if x < 50:\n",
    "    print('(1er conjunto)')\n",
    "    print('x es pequeño')\n",
    "else:\n",
    "    print('(2do conjunto)')\n",
    "    print('x es grande')\n",
    "    \n",
    "## ¿Cómo le hacemos para que se cumpla la segunda condición?"
   ]
  },
  {
   "cell_type": "code",
   "execution_count": null,
   "metadata": {},
   "outputs": [],
   "source": [
    "name = 'Javier'\n",
    "if name == 'Flora':\n",
    "    print('Hola Flora')\n",
    "elif name == 'Olivia':\n",
    "    print('Hola Olivia')\n",
    "elif name == 'Luis':\n",
    "    print('Hola Luis')\n",
    "elif name == 'Mayra':\n",
    "    print('Hola Mayra')\n",
    "elif name == 'Josué':\n",
    "    print('Hola Josué')\n",
    "elif name == 'Gabriel':\n",
    "    print('Hola Gabriel')\n",
    "else:\n",
    "    print(\"¡No tengo ni la más remota idea de quien seas!\")"
   ]
  },
  {
   "cell_type": "code",
   "execution_count": null,
   "metadata": {},
   "outputs": [],
   "source": [
    "if 'P' in 'Python': print('1'); print('2'); print('3')"
   ]
  },
  {
   "cell_type": "code",
   "execution_count": null,
   "metadata": {},
   "outputs": [],
   "source": [
    "if 'a' in 'Python': print('1'); print('2'); print('3')"
   ]
  },
  {
   "cell_type": "code",
   "execution_count": null,
   "metadata": {},
   "outputs": [],
   "source": [
    "x = 3\n",
    "if x == 1: print('Curso'); print('de'); print('Python')\n",
    "elif x == 2: print('Para'); print('Principiantes')\n",
    "else: print('Julia'); print('R')"
   ]
  },
  {
   "cell_type": "code",
   "execution_count": null,
   "metadata": {},
   "outputs": [],
   "source": [
    "# Con operadores aritméticos\n",
    "edad = 12\n",
    "s = 'Menor' if edad < 18 else 'Adulto'\n",
    "print(s)"
   ]
  },
  {
   "cell_type": "code",
   "execution_count": null,
   "metadata": {},
   "outputs": [],
   "source": [
    "if True:\n",
    "print('foo')"
   ]
  },
  {
   "cell_type": "code",
   "execution_count": null,
   "metadata": {},
   "outputs": [],
   "source": [
    "x = 3\n",
    "if x == 1: \n",
    "    print('Curso') \n",
    "    print('de') \n",
    "    print('Python')\n",
    "elif x == 2: \n",
    "    print('Para')\n",
    "    print('Principiantes')\n",
    "else: \n",
    "    print('Julia')\n",
    "    print('R')"
   ]
  },
  {
   "cell_type": "markdown",
   "metadata": {},
   "source": [
    "#### Bucle \"while\""
   ]
  },
  {
   "cell_type": "code",
   "execution_count": null,
   "metadata": {},
   "outputs": [],
   "source": [
    "i = 1\n",
    "while i < 6:\n",
    "    print(i)\n",
    "    i += 1"
   ]
  },
  {
   "cell_type": "code",
   "execution_count": null,
   "metadata": {},
   "outputs": [],
   "source": [
    "n = 5\n",
    "while n > 0:\n",
    "    n -= 1\n",
    "    print(n)"
   ]
  },
  {
   "cell_type": "code",
   "execution_count": null,
   "metadata": {},
   "outputs": [],
   "source": [
    "n = 0\n",
    "while n > 0:\n",
    "    n -= 1\n",
    "    print(n)"
   ]
  },
  {
   "cell_type": "code",
   "execution_count": null,
   "metadata": {},
   "outputs": [],
   "source": [
    "n = 5\n",
    "while n > 0:\n",
    "    n -= 1\n",
    "    if n == 2:\n",
    "        break\n",
    "    print(n)\n",
    "print('Ciclo terminado.')"
   ]
  },
  {
   "cell_type": "code",
   "execution_count": null,
   "metadata": {},
   "outputs": [],
   "source": [
    "n = 5\n",
    "while n > 0:\n",
    "    n -= 1\n",
    "    if n == 2:\n",
    "        continue\n",
    "    print(n)\n",
    "print('Ciclo terminado.')"
   ]
  },
  {
   "cell_type": "code",
   "execution_count": null,
   "metadata": {},
   "outputs": [],
   "source": [
    "n = 5\n",
    "while n > 0:\n",
    "    n -= 1\n",
    "    print(n)\n",
    "else:\n",
    "    print('Ciclo terminado.')"
   ]
  },
  {
   "cell_type": "code",
   "execution_count": null,
   "metadata": {},
   "outputs": [],
   "source": [
    "n = 5\n",
    "while n > 0:\n",
    "    n -= 1\n",
    "    print(n)\n",
    "    if n == 2:\n",
    "        break\n",
    "else:\n",
    "    print('Ciclo terminado.')"
   ]
  },
  {
   "cell_type": "code",
   "execution_count": null,
   "metadata": {},
   "outputs": [],
   "source": [
    "a = ['cerebro', 'mente', 'dualidad', 'pensamiento', 'pasión', 'enojo', 'alegría']\n",
    "s = 'libertad'\n",
    "\n",
    "i = 0\n",
    "while i < len(a):\n",
    "    if a[i] == s:\n",
    "        # Se está buscando la palabra declarada en \"s\"\n",
    "        #print(s, 'está en la lista.')\n",
    "        break\n",
    "    i += 1\n",
    "else:\n",
    "    # Cuando no se encuentra la palabra declarada en \"s\"\n",
    "    print(s, 'no se encontró en la lista.')"
   ]
  },
  {
   "cell_type": "code",
   "execution_count": null,
   "metadata": {},
   "outputs": [],
   "source": [
    "# Mientras cumpla con la condición y lo detengas (break) se convertirá en un ciclo infinito\n",
    "while True:\n",
    "    print('foo')"
   ]
  },
  {
   "cell_type": "code",
   "execution_count": null,
   "metadata": {},
   "outputs": [],
   "source": [
    "# También se puede en una sola linea\n",
    "n = 5\n",
    "while n > 0: n -= 1; print(n)"
   ]
  },
  {
   "cell_type": "markdown",
   "metadata": {},
   "source": [
    "### Integración"
   ]
  },
  {
   "cell_type": "code",
   "execution_count": null,
   "metadata": {},
   "outputs": [],
   "source": [
    "num_aleatorios = range(-51, 51)\n",
    "for num in list(num_aleatorios):\n",
    "    if (num % 2 == 0):\n",
    "        print('El número {} es par'.format(num))\n",
    "    elif (num % 5 == 0):\n",
    "        print('El número {} dividido entre 5 tiene como resultado {} con residuo {} es impar'.format(num, num / 5, num % 5))\n",
    "    elif (num % 7 == 0):\n",
    "        print('El número {} dividido entre 7 es igual a {} y tiene como residuo {}'.format(num, num / 7, num % 7))"
   ]
  },
  {
   "cell_type": "code",
   "execution_count": null,
   "metadata": {},
   "outputs": [],
   "source": [
    "# Generación de una dataset\n",
    "integrantes = ['Javier', 'Olivia', 'Flora', 'Gabriel', 'Luis', 'Josué', 'Francisco', 'Mayra']\n",
    "unos_numeros = list(map(lambda x: len(x), integrantes))\n",
    "otros_numeros = list(map(lambda x: x * max(unos_numeros), unos_numeros))\n",
    "mas_numeros = list(map(lambda x: x ** x, unos_numeros))"
   ]
  },
  {
   "cell_type": "code",
   "execution_count": null,
   "metadata": {},
   "outputs": [],
   "source": [
    "print(integrantes)\n",
    "print(unos_numeros)\n",
    "print(otros_numeros)\n",
    "print(mas_numeros)"
   ]
  },
  {
   "cell_type": "code",
   "execution_count": null,
   "metadata": {},
   "outputs": [],
   "source": [
    "ejemplo_1 = pd.DataFrame()\n",
    "\n",
    "ejemplo_1['Integrantes'] = integrantes\n",
    "ejemplo_1['Unos Números'] = unos_numeros\n",
    "ejemplo_1['Otros Números'] = otros_numeros\n",
    "ejemplo_1['Más Números'] = mas_numeros\n",
    "\n",
    "ejemplo_1"
   ]
  },
  {
   "cell_type": "code",
   "execution_count": null,
   "metadata": {},
   "outputs": [],
   "source": [
    "import pandas as pd\n",
    "import numpy as np\n",
    "\n",
    "np.random.seed(2016)\n",
    "\n",
    "curso = {'Integrantes':['Javier', 'Olivia', 'Flora', 'Gabriel', 'Luis', 'Josué', 'Francisco', 'Mayra'],\n",
    "         'Edad':np.random.randint(18, 40, size=(8)),\n",
    "         'IQ':np.random.randint(70, 120, size=(8)),\n",
    "         'Num_Gotas_Agua_en_el_Cuerpo':np.random.randint(0, 9999999, size=(8))} # Variable categorica PARES == SI IMPARES == NO"
   ]
  },
  {
   "cell_type": "code",
   "execution_count": null,
   "metadata": {},
   "outputs": [],
   "source": [
    "curso"
   ]
  },
  {
   "cell_type": "code",
   "execution_count": null,
   "metadata": {},
   "outputs": [],
   "source": [
    "curso = pd.DataFrame(curso)"
   ]
  },
  {
   "cell_type": "code",
   "execution_count": null,
   "metadata": {},
   "outputs": [],
   "source": [
    "curso"
   ]
  },
  {
   "cell_type": "code",
   "execution_count": null,
   "metadata": {},
   "outputs": [],
   "source": [
    "curso['Gotas_Importantes'] = curso[['Num_Gotas_Agua_en_el_Cuerpo']].applymap(lambda x: 'Si' if (x % 2 == 0) else 'No')"
   ]
  },
  {
   "cell_type": "code",
   "execution_count": null,
   "metadata": {},
   "outputs": [],
   "source": [
    "curso"
   ]
  },
  {
   "cell_type": "code",
   "execution_count": null,
   "metadata": {},
   "outputs": [],
   "source": [
    "curso.IQ.plot(figsize=(10, 6))"
   ]
  },
  {
   "cell_type": "code",
   "execution_count": null,
   "metadata": {},
   "outputs": [],
   "source": [
    "##### Índice de Masa Corporal\n",
    "\n",
    "## IMC = peso/estatura al cuadrado\n",
    "\n",
    "# Bajo de Peso -> Igual o menor a 18.4\n",
    "#       Normal -> 18.5 a 24.9\n",
    "#    Sobrepeso -> 25 a 29.9\n",
    "#     Obesidad -> Mayor o igual a 30\n",
    "##### Usando todo lo aprendido\n",
    "\n",
    "np.random.seed(2020)\n",
    "\n",
    "nombre = ['Javier', 'Olivia', 'Flora', 'Gabriel', 'Luis', 'Josué', 'Francisco', 'Mayra']\n",
    "peso = np.random.randint(60, 100, size=(8))\n",
    "estatura = np.random.uniform(1.5, 1.8, 8).round(1)"
   ]
  },
  {
   "cell_type": "code",
   "execution_count": null,
   "metadata": {},
   "outputs": [],
   "source": [
    "IMC = pd.DataFrame()\n",
    "IMC['Nombre'] = nombre\n",
    "IMC['Peso_Kg'] = peso\n",
    "IMC['Estatura_Cm'] = estatura"
   ]
  },
  {
   "cell_type": "code",
   "execution_count": null,
   "metadata": {},
   "outputs": [],
   "source": [
    "IMC['IMC'] = IMC['Peso_Kg'] / (IMC['Estatura_Cm']  ** 2)\n",
    "\n",
    "# A la tradicional\n",
    "#IMC['IMC'] = round(IMC['Peso_Kg'] / (IMC['Estatura_Cm']  ** 2), 1)\n",
    "\n",
    "# A la Pandas \n",
    "#IMC['IMC'] = (IMC['Peso_Kg'] / (IMC['Estatura_Cm']  ** 2)).round(1)"
   ]
  },
  {
   "cell_type": "code",
   "execution_count": null,
   "metadata": {},
   "outputs": [],
   "source": [
    "IMC"
   ]
  },
  {
   "cell_type": "code",
   "execution_count": null,
   "metadata": {},
   "outputs": [],
   "source": [
    "IMC['Cat_IMC'] = IMC[['IMC']].applymap(lambda x: 'Normal' if (x < 25) else 'SobrePeso' if ((x > 25) & (x < 30)) else 'Obesidad' if (x > 30) else 'Sabrocito')"
   ]
  },
  {
   "cell_type": "code",
   "execution_count": null,
   "metadata": {},
   "outputs": [],
   "source": [
    "IMC"
   ]
  },
  {
   "cell_type": "code",
   "execution_count": null,
   "metadata": {},
   "outputs": [],
   "source": [
    "##### Índice de Masa Corporal\n",
    "\n",
    "## IMC = peso/estatura al cuadrado\n",
    "\n",
    "# Bajo de Peso -> Igual o menor a 18.4\n",
    "#       Normal -> 18.5 a 24.9\n",
    "#    Sobrepeso -> 25 a 29.9\n",
    "#     Obesidad -> Mayor o igual a 30\n",
    "##### Usando todo lo aprendido\n",
    "\n",
    "##### TIENES 5 MINUTOS"
   ]
  },
  {
   "cell_type": "code",
   "execution_count": null,
   "metadata": {},
   "outputs": [],
   "source": [
    "# Se necesita el ÍNDICE de MASA CORPORAL de todos estos sujetos.\n",
    "############# Los PESOS son aleatorios.\n",
    "############# Las ESTATURAS son aleatorias."
   ]
  },
  {
   "cell_type": "code",
   "execution_count": null,
   "metadata": {},
   "outputs": [],
   "source": [
    "nombres = \"\"\"\n",
    "'Álan', 'Jacinto', 'Martinez', 'Alicia', 'Jesús', 'Mirta', 'Andrea', 'Josefina', 'Mónica', 'Andrés', 'Juan', 'Nicolás', 'Antonia', 'Juana', 'Noé', 'Antonio', \n",
    " 'Juano', 'Noelia', 'Azul', 'Julia', 'Paula', 'Bartolomé', 'Julián', 'Pomponio', 'Belén', 'Juliana', 'Renzo', 'Celeste', 'Julio', 'Rodrigo', 'Edgardo', 'Leandra',\n",
    " 'Rodriguez', 'Felicia', 'Luis', 'Romina', 'Florencia', 'Luisa', 'Rosario', 'Gaspar', 'Marcelo', 'Tato', 'Gerardo', 'Marcos', 'Tomás', 'Gimenez', 'María',\n",
    " 'Victor', 'Gonzalo', 'Mariano', 'Yayo', 'Gustavo', 'Martín', 'Zulema', 'Abril', 'Alonso', 'Amparo', 'Ángel', 'Ángeles', 'Angustias', 'Aurora', 'Belén',\n",
    " 'Benjamín', 'Buenaventura', 'Candela', 'Chile', 'Comillas', 'Concha', 'Delfín', 'Dolores', 'Domingo', 'Encarnación', 'Esmeralda', 'Esperanza', 'Estela',\n",
    " 'Felicidad', 'Felipe', 'Flora', 'Gema', 'Gloria', 'Granada', 'Jacinto', 'Julio', 'Lázaro', 'León', 'Leticia', 'Lidia', 'Lima', 'Luz', 'Magdalena', 'Margarita',\n",
    " 'Mateo', 'Melisa', 'Milagros', 'Narciso', 'Nieves', 'Óscar', 'Paloma', 'Patricio', 'Paz', 'Pedro', 'Piedad', 'Potes', 'Prudencia', 'Purificación', 'Rebeca', \n",
    " 'Remedios', 'Rosa', 'Rosario', 'Rubí', 'Soledad', 'Tecla', 'Tierra', 'Valeriana', 'Verónica', 'Victoria', 'Violeta'\n",
    "\"\"\""
   ]
  },
  {
   "cell_type": "markdown",
   "metadata": {},
   "source": [
    "## Base de datos reales\n",
    "[pandas - Python Data Analysis Library](https://pandas.pydata.org/)"
   ]
  },
  {
   "cell_type": "code",
   "execution_count": null,
   "metadata": {},
   "outputs": [],
   "source": [
    "import pandas as pd\n",
    "import numpy as np\n",
    "import datetime"
   ]
  },
  {
   "cell_type": "code",
   "execution_count": null,
   "metadata": {},
   "outputs": [],
   "source": [
    "# Base\n",
    "file_csv = 'Curso Python para Psicólogos.csv'"
   ]
  },
  {
   "cell_type": "code",
   "execution_count": null,
   "metadata": {},
   "outputs": [],
   "source": [
    "cuestionario = pd.read_csv(file_csv)"
   ]
  },
  {
   "cell_type": "code",
   "execution_count": null,
   "metadata": {},
   "outputs": [],
   "source": [
    "cuestionario"
   ]
  },
  {
   "cell_type": "code",
   "execution_count": null,
   "metadata": {},
   "outputs": [],
   "source": [
    "# Localización del lugar correspondiente de las columnas\n",
    "for i, j in enumerate(cuestionario.columns):\n",
    "    print(i, j)"
   ]
  },
  {
   "cell_type": "code",
   "execution_count": null,
   "metadata": {},
   "outputs": [],
   "source": [
    "cuestionario[cuestionario.columns[0]]"
   ]
  },
  {
   "cell_type": "code",
   "execution_count": null,
   "metadata": {},
   "outputs": [],
   "source": [
    "# Arreglo de la 1ra Columna\n",
    "cuestionario[cuestionario.columns[0]] = cuestionario[cuestionario.columns[0]].str.strip('GMT-{}'.format(x for x in range(100)))\n",
    "cuestionario[cuestionario.columns[0]] = pd.to_datetime(cuestionario[cuestionario.columns[0]])"
   ]
  },
  {
   "cell_type": "code",
   "execution_count": null,
   "metadata": {},
   "outputs": [],
   "source": [
    "cuestionario[cuestionario.columns[0]]"
   ]
  },
  {
   "cell_type": "code",
   "execution_count": null,
   "metadata": {},
   "outputs": [],
   "source": [
    "# Arreglo de la 2da Columna\n",
    "cuestionario[cuestionario.columns[1]]"
   ]
  },
  {
   "cell_type": "code",
   "execution_count": null,
   "metadata": {},
   "outputs": [],
   "source": [
    "# Arreglo de la 3ra Columna\n",
    "print(cuestionario[cuestionario.columns[2]])\n",
    "cuestionario[cuestionario.columns[2]] = pd.to_datetime(cuestionario[cuestionario.columns[2]])"
   ]
  },
  {
   "cell_type": "code",
   "execution_count": null,
   "metadata": {},
   "outputs": [],
   "source": [
    "# Creando una columna con las diferencias de tiempo\n",
    "print(cuestionario.columns[0])\n",
    "print(cuestionario[cuestionario.columns[0]])\n",
    "print(' ')\n",
    "print(cuestionario.columns[2])\n",
    "print(cuestionario[cuestionario.columns[2]])"
   ]
  },
  {
   "cell_type": "code",
   "execution_count": null,
   "metadata": {},
   "outputs": [],
   "source": [
    "cuestionario['Diferencia'] = (cuestionario[cuestionario.columns[0]] - cuestionario[cuestionario.columns[2]])"
   ]
  },
  {
   "cell_type": "code",
   "execution_count": null,
   "metadata": {},
   "outputs": [],
   "source": [
    "cuestionario['Diferencia']"
   ]
  },
  {
   "cell_type": "code",
   "execution_count": null,
   "metadata": {},
   "outputs": [],
   "source": [
    "# Arreglo de la 4ta Columna\n",
    "print(cuestionario[cuestionario.columns[3]])"
   ]
  },
  {
   "cell_type": "code",
   "execution_count": null,
   "metadata": {},
   "outputs": [],
   "source": [
    "# Arreglo de la 5ta Columna\n",
    "print(cuestionario[cuestionario.columns[4]])"
   ]
  },
  {
   "cell_type": "code",
   "execution_count": null,
   "metadata": {},
   "outputs": [],
   "source": [
    "cuestionario[cuestionario.columns[4]] = cuestionario[cuestionario.columns[4]].str.strip('años').str.strip().astype(int)"
   ]
  },
  {
   "cell_type": "code",
   "execution_count": null,
   "metadata": {},
   "outputs": [],
   "source": [
    "cuestionario[cuestionario.columns[4]]"
   ]
  },
  {
   "cell_type": "code",
   "execution_count": null,
   "metadata": {},
   "outputs": [],
   "source": [
    "# Arreglo de la 6ta Columna\n",
    "print(cuestionario[cuestionario.columns[5]])"
   ]
  },
  {
   "cell_type": "code",
   "execution_count": null,
   "metadata": {},
   "outputs": [],
   "source": [
    "info = {'FaceBook':1, 'Instagram':2, 'Twitter':3, 'Otros':4}\n",
    "cuestionario[cuestionario.columns[5]] = cuestionario[cuestionario.columns[5]].replace(info)"
   ]
  },
  {
   "cell_type": "code",
   "execution_count": null,
   "metadata": {},
   "outputs": [],
   "source": [
    "cuestionario[cuestionario.columns[5]]"
   ]
  },
  {
   "cell_type": "code",
   "execution_count": null,
   "metadata": {},
   "outputs": [],
   "source": [
    "# Arreglo de la 7ma Columna\n",
    "print(cuestionario[cuestionario.columns[6]])"
   ]
  },
  {
   "cell_type": "code",
   "execution_count": null,
   "metadata": {},
   "outputs": [],
   "source": [
    "nivel_curso = {'Curso Introducción a Python para Psicólogos':1, 'Curso Intermedio a Python para Psicólogos':2, 'Ambos':3}"
   ]
  },
  {
   "cell_type": "code",
   "execution_count": null,
   "metadata": {},
   "outputs": [],
   "source": [
    "cuestionario[cuestionario.columns[6]] = cuestionario[cuestionario.columns[6]].replace(nivel_curso)"
   ]
  },
  {
   "cell_type": "code",
   "execution_count": null,
   "metadata": {},
   "outputs": [],
   "source": [
    "cuestionario[cuestionario.columns[6]]"
   ]
  },
  {
   "cell_type": "code",
   "execution_count": null,
   "metadata": {},
   "outputs": [],
   "source": [
    "# Arreglo de la 8va Columna\n",
    "print(cuestionario[cuestionario.columns[7]])"
   ]
  },
  {
   "cell_type": "code",
   "execution_count": null,
   "metadata": {},
   "outputs": [],
   "source": [
    "# Arreglo de la 9na Columna\n",
    "print(cuestionario[cuestionario.columns[8]])"
   ]
  },
  {
   "cell_type": "code",
   "execution_count": null,
   "metadata": {},
   "outputs": [],
   "source": []
  }
 ],
 "metadata": {
  "kernelspec": {
   "display_name": "Python 3",
   "language": "python",
   "name": "python3"
  },
  "language_info": {
   "codemirror_mode": {
    "name": "ipython",
    "version": 3
   },
   "file_extension": ".py",
   "mimetype": "text/x-python",
   "name": "python",
   "nbconvert_exporter": "python",
   "pygments_lexer": "ipython3",
   "version": "3.7.7"
  }
 },
 "nbformat": 4,
 "nbformat_minor": 4
}
