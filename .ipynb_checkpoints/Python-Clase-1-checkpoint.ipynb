{
 "cells": [
  {
   "cell_type": "markdown",
   "metadata": {},
   "source": [
    "# Python para Psicólogos\n",
    "## Javier Villanueva-Valle\n",
    "<javier830409@gmail.com>\n",
    "\n",
    "* Guido Van Rossum en 1991\n",
    "* Propósito General: Construir lo que gustes y mandes\n",
    "* ¡Open Source! ¡Gratis!\n",
    "* Paquetes Python, también para ciencia de datos\n",
    "* Muchas aplicaciones y muchos campos\n",
    "    * Desarrollo web e Internet.\n",
    "    * Acceso a la base de datos.\n",
    "    * GUIs de escritorio.\n",
    "    * Científico y numérico.\n",
    "    * Educación.\n",
    "    * Programación de red.\n",
    "    * Desarrollo de Software y Juegos.\n",
    "* [**Python**](https://www.python.org/) Version 3.x \n",
    "* [Anaconda](https://www.anaconda.com/products/individual)\n",
    "\n",
    "### Ventajas\n",
    "* Simplificado y rápido\n",
    "* Elegante y flexible\n",
    "* Programación sana y productiva\n",
    "* Ordenado y limpio\n",
    "* Lenguaje Interpretado\n",
    "* Multiplataforma\n",
    "* Extensa comunidad\n",
    "\n",
    "### Desventajas\n",
    "* Curva de aprendizaje\n",
    "* Librerías propias que están incluidas (Usan librerías de terceros)"
   ]
  },
  {
   "cell_type": "markdown",
   "metadata": {},
   "source": [
    "## ¿Por qué usar Jupyter?"
   ]
  },
  {
   "cell_type": "markdown",
   "metadata": {},
   "source": [
    "![Jupyter](https://github.com/Sivlemx/Intro-Python-DataScience/raw/master/Jupyter.jpg)"
   ]
  },
  {
   "cell_type": "markdown",
   "metadata": {},
   "source": [
    "## Inicio 2 Julio 2020"
   ]
  },
  {
   "cell_type": "markdown",
   "metadata": {},
   "source": [
    "![Comencemos](https://i.imgur.com/5A22MNp.gif)"
   ]
  },
  {
   "cell_type": "markdown",
   "metadata": {},
   "source": [
    "### Modulo I: Uso de Anaconda - Instalación\n",
    "* [Documentación en línea](https://docs.anaconda.com/anaconda/user-guide/getting-started/)\n",
    "* [Uso del Navegador](https://docs.anaconda.com/anaconda/navigator/getting-started/)\n",
    "* [Guía Inicial](https://conda.io/projects/conda/en/latest/user-guide/getting-started.html)\n",
    "* [Anaconda Navigator](https://docs.anaconda.com/anaconda/navigator/)\n",
    "* [Uso de Conda (*crear ambiente)*](https://conda.io/projects/conda/en/latest/user-guide/getting-started.html)\n",
    "* [Trucos en Conda](https://conda.io/projects/conda/en/latest/_downloads/843d9e0198f2a193a3484886fa28163c/conda-cheatsheet.pdf)\n",
    "* [Documentación Conda](https://conda.io/projects/conda/en/latest/user-guide/index.html)\n",
    "\n",
    "~~~\n",
    "conda info --envs\n",
    "conda create --name \"el-nombre-que-yo-quiera\"\n",
    "conda info --envs\n",
    "conda activate \"el-nombre-que-yo-quiera\"\n",
    "conda update conda\n",
    "conda update anaconda\n",
    "conda update --all -y\n",
    "conda list\n",
    "conda install pandas numpy matplotlib spyder\n",
    "conda install -c conda-forge jupyterlab\n",
    "conda install -c conda-forge notebook\n",
    "conda list\n",
    "~~~"
   ]
  },
  {
   "cell_type": "markdown",
   "metadata": {},
   "source": [
    "### Modulo II: Tipos"
   ]
  },
  {
   "cell_type": "markdown",
   "metadata": {},
   "source": [
    "- (str) -> string -> 'Python para Psicólogos', '2020', '0.05'\n",
    "- (int) -> integer -> 2020, 2, 0, 20\n",
    "- (float) -> float -> 1.5, 0.05\n",
    "- (bool) -> bool -> True, False"
   ]
  },
  {
   "cell_type": "markdown",
   "metadata": {},
   "source": [
    "#### Ejemplos"
   ]
  },
  {
   "cell_type": "code",
   "execution_count": null,
   "metadata": {},
   "outputs": [],
   "source": [
    "nombre = 'Javier'\n",
    "edad_str = '37'\n",
    "edad_int = 37\n",
    "edad_float = 37.0\n",
    "bool1 = True\n",
    "bool2 = False\n",
    "sexo_bool = '10'"
   ]
  },
  {
   "cell_type": "code",
   "execution_count": null,
   "metadata": {},
   "outputs": [],
   "source": [
    "print(type(nombre))\n",
    "print(type(edad_str))\n",
    "print(type(edad_int))\n",
    "print(type(edad_float))\n",
    "print(type(bool1))\n",
    "print(type(bool2))\n",
    "print(sexo_bool.isalpha())\n",
    "print(sexo_bool.isdigit())"
   ]
  },
  {
   "cell_type": "markdown",
   "metadata": {},
   "source": [
    "### Modulo III: Variables\n",
    "#### Operadores aritméticos"
   ]
  },
  {
   "cell_type": "code",
   "execution_count": null,
   "metadata": {},
   "outputs": [],
   "source": [
    "val1 = 'Javier'\n",
    "val2 = '2'\n",
    "val3 = 'Quiero juntar las dos variables, ¿Cómo?' # Pista '+'"
   ]
  },
  {
   "cell_type": "code",
   "execution_count": null,
   "metadata": {},
   "outputs": [],
   "source": [
    "val1 = val1 + ' ' + val2 + ',' + ' '\n",
    "val1"
   ]
  },
  {
   "cell_type": "code",
   "execution_count": null,
   "metadata": {},
   "outputs": [],
   "source": [
    "suma = 4 + 7\n",
    "resta = 4 - 7\n",
    "multi = 4 * 7\n",
    "exponente = 4 ** 7\n",
    "div = 13 / 7\n",
    "div_int = 13 // 7\n",
    "residuo = 13 % 7"
   ]
  },
  {
   "cell_type": "code",
   "execution_count": null,
   "metadata": {},
   "outputs": [],
   "source": [
    "suma = 'Javier' + 3\n",
    "resta = 'Javier' - 3\n",
    "multi = 'Javier' * 3\n",
    "exponente = 'Javier' ** 3\n",
    "div = 'Javier' / 3\n",
    "div_int = 'Javier' // 3"
   ]
  },
  {
   "cell_type": "code",
   "execution_count": null,
   "metadata": {},
   "outputs": [],
   "source": [
    "oper = val1 * 3\n",
    "oper"
   ]
  },
  {
   "cell_type": "code",
   "execution_count": null,
   "metadata": {},
   "outputs": [],
   "source": [
    "# Conversión de datos <-> int-float, int-str, float-int, float-str, str-int, str-float \n",
    "suma = 4 + 7\n",
    "resta = 4 - 7\n",
    "multi = 4 * 7\n",
    "exponente = 4 ** 7\n",
    "div = 13 / 7\n",
    "div_int = 13 // 7"
   ]
  },
  {
   "cell_type": "code",
   "execution_count": null,
   "metadata": {},
   "outputs": [],
   "source": [
    "print(suma)\n",
    "print(type(suma))\n",
    "print(str(suma))\n",
    "letras = str(suma)\n",
    "print(type(letras))\n",
    "decimal = float(suma)\n",
    "print(decimal)\n",
    "print(type(decimal))\n",
    "print(div)\n",
    "print(type(div))"
   ]
  },
  {
   "cell_type": "code",
   "execution_count": null,
   "metadata": {},
   "outputs": [],
   "source": [
    "print(True)\n",
    "print(False)"
   ]
  },
  {
   "cell_type": "code",
   "execution_count": null,
   "metadata": {},
   "outputs": [],
   "source": [
    "# Bool-int\n",
    "print(int(False))\n",
    "print(int(True))"
   ]
  },
  {
   "cell_type": "code",
   "execution_count": null,
   "metadata": {},
   "outputs": [],
   "source": [
    "# Operador \"%\" para obtener el residuo de una operación\n",
    "residuo = 13 % 7"
   ]
  },
  {
   "cell_type": "code",
   "execution_count": null,
   "metadata": {},
   "outputs": [],
   "source": [
    "print(13 / 7)\n",
    "residuo"
   ]
  },
  {
   "cell_type": "code",
   "execution_count": null,
   "metadata": {},
   "outputs": [],
   "source": [
    "# ¿Cuál es la diferencia?\n",
    "uno = 4 **  2/12\n",
    "dos = 4 ** (2/12)\n",
    "print(uno)\n",
    "print(dos)\n",
    "# ¿Por qué?"
   ]
  },
  {
   "cell_type": "code",
   "execution_count": null,
   "metadata": {},
   "outputs": [],
   "source": [
    "paso1 = 2 / 12\n",
    "paso2 = 4 ** paso1\n",
    "paso2"
   ]
  },
  {
   "cell_type": "code",
   "execution_count": 1,
   "metadata": {},
   "outputs": [],
   "source": [
    "# De acuerdo al número de posición del elemento después del \"=\", es la variable declarada.\n",
    "# Se puede aplicar cualquier operación aritmética si sé conoce la posición del elemento\n",
    "a, b, c, d = 20, 11.3, 5, 20"
   ]
  },
  {
   "cell_type": "code",
   "execution_count": 2,
   "metadata": {},
   "outputs": [
    {
     "data": {
      "text/plain": [
       "True"
      ]
     },
     "execution_count": 2,
     "metadata": {},
     "output_type": "execute_result"
    }
   ],
   "source": [
    "a == d"
   ]
  },
  {
   "cell_type": "code",
   "execution_count": 5,
   "metadata": {},
   "outputs": [
    {
     "data": {
      "text/plain": [
       "(20, 11.3, 5, 20)"
      ]
     },
     "execution_count": 5,
     "metadata": {},
     "output_type": "execute_result"
    }
   ],
   "source": [
    "a, b, c, d"
   ]
  },
  {
   "cell_type": "markdown",
   "metadata": {},
   "source": [
    "#### Operadores de relación"
   ]
  },
  {
   "cell_type": "code",
   "execution_count": 3,
   "metadata": {},
   "outputs": [
    {
     "name": "stdout",
     "output_type": "stream",
     "text": [
      "False\n"
     ]
    }
   ],
   "source": [
    "print(4 == 7)"
   ]
  },
  {
   "cell_type": "code",
   "execution_count": 4,
   "metadata": {},
   "outputs": [
    {
     "name": "stdout",
     "output_type": "stream",
     "text": [
      "True\n"
     ]
    }
   ],
   "source": [
    "print(4 != 7)"
   ]
  },
  {
   "cell_type": "code",
   "execution_count": 5,
   "metadata": {},
   "outputs": [
    {
     "name": "stdout",
     "output_type": "stream",
     "text": [
      "True\n"
     ]
    }
   ],
   "source": [
    "print(4 < 7)"
   ]
  },
  {
   "cell_type": "code",
   "execution_count": 7,
   "metadata": {},
   "outputs": [
    {
     "name": "stdout",
     "output_type": "stream",
     "text": [
      "True\n"
     ]
    }
   ],
   "source": [
    "print(7 < 7)"
   ]
  },
  {
   "cell_type": "code",
   "execution_count": 11,
   "metadata": {},
   "outputs": [
    {
     "name": "stdout",
     "output_type": "stream",
     "text": [
      "True\n"
     ]
    }
   ],
   "source": [
    "print(4 > 7)"
   ]
  },
  {
   "cell_type": "code",
   "execution_count": 10,
   "metadata": {},
   "outputs": [
    {
     "name": "stdout",
     "output_type": "stream",
     "text": [
      "False\n"
     ]
    }
   ],
   "source": [
    "print(4 > 4)"
   ]
  },
  {
   "cell_type": "code",
   "execution_count": 12,
   "metadata": {},
   "outputs": [
    {
     "name": "stdout",
     "output_type": "stream",
     "text": [
      "True\n"
     ]
    }
   ],
   "source": [
    "print(4 <= 7)"
   ]
  },
  {
   "cell_type": "code",
   "execution_count": 15,
   "metadata": {},
   "outputs": [
    {
     "name": "stdout",
     "output_type": "stream",
     "text": [
      "True\n"
     ]
    }
   ],
   "source": [
    "print(4 <= 7)"
   ]
  },
  {
   "cell_type": "code",
   "execution_count": 17,
   "metadata": {},
   "outputs": [
    {
     "name": "stdout",
     "output_type": "stream",
     "text": [
      "True\n"
     ]
    }
   ],
   "source": [
    "print(6 <= 7)"
   ]
  },
  {
   "cell_type": "code",
   "execution_count": 18,
   "metadata": {},
   "outputs": [
    {
     "name": "stdout",
     "output_type": "stream",
     "text": [
      "False\n"
     ]
    }
   ],
   "source": [
    "print(4 >= 7)"
   ]
  },
  {
   "cell_type": "code",
   "execution_count": 19,
   "metadata": {},
   "outputs": [
    {
     "name": "stdout",
     "output_type": "stream",
     "text": [
      "True\n"
     ]
    }
   ],
   "source": [
    "print(4 >= 4)"
   ]
  },
  {
   "cell_type": "code",
   "execution_count": 26,
   "metadata": {},
   "outputs": [
    {
     "name": "stdout",
     "output_type": "stream",
     "text": [
      "6\n",
      "<class 'int'>\n"
     ]
    }
   ],
   "source": [
    "Javier = 6\n",
    "print(Javier)\n",
    "print(type(Javier))"
   ]
  },
  {
   "cell_type": "code",
   "execution_count": 24,
   "metadata": {},
   "outputs": [
    {
     "name": "stdout",
     "output_type": "stream",
     "text": [
      "True\n"
     ]
    }
   ],
   "source": [
    "print(Javier == 6)"
   ]
  },
  {
   "cell_type": "code",
   "execution_count": 22,
   "metadata": {},
   "outputs": [
    {
     "name": "stdout",
     "output_type": "stream",
     "text": [
      "<class 'str'>\n",
      "<class 'int'>\n"
     ]
    }
   ],
   "source": [
    "print(type('Javier'))\n",
    "print(type(6))"
   ]
  },
  {
   "cell_type": "code",
   "execution_count": 27,
   "metadata": {},
   "outputs": [
    {
     "name": "stdout",
     "output_type": "stream",
     "text": [
      "J a v i e False\n"
     ]
    }
   ],
   "source": [
    "print('J', 'a', 'v', 'i', 'e', 'r' == 6)"
   ]
  },
  {
   "cell_type": "code",
   "execution_count": 29,
   "metadata": {},
   "outputs": [
    {
     "data": {
      "text/plain": [
       "51"
      ]
     },
     "execution_count": 29,
     "metadata": {},
     "output_type": "execute_result"
    }
   ],
   "source": [
    "len('erghñdsfgjnñgdfsknñjsfnkjsjknskjnsghñlnñflgkhñlhgks')"
   ]
  },
  {
   "cell_type": "code",
   "execution_count": 30,
   "metadata": {},
   "outputs": [
    {
     "name": "stdout",
     "output_type": "stream",
     "text": [
      "True\n"
     ]
    }
   ],
   "source": [
    "print(len('Javier') == 6)"
   ]
  },
  {
   "cell_type": "code",
   "execution_count": 31,
   "metadata": {},
   "outputs": [
    {
     "name": "stdout",
     "output_type": "stream",
     "text": [
      "J a v i e False\n"
     ]
    }
   ],
   "source": [
    "print('J', 'a', 'v', 'i', 'e', 'r' == 6)"
   ]
  },
  {
   "cell_type": "code",
   "execution_count": 32,
   "metadata": {},
   "outputs": [
    {
     "name": "stdout",
     "output_type": "stream",
     "text": [
      "True\n"
     ]
    }
   ],
   "source": [
    "print(len(['J', 'a', 'v', 'i', 'e', 'r']) == 6)"
   ]
  },
  {
   "cell_type": "markdown",
   "metadata": {},
   "source": [
    "#### String"
   ]
  },
  {
   "cell_type": "code",
   "execution_count": 33,
   "metadata": {},
   "outputs": [
    {
     "name": "stdout",
     "output_type": "stream",
     "text": [
      "Hola\n",
      "Hola\n"
     ]
    }
   ],
   "source": [
    "# El símbolo \"#\" se usa para comentar dentro de celdas para códigos\n",
    "# Uso de (' '), (\" \"), (\\'), (\\\"), (\\n), (\\t)\n",
    "print('Hola')\n",
    "print(\"Hola\")"
   ]
  },
  {
   "cell_type": "code",
   "execution_count": 36,
   "metadata": {},
   "outputs": [
    {
     "name": "stdout",
     "output_type": "stream",
     "text": [
      "Yas'tas\n"
     ]
    }
   ],
   "source": [
    "print(\"Yas'tas\")"
   ]
  },
  {
   "cell_type": "code",
   "execution_count": 38,
   "metadata": {},
   "outputs": [
    {
     "ename": "SyntaxError",
     "evalue": "EOL while scanning string literal (<ipython-input-38-70c44a88b33b>, line 1)",
     "output_type": "error",
     "traceback": [
      "\u001b[0;36m  File \u001b[0;32m\"<ipython-input-38-70c44a88b33b>\"\u001b[0;36m, line \u001b[0;32m1\u001b[0m\n\u001b[0;31m    print('\u001b[0m\n\u001b[0m           ^\u001b[0m\n\u001b[0;31mSyntaxError\u001b[0m\u001b[0;31m:\u001b[0m EOL while scanning string literal\n"
     ]
    }
   ],
   "source": [
    "print('\n",
    "      Hola')"
   ]
  },
  {
   "cell_type": "code",
   "execution_count": 39,
   "metadata": {},
   "outputs": [
    {
     "name": "stdout",
     "output_type": "stream",
     "text": [
      "\n",
      "         Hola, espero que estes re-bien.\n",
      "         Ya comiste?\n"
     ]
    }
   ],
   "source": [
    "print(\"\"\"\n",
    "         Hola, espero que estes re-bien.\n",
    "         Ya comiste?\"\"\")\n",
    "      "
   ]
  },
  {
   "cell_type": "code",
   "execution_count": 40,
   "metadata": {},
   "outputs": [
    {
     "name": "stdout",
     "output_type": "stream",
     "text": [
      "\n",
      "añslkdjfañsljflñkdsa,\n",
      "asdñlkfakñdjflñkadsf\n",
      "jasñdkfjñalfghñsdfngñsdf\n"
     ]
    }
   ],
   "source": [
    "print(\"\"\"\n",
    "añslkdjfañsljflñkdsa,\n",
    "asdñlkfakñdjflñkadsf\n",
    "jasñdkfjñalfghñsdfngñsdf\"\"\")"
   ]
  },
  {
   "cell_type": "code",
   "execution_count": 44,
   "metadata": {},
   "outputs": [
    {
     "name": "stdout",
     "output_type": "stream",
     "text": [
      "He's Javier\n"
     ]
    }
   ],
   "source": [
    "print('He\\'s Javier')"
   ]
  },
  {
   "cell_type": "code",
   "execution_count": null,
   "metadata": {},
   "outputs": [],
   "source": [
    "print('He\\'s Javier')\n",
    "      \n",
    "print(\"He's Javier\")\n",
    "print(\"He\\'s Javier\")"
   ]
  },
  {
   "cell_type": "code",
   "execution_count": 46,
   "metadata": {},
   "outputs": [
    {
     "name": "stdout",
     "output_type": "stream",
     "text": [
      "Sorpresa\n"
     ]
    }
   ],
   "source": [
    "print(\"\"\"Sorpresa\"\"\")"
   ]
  },
  {
   "cell_type": "code",
   "execution_count": 49,
   "metadata": {},
   "outputs": [
    {
     "name": "stdout",
     "output_type": "stream",
     "text": [
      "Javier\n",
      "Villanueva\n"
     ]
    }
   ],
   "source": [
    "print('Javier\\nVillanueva')"
   ]
  },
  {
   "cell_type": "code",
   "execution_count": 51,
   "metadata": {},
   "outputs": [
    {
     "name": "stdout",
     "output_type": "stream",
     "text": [
      "Javier\tVillanueva\n"
     ]
    }
   ],
   "source": [
    "print('Javier\\tVillanueva')"
   ]
  },
  {
   "cell_type": "markdown",
   "metadata": {},
   "source": [
    "### Módulo IV: Contenedores\n",
    "#### La importancia de aprender sobre los contenedores reside en que el análisis de datos existen diferentes tipos de datos. Aprender a manejar listas equivale a manipular, estructurar, analizar y gráficar datos (los que sean).\n",
    "#### Listas"
   ]
  },
  {
   "cell_type": "code",
   "execution_count": 68,
   "metadata": {},
   "outputs": [],
   "source": [
    "lista = ['Javier', 'Villanueva', 2020, True, 6.7, 'Javier', 'Valle', 'Flora', 'Gabriel', 'Mayra', 'Olivia', 9, '9']"
   ]
  },
  {
   "cell_type": "code",
   "execution_count": 69,
   "metadata": {},
   "outputs": [
    {
     "data": {
      "text/plain": [
       "13"
      ]
     },
     "execution_count": 69,
     "metadata": {},
     "output_type": "execute_result"
    }
   ],
   "source": [
    "len(lista)"
   ]
  },
  {
   "cell_type": "code",
   "execution_count": 90,
   "metadata": {},
   "outputs": [],
   "source": [
    "lista_recorda = lista[1:6]"
   ]
  },
  {
   "cell_type": "code",
   "execution_count": 91,
   "metadata": {},
   "outputs": [
    {
     "name": "stdout",
     "output_type": "stream",
     "text": [
      "['Villanueva', 2020, True, 6.7, 'Javier']\n"
     ]
    }
   ],
   "source": [
    "print(lista_recorda)"
   ]
  },
  {
   "cell_type": "code",
   "execution_count": 93,
   "metadata": {},
   "outputs": [
    {
     "name": "stdout",
     "output_type": "stream",
     "text": [
      "['Javier', 'Villanueva', 2020, True, 6.7, 'Javier', 'Valle', 'Flora', 'Gabriel']\n"
     ]
    }
   ],
   "source": [
    "lista_alreves = lista[:-4]\n",
    "print(lista_alreves)"
   ]
  },
  {
   "cell_type": "code",
   "execution_count": 94,
   "metadata": {},
   "outputs": [
    {
     "data": {
      "text/plain": [
       "['Javier',\n",
       " 'Villanueva',\n",
       " 2020,\n",
       " True,\n",
       " 6.7,\n",
       " 'Javier',\n",
       " 'Valle',\n",
       " 'Flora',\n",
       " 'Gabriel']"
      ]
     },
     "execution_count": 94,
     "metadata": {},
     "output_type": "execute_result"
    }
   ],
   "source": [
    "lista[:-4]"
   ]
  },
  {
   "cell_type": "code",
   "execution_count": 102,
   "metadata": {},
   "outputs": [
    {
     "name": "stdout",
     "output_type": "stream",
     "text": [
      "El lugar 0 contiene Javier es de tipo <class 'str'>\n",
      "El lugar 1 contiene Villanueva es de tipo <class 'str'>\n",
      "El lugar 2 contiene 2020 es de tipo <class 'int'>\n",
      "El lugar 3 contiene True es de tipo <class 'bool'>\n",
      "El lugar 4 contiene 6.7 es de tipo <class 'float'>\n",
      "El lugar 5 contiene Javier es de tipo <class 'str'>\n",
      "El lugar 6 contiene Valle es de tipo <class 'str'>\n",
      "El lugar 7 contiene Flora es de tipo <class 'str'>\n",
      "El lugar 8 contiene Gabriel es de tipo <class 'str'>\n",
      "El lugar 9 contiene Mayra es de tipo <class 'str'>\n",
      "El lugar 10 contiene Olivia es de tipo <class 'str'>\n",
      "El lugar 11 contiene 9 es de tipo <class 'int'>\n",
      "El lugar 12 contiene 9 es de tipo <class 'str'>\n"
     ]
    }
   ],
   "source": [
    "lista = ['Javier', 'Villanueva', 2020, True, 6.7, 'Javier', 'Valle', 'Flora', 'Gabriel', 'Mayra', 'Olivia', 9, '9']\n",
    "\n",
    "for posición, contenido in enumerate(lista):\n",
    "    print('El lugar {} contiene {} es de tipo {}'.format(posición, contenido, type(contenido)))"
   ]
  },
  {
   "cell_type": "code",
   "execution_count": 104,
   "metadata": {},
   "outputs": [
    {
     "data": {
      "text/plain": [
       "'JavierJavierJavierJavierJavierJavierJavierJavierJavier'"
      ]
     },
     "execution_count": 104,
     "metadata": {},
     "output_type": "execute_result"
    }
   ],
   "source": [
    "lista[0] * lista[11]"
   ]
  },
  {
   "cell_type": "code",
   "execution_count": 73,
   "metadata": {},
   "outputs": [
    {
     "name": "stdout",
     "output_type": "stream",
     "text": [
      "En el 1 está Javier\n",
      "En el 2 está Villanueva\n",
      "En el 3 está 2020\n",
      "En el 4 está True\n",
      "En el 5 está 6.7\n",
      "En el 6 está Javier\n",
      "En el 7 está Valle\n",
      "En el 8 está Flora\n",
      "En el 9 está Gabriel\n",
      "En el 10 está Mayra\n",
      "En el 11 está Olivia\n",
      "En el 12 está 9\n",
      "En el 13 está 9\n"
     ]
    }
   ],
   "source": [
    "for posición, contenido in enumerate(lista, 1):\n",
    "    print('En el {} está {}'.format(posición, contenido))"
   ]
  },
  {
   "cell_type": "code",
   "execution_count": 74,
   "metadata": {},
   "outputs": [
    {
     "data": {
      "text/plain": [
       "'ñsdjflñaksdjflñaskfj'"
      ]
     },
     "execution_count": 74,
     "metadata": {},
     "output_type": "execute_result"
    }
   ],
   "source": [
    "'ñsdjflñaksdjflñaskfj'"
   ]
  },
  {
   "cell_type": "code",
   "execution_count": 107,
   "metadata": {},
   "outputs": [
    {
     "data": {
      "text/plain": [
       "'Hay 60 tomando la clase de python 20'"
      ]
     },
     "execution_count": 107,
     "metadata": {},
     "output_type": "execute_result"
    }
   ],
   "source": [
    "'Hay {} tomando la clase de python {}'.format(60, 20)"
   ]
  },
  {
   "cell_type": "code",
   "execution_count": null,
   "metadata": {},
   "outputs": [],
   "source": [
    "# capitalize, count, find, isalnum, isalpha, isdigit, islower, isupper, join, split, len, lower, upper, strip"
   ]
  },
  {
   "cell_type": "code",
   "execution_count": 154,
   "metadata": {},
   "outputs": [],
   "source": [
    "el_prof = 'Javier Villanueva sacó 6.7 en la Prepa'"
   ]
  },
  {
   "cell_type": "code",
   "execution_count": 118,
   "metadata": {},
   "outputs": [
    {
     "name": "stdout",
     "output_type": "stream",
     "text": [
      "javier Villanueva sacó 6.7 en la Prepa\n"
     ]
    }
   ],
   "source": [
    "print(el_prof)"
   ]
  },
  {
   "cell_type": "code",
   "execution_count": 119,
   "metadata": {},
   "outputs": [
    {
     "name": "stdout",
     "output_type": "stream",
     "text": [
      "Javier villanueva sacó 6.7 en la prepa\n"
     ]
    }
   ],
   "source": [
    "print(el_prof.capitalize())"
   ]
  },
  {
   "cell_type": "code",
   "execution_count": 120,
   "metadata": {},
   "outputs": [
    {
     "name": "stdout",
     "output_type": "stream",
     "text": [
      "6\n"
     ]
    }
   ],
   "source": [
    "print(el_prof.count('a'))"
   ]
  },
  {
   "cell_type": "code",
   "execution_count": 122,
   "metadata": {},
   "outputs": [
    {
     "name": "stdout",
     "output_type": "stream",
     "text": [
      "1\n"
     ]
    }
   ],
   "source": [
    "print(el_prof.find('a'))"
   ]
  },
  {
   "cell_type": "code",
   "execution_count": 125,
   "metadata": {},
   "outputs": [
    {
     "name": "stdout",
     "output_type": "stream",
     "text": [
      "16\n"
     ]
    }
   ],
   "source": [
    "print(el_prof.find('a', 12))"
   ]
  },
  {
   "cell_type": "code",
   "execution_count": 126,
   "metadata": {},
   "outputs": [
    {
     "name": "stdout",
     "output_type": "stream",
     "text": [
      "False\n"
     ]
    }
   ],
   "source": [
    "print(el_prof.isalnum())"
   ]
  },
  {
   "cell_type": "code",
   "execution_count": 134,
   "metadata": {},
   "outputs": [
    {
     "name": "stdout",
     "output_type": "stream",
     "text": [
      "False\n"
     ]
    }
   ],
   "source": [
    "print(el_prof.isalpha())"
   ]
  },
  {
   "cell_type": "code",
   "execution_count": 139,
   "metadata": {},
   "outputs": [
    {
     "name": "stdout",
     "output_type": "stream",
     "text": [
      "False\n"
     ]
    }
   ],
   "source": [
    "print(el_prof.isdigit())"
   ]
  },
  {
   "cell_type": "code",
   "execution_count": 144,
   "metadata": {},
   "outputs": [
    {
     "name": "stdout",
     "output_type": "stream",
     "text": [
      "True\n"
     ]
    }
   ],
   "source": [
    "print(el_prof.islower())"
   ]
  },
  {
   "cell_type": "code",
   "execution_count": 153,
   "metadata": {},
   "outputs": [
    {
     "name": "stdout",
     "output_type": "stream",
     "text": [
      "False\n"
     ]
    }
   ],
   "source": [
    "print(el_prof.isupper())"
   ]
  },
  {
   "cell_type": "code",
   "execution_count": 157,
   "metadata": {},
   "outputs": [],
   "source": [
    "el_prof = 'Javier Villanueva sacó 6.7 en la Prepa'"
   ]
  },
  {
   "cell_type": "code",
   "execution_count": 156,
   "metadata": {},
   "outputs": [
    {
     "ename": "TypeError",
     "evalue": "join() takes exactly one argument (0 given)",
     "output_type": "error",
     "traceback": [
      "\u001b[0;31m---------------------------------------------------------------------------\u001b[0m",
      "\u001b[0;31mTypeError\u001b[0m                                 Traceback (most recent call last)",
      "\u001b[0;32m<ipython-input-156-81b093ba4fe4>\u001b[0m in \u001b[0;36m<module>\u001b[0;34m\u001b[0m\n\u001b[0;32m----> 1\u001b[0;31m \u001b[0mprint\u001b[0m\u001b[0;34m(\u001b[0m\u001b[0mel_prof\u001b[0m\u001b[0;34m.\u001b[0m\u001b[0mjoin\u001b[0m\u001b[0;34m(\u001b[0m\u001b[0;34m)\u001b[0m\u001b[0;34m)\u001b[0m\u001b[0;34m\u001b[0m\u001b[0;34m\u001b[0m\u001b[0m\n\u001b[0m",
      "\u001b[0;31mTypeError\u001b[0m: join() takes exactly one argument (0 given)"
     ]
    }
   ],
   "source": [
    "print(el_prof.join())"
   ]
  },
  {
   "cell_type": "code",
   "execution_count": 158,
   "metadata": {},
   "outputs": [
    {
     "name": "stdout",
     "output_type": "stream",
     "text": [
      "J_a_v_i_e_r_ _V_i_l_l_a_n_u_e_v_a_ _s_a_c_ó_ _6_._7_ _e_n_ _l_a_ _P_r_e_p_a\n"
     ]
    }
   ],
   "source": [
    "print('_'.join(el_prof))"
   ]
  },
  {
   "cell_type": "code",
   "execution_count": 159,
   "metadata": {},
   "outputs": [
    {
     "name": "stdout",
     "output_type": "stream",
     "text": [
      "Javier Villanueva sacó 6.7 en la Prepa\n"
     ]
    }
   ],
   "source": [
    "# Original\n",
    "print(el_prof)"
   ]
  },
  {
   "cell_type": "code",
   "execution_count": 161,
   "metadata": {},
   "outputs": [
    {
     "name": "stdout",
     "output_type": "stream",
     "text": [
      "['J', 'a', 'v', 'i', 'e', 'r', ' ', 'V', 'i', 'l', 'l', 'a', 'n', 'u', 'e', 'v', 'a', ' ', 's', 'a', 'c', 'ó', ' ', '6', '.', '7', ' ', 'e', 'n', ' ', 'l', 'a', ' ', 'P', 'r', 'e', 'p', 'a']\n"
     ]
    }
   ],
   "source": [
    "print(list(el_prof))"
   ]
  },
  {
   "cell_type": "code",
   "execution_count": 162,
   "metadata": {},
   "outputs": [
    {
     "name": "stdout",
     "output_type": "stream",
     "text": [
      "['Javier', 'Villanueva', 'sacó', '6.7', 'en', 'la', 'Prepa']\n"
     ]
    }
   ],
   "source": [
    "print(el_prof.split(' '))"
   ]
  },
  {
   "cell_type": "code",
   "execution_count": 163,
   "metadata": {},
   "outputs": [],
   "source": [
    "el_prof_lista = el_prof.split()"
   ]
  },
  {
   "cell_type": "code",
   "execution_count": 165,
   "metadata": {},
   "outputs": [
    {
     "name": "stdout",
     "output_type": "stream",
     "text": [
      "['Javier', 'Villanueva', 'sacó', '6.7', 'en', 'la', 'Prepa']\n",
      "<class 'list'>\n"
     ]
    }
   ],
   "source": [
    "print(el_prof_lista)\n",
    "print(type(el_prof_lista))"
   ]
  },
  {
   "cell_type": "code",
   "execution_count": 166,
   "metadata": {},
   "outputs": [
    {
     "name": "stdout",
     "output_type": "stream",
     "text": [
      "Javier_Villanueva_sacó_6.7_en_la_Prepa\n"
     ]
    }
   ],
   "source": [
    "print('_'.join(el_prof_lista))"
   ]
  },
  {
   "cell_type": "code",
   "execution_count": 170,
   "metadata": {},
   "outputs": [],
   "source": [
    "el_prof = 'Javier Villanueva, sacó 6.7 en la Prepa'"
   ]
  },
  {
   "cell_type": "code",
   "execution_count": 171,
   "metadata": {},
   "outputs": [
    {
     "name": "stdout",
     "output_type": "stream",
     "text": [
      "['Javier Villanueva, sacó 6', '7 en la Prepa']\n"
     ]
    }
   ],
   "source": [
    "print(el_prof.split('.'))"
   ]
  },
  {
   "cell_type": "code",
   "execution_count": 174,
   "metadata": {},
   "outputs": [
    {
     "name": "stdout",
     "output_type": "stream",
     "text": [
      "['J', 'vier Vill', 'nuev', ', s', 'có 6.7 en l', ' Prep', '']\n"
     ]
    }
   ],
   "source": [
    "print(el_prof.split('a'))"
   ]
  },
  {
   "cell_type": "code",
   "execution_count": 176,
   "metadata": {},
   "outputs": [
    {
     "name": "stdout",
     "output_type": "stream",
     "text": [
      "['Javier', 'Villanueva,', 'sacó', '6.7', 'en', 'la', 'Prepa']\n"
     ]
    }
   ],
   "source": [
    "print(el_prof.split())"
   ]
  },
  {
   "cell_type": "code",
   "execution_count": 175,
   "metadata": {},
   "outputs": [
    {
     "name": "stdout",
     "output_type": "stream",
     "text": [
      "39\n"
     ]
    }
   ],
   "source": [
    "print(len(el_prof))"
   ]
  },
  {
   "cell_type": "code",
   "execution_count": 177,
   "metadata": {},
   "outputs": [
    {
     "name": "stdout",
     "output_type": "stream",
     "text": [
      "javier villanueva, sacó 6.7 en la prepa\n"
     ]
    }
   ],
   "source": [
    "print(el_prof.lower())"
   ]
  },
  {
   "cell_type": "code",
   "execution_count": 178,
   "metadata": {},
   "outputs": [
    {
     "name": "stdout",
     "output_type": "stream",
     "text": [
      "JAVIER VILLANUEVA, SACÓ 6.7 EN LA PREPA\n"
     ]
    }
   ],
   "source": [
    "print(el_prof.upper())"
   ]
  },
  {
   "cell_type": "code",
   "execution_count": 179,
   "metadata": {},
   "outputs": [
    {
     "name": "stdout",
     "output_type": "stream",
     "text": [
      "Javier Villanueva, sacó 6.7 en la Prepa\n"
     ]
    }
   ],
   "source": [
    "print(el_prof.strip())"
   ]
  },
  {
   "cell_type": "code",
   "execution_count": 186,
   "metadata": {},
   "outputs": [
    {
     "name": "stdout",
     "output_type": "stream",
     "text": [
      "Javier Villanueva tiene 5\n",
      "25\n",
      "     Javier Villanueva tiene 5      \n",
      "36\n"
     ]
    }
   ],
   "source": [
    "el_prof_sin_espacio_a_la_derecha_y_a_la_izquierda = 'Javier Villanueva tiene 5'\n",
    "print(el_prof_sin_espacio_a_la_derecha_y_a_la_izquierda)\n",
    "print(len(el_prof_sin_espacio_a_la_derecha_y_a_la_izquierda))\n",
    "\n",
    "el_prof_espaciado = '     Javier Villanueva tiene 5      '\n",
    "print(el_prof_espaciado)\n",
    "print(len(el_prof_espaciado))"
   ]
  },
  {
   "cell_type": "code",
   "execution_count": 188,
   "metadata": {},
   "outputs": [
    {
     "name": "stdout",
     "output_type": "stream",
     "text": [
      "Javier Villanueva tiene 5\n",
      "25\n"
     ]
    }
   ],
   "source": [
    "print(el_prof_espaciado.strip())\n",
    "print(len(el_prof_espaciado.strip()))"
   ]
  },
  {
   "cell_type": "code",
   "execution_count": null,
   "metadata": {},
   "outputs": [],
   "source": [
    "# Contar elementos (len())\n",
    "# Seleccionar elementos de la lista (Desdel el inicio y desde el Final)\n",
    "# len() aninado lista[-len(lista)]\n",
    "\n",
    "# Agregar nuevo elemento a la lista (.append())\n",
    "\n",
    "# Sustituir elementos lista[0] = 'Javi'\n",
    "\n",
    "# Conteo de un mismo elemento dentro de la lista (.count(\"elemento\"))\n",
    "\n",
    "# Extender la lista (.extend(range(1, 5)); .extend(4); .extend(\"siempre debe de ser un iterador\"))\n",
    "\n",
    "# Saber el lugar del elemento dentro de la lista (.index(); .index('Javier', 1) a partir de ese lugar buscar)\n",
    "\n",
    "# Insertar elementos en el lugar que queremos (.insert(\"lugar del elemento a insertar\", \"Elemento a insertar\"))\n",
    "\n",
    "# Listas dentro de otras listas (lista.append(['Valle', 665.999]))"
   ]
  },
  {
   "cell_type": "code",
   "execution_count": 189,
   "metadata": {},
   "outputs": [
    {
     "data": {
      "text/plain": [
       "['Python', 'para', 'Psicólogos', 'y', 'los', 'no', 'programadores']"
      ]
     },
     "execution_count": 189,
     "metadata": {},
     "output_type": "execute_result"
    }
   ],
   "source": [
    "nombre = 'Python para Psicólogos y los no programadores'\n",
    "dir_trabajo_windows = '\\Javier\\Document\\Final\\Final\\Trabajo ultimisimo.docx' \n",
    "dir_trabajo_unix = '/Javier/Document/Final/Final/Trabajo ultimisimo.docx'\n",
    "\n",
    "# Separar string (cadenas) para generar listas (.split())\n",
    "nombre.split(' ')"
   ]
  },
  {
   "cell_type": "code",
   "execution_count": 191,
   "metadata": {},
   "outputs": [
    {
     "data": {
      "text/plain": [
       "['', 'Javier', 'Document', 'Final', 'Final', 'Trabajo ultimisimo.docx']"
      ]
     },
     "execution_count": 191,
     "metadata": {},
     "output_type": "execute_result"
    }
   ],
   "source": [
    "dir_trabajo_windows.split('\\\\''')"
   ]
  },
  {
   "cell_type": "code",
   "execution_count": 203,
   "metadata": {},
   "outputs": [
    {
     "data": {
      "text/plain": [
       "list"
      ]
     },
     "execution_count": 203,
     "metadata": {},
     "output_type": "execute_result"
    }
   ],
   "source": [
    "nombre = ['Javier Villanueva Valle']\n",
    "#print(nombre.split(' '))\n",
    "type(nombre)"
   ]
  },
  {
   "cell_type": "code",
   "execution_count": 204,
   "metadata": {},
   "outputs": [
    {
     "data": {
      "text/plain": [
       "\"['Javier Villanueva Valle']\""
      ]
     },
     "execution_count": 204,
     "metadata": {},
     "output_type": "execute_result"
    }
   ],
   "source": [
    "nombre = str(nombre)\n",
    "#type(nombre)\n",
    "nombre"
   ]
  },
  {
   "cell_type": "code",
   "execution_count": 205,
   "metadata": {},
   "outputs": [
    {
     "data": {
      "text/plain": [
       "\"'Javier Villanueva Valle'\""
      ]
     },
     "execution_count": 205,
     "metadata": {},
     "output_type": "execute_result"
    }
   ],
   "source": [
    "nombre = nombre.strip('[]')\n",
    "nombre"
   ]
  },
  {
   "cell_type": "code",
   "execution_count": 206,
   "metadata": {},
   "outputs": [
    {
     "data": {
      "text/plain": [
       "[\"'Javier\", 'Villanueva', \"Valle'\"]"
      ]
     },
     "execution_count": 206,
     "metadata": {},
     "output_type": "execute_result"
    }
   ],
   "source": [
    "nombre = nombre.split(' ')\n",
    "nombre"
   ]
  },
  {
   "cell_type": "code",
   "execution_count": 207,
   "metadata": {},
   "outputs": [
    {
     "data": {
      "text/plain": [
       "\"'Javier\""
      ]
     },
     "execution_count": 207,
     "metadata": {},
     "output_type": "execute_result"
    }
   ],
   "source": [
    "primer_nombre = nombre[0]\n",
    "primer_nombre"
   ]
  },
  {
   "cell_type": "code",
   "execution_count": 210,
   "metadata": {},
   "outputs": [],
   "source": [
    "primer_nombre = primer_nombre.strip(\"''\")"
   ]
  },
  {
   "cell_type": "code",
   "execution_count": 211,
   "metadata": {},
   "outputs": [
    {
     "data": {
      "text/plain": [
       "'Javier'"
      ]
     },
     "execution_count": 211,
     "metadata": {},
     "output_type": "execute_result"
    }
   ],
   "source": [
    "primer_nombre"
   ]
  },
  {
   "cell_type": "code",
   "execution_count": 212,
   "metadata": {},
   "outputs": [
    {
     "data": {
      "text/plain": [
       "str"
      ]
     },
     "execution_count": 212,
     "metadata": {},
     "output_type": "execute_result"
    }
   ],
   "source": [
    "type(primer_nombre)"
   ]
  },
  {
   "cell_type": "code",
   "execution_count": 215,
   "metadata": {},
   "outputs": [],
   "source": [
    "primer_nombre = primer_nombre.strip()"
   ]
  },
  {
   "cell_type": "code",
   "execution_count": 216,
   "metadata": {},
   "outputs": [
    {
     "data": {
      "text/plain": [
       "'Javier'"
      ]
     },
     "execution_count": 216,
     "metadata": {},
     "output_type": "execute_result"
    }
   ],
   "source": [
    "primer_nombre"
   ]
  },
  {
   "cell_type": "code",
   "execution_count": 217,
   "metadata": {},
   "outputs": [],
   "source": [
    "primer_nombre = primer_nombre + ' ' + 'Villanueva'"
   ]
  },
  {
   "cell_type": "code",
   "execution_count": 218,
   "metadata": {},
   "outputs": [
    {
     "data": {
      "text/plain": [
       "'Javier Villanueva'"
      ]
     },
     "execution_count": 218,
     "metadata": {},
     "output_type": "execute_result"
    }
   ],
   "source": [
    "primer_nombre"
   ]
  },
  {
   "cell_type": "markdown",
   "metadata": {},
   "source": [
    "##### set()"
   ]
  },
  {
   "cell_type": "code",
   "execution_count": null,
   "metadata": {},
   "outputs": [],
   "source": [
    "obj = ['c', 'u', 'r', 's', 'o', ' ', 'd', 'e', ' ', 'p', 'y', 't', 'h', 'o', 'n', ' ',\n",
    "       'f', 'á', 'c', 'i', 'l', ' ', 'y', ' ', 'p', 'r', 'á', 'c', 't', 'i', 'c', 'o']\n",
    "print(set(obj))\n",
    "print(''.join(obj))"
   ]
  },
  {
   "cell_type": "markdown",
   "metadata": {},
   "source": [
    "##### union, intersection, difference"
   ]
  },
  {
   "cell_type": "markdown",
   "metadata": {},
   "source": [
    "![Union](https://media.geeksforgeeks.org/wp-content/cdn-uploads/Union-in-python.jpg)\n",
    "![Intersection](https://media.geeksforgeeks.org/wp-content/cdn-uploads/intersection-in-python.jpg)\n",
    "![Difference](https://media.geeksforgeeks.org/wp-content/cdn-uploads/set-difference.jpg)"
   ]
  },
  {
   "cell_type": "code",
   "execution_count": null,
   "metadata": {},
   "outputs": [],
   "source": [
    "a = set('curso')\n",
    "b = set('python')\n",
    "\n",
    "print(a.union(b))\n",
    "print(a.intersection(b))\n",
    "print(a.difference(b))"
   ]
  },
  {
   "cell_type": "markdown",
   "metadata": {},
   "source": [
    "##### eval()"
   ]
  },
  {
   "cell_type": "code",
   "execution_count": null,
   "metadata": {},
   "outputs": [],
   "source": [
    "uno = eval('[2, 4, 6, 8]')\n",
    "dos = eval('max([1, 3, 5, 7, 9])')\n",
    "\n",
    "print(type(uno))\n",
    "print(dos)"
   ]
  },
  {
   "cell_type": "markdown",
   "metadata": {},
   "source": [
    "### ¿Qué es la función \"lambda\"?\n",
    "![lambda](https://media1.tenor.com/images/76dceaeec08bbc48debd5a28e35d5839/tenor.gif?itemid=12147563)"
   ]
  },
  {
   "cell_type": "markdown",
   "metadata": {},
   "source": [
    "#### Esa \"lambda\" tan servicial y anónima"
   ]
  },
  {
   "cell_type": "code",
   "execution_count": 219,
   "metadata": {},
   "outputs": [
    {
     "name": "stdout",
     "output_type": "stream",
     "text": [
      "4040\n"
     ]
    }
   ],
   "source": [
    "doble = lambda x: x * 2\n",
    "print(doble(2020))"
   ]
  },
  {
   "cell_type": "code",
   "execution_count": null,
   "metadata": {},
   "outputs": [],
   "source": [
    "x = lambda a : a + 10\n",
    "print(x(2020))"
   ]
  },
  {
   "cell_type": "code",
   "execution_count": null,
   "metadata": {},
   "outputs": [],
   "source": [
    "x = lambda a, b : a * b\n",
    "print(x(20, 21))"
   ]
  },
  {
   "cell_type": "code",
   "execution_count": null,
   "metadata": {},
   "outputs": [],
   "source": [
    "x = lambda a, b, c : a + b + c\n",
    "print(x(20, 21, 22))"
   ]
  },
  {
   "cell_type": "markdown",
   "metadata": {},
   "source": [
    "##### sorted()"
   ]
  },
  {
   "cell_type": "code",
   "execution_count": null,
   "metadata": {},
   "outputs": [],
   "source": [
    "ordenado = sorted([9, 1, 8, 2, 7, 3, 6, 4, 5])\n",
    "print(ordenado)\n",
    "\n",
    "al_reves = sorted([9, 1, 8, 2, 7, 3, 6, 4, 5], reverse=True)\n",
    "print(al_reves)\n",
    "\n",
    "# Introduciendo cosas nuevas\n",
    "## lambda: función anónima\n",
    "## len: conteo de elementos\n",
    "palabras = ['cerebro', 'mente', 'dualidad', 'pensamiento', 'pasión', 'enojo', 'alegría']\n",
    "print(len(palabras))\n",
    "\n",
    "orden = sorted(palabras, key=lambda x:len(x))\n",
    "print(orden)"
   ]
  },
  {
   "cell_type": "markdown",
   "metadata": {},
   "source": [
    "##### reversed()"
   ]
  },
  {
   "cell_type": "code",
   "execution_count": null,
   "metadata": {},
   "outputs": [],
   "source": [
    "uno = reversed('abcdehij')\n",
    "print(uno)\n",
    "print(list(uno))\n",
    "\n",
    "dos = reversed([2, 4, 6, 8, 10, 12, 14, 16])\n",
    "print(dos)\n",
    "print(list(dos))"
   ]
  },
  {
   "cell_type": "markdown",
   "metadata": {},
   "source": [
    "##### map()"
   ]
  },
  {
   "cell_type": "code",
   "execution_count": null,
   "metadata": {},
   "outputs": [],
   "source": [
    "palabras = ['cerebro', 'mente', 'dualidad', 'pensamiento', 'pasión', 'enojo', 'alegría']\n",
    "mayusculas = map(lambda x:x.upper(), palabras)\n",
    "print(mayusculas)\n",
    "print(list(mayusculas))\n",
    "\n",
    "nums = [2, 4, 6, 8]\n",
    "expo = map(lambda x:x*x, nums)\n",
    "print(expo)\n",
    "print(list(expo))"
   ]
  },
  {
   "cell_type": "markdown",
   "metadata": {},
   "source": [
    "##### filter()"
   ]
  },
  {
   "cell_type": "code",
   "execution_count": null,
   "metadata": {},
   "outputs": [],
   "source": [
    "nums = [1, 2, 3, 4, 5, 6, 7, 8, 9]\n",
    "filtrado = filter(lambda x:x%2 != 0, nums)\n",
    "print(filtrado)\n",
    "print(list(filtrado))\n",
    "\n",
    "palabras = ['cerebro', 'mente', 'dualidad', 'pensamiento', 'pasión', 'enojo', 'alegría']\n",
    "letra_filtrada = filter(lambda x:'b' in x, palabras)\n",
    "print(letra_filtrada)\n",
    "print(list(letra_filtrada))"
   ]
  },
  {
   "cell_type": "markdown",
   "metadata": {},
   "source": [
    "##### enumerate()"
   ]
  },
  {
   "cell_type": "code",
   "execution_count": null,
   "metadata": {},
   "outputs": [],
   "source": [
    "palabras = ['cerebro', 'mente', 'dualidad', 'pensamiento', 'pasión', 'enojo', 'alegría']\n",
    "for i, j in enumerate(palabras):\n",
    "    print(i, j)\n",
    "\n",
    "lista = enumerate(palabras)\n",
    "print(list(lista))"
   ]
  },
  {
   "cell_type": "markdown",
   "metadata": {},
   "source": [
    "#### Tuplas"
   ]
  },
  {
   "cell_type": "code",
   "execution_count": null,
   "metadata": {},
   "outputs": [],
   "source": [
    "# Las tuplas son objetos de tipo secuencia, específicamente es un tipo de dato lista inmutable. \n",
    "# Esta no puede modificarse de ningún modo después de su creación.\n",
    "\n",
    "software = ('Python', 30, 'C++', True)"
   ]
  },
  {
   "cell_type": "code",
   "execution_count": null,
   "metadata": {},
   "outputs": [],
   "source": [
    "print('El elemento \"{}\" se repite {} vez'.format(software[0], software.count(software[0])))\n",
    "print('El elemento \"{}\" está en el lugar {}'.format(software[0], software.index(software[0])))"
   ]
  },
  {
   "cell_type": "code",
   "execution_count": null,
   "metadata": {},
   "outputs": [],
   "source": [
    "tupla1 = sorted((4, 1, 9, 3), reverse=True)\n",
    "print(tupla1)\n",
    "\n",
    "## Trucazo. Se puede ordenar la la tupla dentro de la lista de acuerdo a la posición del elemento dentro de la tupla\n",
    "tupla2 = [('A', 1, 5), ('B', 3, 2), ('C', 2, 6)]\n",
    "tupla2_ordenada = sorted(tupla2, key=lambda x:x[1])\n",
    "print(tupla2_ordenada)\n",
    "\n",
    "otra_tupla_ordenada = sorted(palabras, key=lambda x:len(x))\n",
    "print(otra_tupla_ordenada)"
   ]
  },
  {
   "cell_type": "markdown",
   "metadata": {},
   "source": [
    "#### Diccionarios"
   ]
  },
  {
   "cell_type": "code",
   "execution_count": null,
   "metadata": {},
   "outputs": [],
   "source": [
    "curso = {'¿Qué curso es?':'Python para los no programadores',\n",
    "         '¿Quién da el curso?':'Javier',\n",
    "         '¿Cuántos alumnos hay?':1000,\n",
    "         '¿Calificación para pasar el curso?':[8.7, 9.3, 9.9],\n",
    "         '¿Es verdadero este curso?':True,\n",
    "         '¿El curso cumple con las espectativas?':None}"
   ]
  },
  {
   "cell_type": "code",
   "execution_count": null,
   "metadata": {},
   "outputs": [],
   "source": [
    "curso['¿Qué curso es?']\n",
    "curso['¿Quién da el curso?']\n",
    "curso['¿Cuántos alumnos hay?']\n",
    "curso['¿Calificación para pasar el curso?']\n",
    "curso['¿Es verdadero este curso?']\n",
    "curso['¿El curso cumple con las espectativas?']"
   ]
  },
  {
   "cell_type": "code",
   "execution_count": null,
   "metadata": {},
   "outputs": [],
   "source": [
    "print(curso.items())\n",
    "print(curso.keys())\n",
    "print(curso.values())\n",
    "\n",
    "## Agregar valores al diccionario\n",
    "curso.update({'¿Los participantes están contentos?':'Si'})"
   ]
  },
  {
   "cell_type": "markdown",
   "metadata": {},
   "source": [
    "#### El TodoPoderoso bucle \"FOR\" con el inigualable condicional \"IF\" y el convenenciero \"WHILE\""
   ]
  },
  {
   "cell_type": "markdown",
   "metadata": {},
   "source": [
    "###### ¿Qué es un iterador? Un iterador se refiere al objeto que permite al programador recorrer un contenedor, particularmente listas."
   ]
  },
  {
   "cell_type": "code",
   "execution_count": null,
   "metadata": {},
   "outputs": [],
   "source": [
    "palabras = ['cerebro', 'mente', 'dualidad', 'pensamiento', 'pasión', 'enojo', 'alegría']\n",
    "\n",
    "iterador = iter(palabras)\n",
    "\n",
    "print(next(iterador))\n",
    "print(next(iterador))\n",
    "print(next(iterador))\n",
    "print(next(iterador))"
   ]
  },
  {
   "cell_type": "code",
   "execution_count": null,
   "metadata": {},
   "outputs": [],
   "source": [
    "palabras = ['cerebro', 'mente', 'dualidad', 'pensamiento', 'pasión', 'enojo', 'alegría']\n",
    "\n",
    "for palabra in palabras:\n",
    "    print(palabra)"
   ]
  },
  {
   "cell_type": "code",
   "execution_count": null,
   "metadata": {},
   "outputs": [],
   "source": [
    "# También aplicamos el bucle \"for\" a los diccionarios\n",
    "\n",
    "otras_palabras = {'cerebro': 1, 'mente': 2, 'dualidad': 3, 'pensamiento':4, 'pasión':5, 'enojo':6, 'alegría':7}\n",
    "\n",
    "for keys in otras_palabras:\n",
    "    print(keys)"
   ]
  },
  {
   "cell_type": "code",
   "execution_count": null,
   "metadata": {},
   "outputs": [],
   "source": [
    "for keys in otras_palabras:\n",
    "    print(otras_palabras[keys])"
   ]
  },
  {
   "cell_type": "code",
   "execution_count": null,
   "metadata": {},
   "outputs": [],
   "source": [
    "for valores in otras_palabras.values():\n",
    "    print(valores)"
   ]
  },
  {
   "cell_type": "code",
   "execution_count": null,
   "metadata": {},
   "outputs": [],
   "source": [
    "for k, v in otras_palabras.items():\n",
    "    print('keys = {}, valor = {}'.format(k, v))"
   ]
  },
  {
   "cell_type": "code",
   "execution_count": null,
   "metadata": {},
   "outputs": [],
   "source": [
    "for n in range(0, 51, 2):\n",
    "    print(n)"
   ]
  },
  {
   "cell_type": "code",
   "execution_count": null,
   "metadata": {},
   "outputs": [],
   "source": [
    "num = [n for n in range(0, 51, 2)]\n",
    "print(num)"
   ]
  },
  {
   "cell_type": "code",
   "execution_count": null,
   "metadata": {},
   "outputs": [],
   "source": [
    "# funcion \"range\"\n",
    "for n in range(-5, 5):\n",
    "    print(n)"
   ]
  },
  {
   "cell_type": "code",
   "execution_count": null,
   "metadata": {},
   "outputs": [],
   "source": [
    "otro_num = map(lambda x:x*x, num)\n",
    "print(list(otro_num))"
   ]
  },
  {
   "cell_type": "code",
   "execution_count": null,
   "metadata": {},
   "outputs": [],
   "source": [
    "vocal = [v for v in 'Javier Villanueva Valle' if v in 'aeiou']\n",
    "print(vocal)"
   ]
  },
  {
   "cell_type": "code",
   "execution_count": null,
   "metadata": {},
   "outputs": [],
   "source": [
    "vocales = 'aeiou'\n",
    "for v in 'Javier Villanueva Valle':\n",
    "    if v in vocales:\n",
    "        print(v, end='.')\n",
    "\n",
    "for v in 'Javier Villanueva Valle':\n",
    "    if v in 'aeiou':\n",
    "        print(v, end=',')"
   ]
  },
  {
   "cell_type": "markdown",
   "metadata": {},
   "source": [
    "###### Condicional \"if\""
   ]
  },
  {
   "cell_type": "code",
   "execution_count": null,
   "metadata": {},
   "outputs": [],
   "source": [
    "x = 0\n",
    "y = 5\n",
    "\n",
    "if x < y:                            # Verdadero\n",
    "    print('si')\n",
    "\n",
    "\n",
    "if y < x:                            # Falso\n",
    "    print('si')\n",
    "\n",
    "\n",
    "if x:                                # Falso\n",
    "    print('si')\n",
    "\n",
    "if y:                                # Verdadero\n",
    "    print('si')\n",
    "\n",
    "\n",
    "\n",
    "if x or y:                           # Verdadero\n",
    "    print('si')\n",
    "\n",
    "\n",
    "if x and y:                          # Falso\n",
    "    print('si')\n",
    "\n",
    "\n",
    "if 'aie' in 'Javier':                # Verdadero\n",
    "    print('si')\n",
    "\n",
    "\n",
    "if 'libertad' in ['cerebro', 'mente', 'dualidad', 'pensamiento', 'pasión', 'enojo', 'alegría']:  # Falso\n",
    "    print('si')"
   ]
  },
  {
   "cell_type": "code",
   "execution_count": null,
   "metadata": {},
   "outputs": [],
   "source": [
    "if 'libertad' in ['cerebro', 'mente', 'dualidad', 'pensamiento', 'pasión', 'enojo', 'alegría']:\n",
    "    print('La expresión es verdadera')\n",
    "    print('Ejecutando la condición en la lista')\n",
    "    print('...')\n",
    "    print('Hecho.')\n",
    "print('Después de la condicional')"
   ]
  },
  {
   "cell_type": "code",
   "execution_count": null,
   "metadata": {},
   "outputs": [],
   "source": [
    "# Does line execute?                            Si    No\n",
    "#                                              ---    --\n",
    "if 'foo' in ['foo', 'bar', 'baz']:           #  x\n",
    "    print('Condicional es True')             #  x\n",
    "\n",
    "    if 10 > 20:                              #  x\n",
    "        print('Condición interna 1')         #        x\n",
    "\n",
    "    print('Entre las condiciones Internas')  #  x\n",
    "\n",
    "    if 10 < 20:                              #  x\n",
    "        print('Condición interna 2')         #  x\n",
    "\n",
    "    print('Fin de la 1ra condición')         #  x\n",
    "print('Después de la 1ra condición')         #  x"
   ]
  },
  {
   "cell_type": "code",
   "execution_count": null,
   "metadata": {},
   "outputs": [],
   "source": [
    "x = 20\n",
    "\n",
    "if x < 50:\n",
    "    print('(1er conjunto)')\n",
    "    print('x es pequeño')\n",
    "else:\n",
    "    print('(2do conjunto)')\n",
    "    print('x es grande')\n",
    "    \n",
    "## ¿Cómo le hacemos para que se cumpla la segunda condición?"
   ]
  },
  {
   "cell_type": "code",
   "execution_count": null,
   "metadata": {},
   "outputs": [],
   "source": [
    "name = 'Haydeé'\n",
    "if name == 'Haydeé':\n",
    "    print('Hola Haydeé')\n",
    "elif name == 'Olivia':\n",
    "    print('Hola Olivia')\n",
    "elif name == 'Luis':\n",
    "    print('Hola Luis')\n",
    "elif name == 'Mayra':\n",
    "    print('Hola Mayra')\n",
    "elif name == 'Josué':\n",
    "    print('Hola Josué')\n",
    "elif name == 'Gabriel':\n",
    "    print('Hola Gabriel')\n",
    "else:\n",
    "    print(\"¡No tengo ni la más remota idea de quien seas!\")"
   ]
  },
  {
   "cell_type": "code",
   "execution_count": null,
   "metadata": {},
   "outputs": [],
   "source": [
    "if 'P' in 'Python': print('1'); print('2'); print('3')"
   ]
  },
  {
   "cell_type": "code",
   "execution_count": null,
   "metadata": {},
   "outputs": [],
   "source": [
    "if 'a' in 'Python': print('1'); print('2'); print('3')"
   ]
  },
  {
   "cell_type": "code",
   "execution_count": null,
   "metadata": {},
   "outputs": [],
   "source": [
    "x = 3\n",
    "if x == 1: print('Curso'); print('de'); print('Python')\n",
    "elif x == 2: print('Para'); print('Principiantes')\n",
    "else: print('Julia'); print('R')"
   ]
  },
  {
   "cell_type": "code",
   "execution_count": null,
   "metadata": {},
   "outputs": [],
   "source": [
    "# Con operadores aritméticos\n",
    "edad = 12\n",
    "s = 'Menor' if edad < 21 else 'Adulto'\n",
    "print(s)"
   ]
  },
  {
   "cell_type": "code",
   "execution_count": null,
   "metadata": {},
   "outputs": [],
   "source": [
    "if True:\n",
    "print('foo')"
   ]
  },
  {
   "cell_type": "code",
   "execution_count": null,
   "metadata": {},
   "outputs": [],
   "source": [
    "x = 3\n",
    "if x == 1: \n",
    "    print('Curso') \n",
    "    print('de') \n",
    "    print('Python')\n",
    "elif x == 2: \n",
    "    print('Para')\n",
    "    print('Principiantes')\n",
    "else: \n",
    "    print('Julia')\n",
    "    print('R')"
   ]
  },
  {
   "cell_type": "markdown",
   "metadata": {},
   "source": [
    "###### Bucle \"while\""
   ]
  },
  {
   "cell_type": "code",
   "execution_count": null,
   "metadata": {},
   "outputs": [],
   "source": [
    "i = 1\n",
    "while i < 6:\n",
    "    print(i, end=',')\n",
    "    i += 1"
   ]
  },
  {
   "cell_type": "code",
   "execution_count": null,
   "metadata": {},
   "outputs": [],
   "source": [
    "n = 5\n",
    "while n > 0:\n",
    "    n -= 1\n",
    "    print(n)"
   ]
  },
  {
   "cell_type": "code",
   "execution_count": null,
   "metadata": {},
   "outputs": [],
   "source": [
    "n = 0\n",
    "while n > 0:\n",
    "    n -= 1\n",
    "    print(n)"
   ]
  },
  {
   "cell_type": "code",
   "execution_count": null,
   "metadata": {},
   "outputs": [],
   "source": [
    "a = ['foo', 'bar', 'baz']\n",
    "while a:\n",
    "    print(a.pop(-1))"
   ]
  },
  {
   "cell_type": "code",
   "execution_count": null,
   "metadata": {},
   "outputs": [],
   "source": [
    "n = 5\n",
    "while n > 0:\n",
    "    n -= 1\n",
    "    if n == 2:\n",
    "        break\n",
    "    print(n)\n",
    "print('Ciclo terminado.')"
   ]
  },
  {
   "cell_type": "code",
   "execution_count": null,
   "metadata": {},
   "outputs": [],
   "source": [
    "n = 5\n",
    "while n > 0:\n",
    "    n -= 1\n",
    "    if n == 2:\n",
    "        continue\n",
    "    print(n)\n",
    "print('Ciclo terminado.')"
   ]
  },
  {
   "cell_type": "code",
   "execution_count": null,
   "metadata": {},
   "outputs": [],
   "source": [
    "n = 5\n",
    "while n > 0:\n",
    "    n -= 1\n",
    "    print(n)\n",
    "else:\n",
    "    print('Ciclo terminado.')"
   ]
  },
  {
   "cell_type": "code",
   "execution_count": null,
   "metadata": {},
   "outputs": [],
   "source": [
    "while n > 0:\n",
    "    n -= 1\n",
    "    print(n)\n",
    "    if n == 2:\n",
    "        break\n",
    "else:\n",
    "    print('Ciclo terminado.')"
   ]
  },
  {
   "cell_type": "code",
   "execution_count": null,
   "metadata": {},
   "outputs": [],
   "source": [
    "a = ['cerebro', 'mente', 'dualidad', 'pensamiento', 'pasión', 'enojo', 'alegría']\n",
    "s = 'libertad'\n",
    "\n",
    "i = 0\n",
    "while i < len(a):\n",
    "    if a[i] == s:\n",
    "        # Se está buscando la palabra declarada en \"s\"\n",
    "        break\n",
    "    i += 1\n",
    "else:\n",
    "    # Cuando no se encuentra la palabra declarada en \"s\"\n",
    "    print(s, 'no se encontró en la lista.')"
   ]
  },
  {
   "cell_type": "code",
   "execution_count": null,
   "metadata": {},
   "outputs": [],
   "source": [
    "# Mientras cumpla con la condición y lo detengas (break) se convertirá en un ciclo infinito\n",
    "while True:\n",
    "    print('foo')"
   ]
  },
  {
   "cell_type": "code",
   "execution_count": null,
   "metadata": {},
   "outputs": [],
   "source": [
    "# También se puede en una sola linea\n",
    "n = 5\n",
    "while n > 0: n -= 1; print(n)"
   ]
  },
  {
   "cell_type": "markdown",
   "metadata": {},
   "source": [
    "### Integración"
   ]
  },
  {
   "cell_type": "code",
   "execution_count": null,
   "metadata": {},
   "outputs": [],
   "source": [
    "num_aleatorios = range(0, 100)\n",
    "for num in list(num_aleatorios):\n",
    "    if (num % 2 == 0):\n",
    "        print('El número {} es par'.format(num))\n",
    "    elif (num % 5 == 0):\n",
    "        print('El número {} entre 5 tiene de residuo 0'.format(num))\n",
    "    elif (num % 5 == 0):\n",
    "        print('El número {} entre 5 es igual a {} y tiene como residuo {}'.format(num, num*5, num%5))"
   ]
  },
  {
   "cell_type": "code",
   "execution_count": null,
   "metadata": {},
   "outputs": [],
   "source": [
    "##### Índice de Masa Corporal\n",
    "## IMC = peso/estatura al cuadrado\n",
    "# Bajo de Peso -> Igual o menor a 18.4\n",
    "#       Normal -> 18.5 a 24.9\n",
    "#    Sobrepeso -> 25 a 29.9\n",
    "#     Obesidad -> Mayor o igual a 30\n",
    "##### Usando todo lo aprendido \n",
    "peso = 100\n",
    "estatura = 1.80"
   ]
  },
  {
   "cell_type": "code",
   "execution_count": null,
   "metadata": {},
   "outputs": [],
   "source": []
  }
 ],
 "metadata": {
  "kernelspec": {
   "display_name": "Python 3",
   "language": "python",
   "name": "python3"
  },
  "language_info": {
   "codemirror_mode": {
    "name": "ipython",
    "version": 3
   },
   "file_extension": ".py",
   "mimetype": "text/x-python",
   "name": "python",
   "nbconvert_exporter": "python",
   "pygments_lexer": "ipython3",
   "version": "3.7.7"
  }
 },
 "nbformat": 4,
 "nbformat_minor": 4
}
